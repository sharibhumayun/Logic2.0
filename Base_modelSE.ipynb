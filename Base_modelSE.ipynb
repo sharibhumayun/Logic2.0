{
  "nbformat": 4,
  "nbformat_minor": 0,
  "metadata": {
    "colab": {
      "name": "Base model.ipynb",
      "provenance": [],
      "collapsed_sections": [],
      "authorship_tag": "ABX9TyNThRqfxPG8/Q0RzYszaRNi",
      "include_colab_link": true
    },
    "kernelspec": {
      "name": "python3",
      "display_name": "Python 3"
    }
  },
  "cells": [
    {
      "cell_type": "markdown",
      "metadata": {
        "id": "view-in-github",
        "colab_type": "text"
      },
      "source": [
        "<a href=\"https://colab.research.google.com/github/sharibhumayun/Logic2.0/blob/main/Base_modelSE.ipynb\" target=\"_parent\"><img src=\"https://colab.research.google.com/assets/colab-badge.svg\" alt=\"Open In Colab\"/></a>"
      ]
    },
    {
      "cell_type": "code",
      "metadata": {
        "id": "sveRcIknIOG9"
      },
      "source": [
        "import pandas as pd\r\n",
        "import numpy as np\r\n",
        "import seaborn as sns\r\n",
        "import matplotlib as mpl \r\n",
        "import matplotlib.pyplot as plt"
      ],
      "execution_count": 5,
      "outputs": []
    },
    {
      "cell_type": "code",
      "metadata": {
        "colab": {
          "base_uri": "https://localhost:8080/",
          "height": 258
        },
        "id": "JoA6SxuJIUxQ",
        "outputId": "4b6fc43e-25bb-4c6a-aa8c-959f3727b550"
      },
      "source": [
        "path = 'https://raw.githubusercontent.com/sharibhumayun/Logic2.0/main/MasterDatabase-%20SE%20Only.csv'\r\n",
        "\r\n",
        "df = pd.read_csv(path)\r\n",
        "df.head()"
      ],
      "execution_count": 6,
      "outputs": [
        {
          "output_type": "execute_result",
          "data": {
            "text/html": [
              "<div>\n",
              "<style scoped>\n",
              "    .dataframe tbody tr th:only-of-type {\n",
              "        vertical-align: middle;\n",
              "    }\n",
              "\n",
              "    .dataframe tbody tr th {\n",
              "        vertical-align: top;\n",
              "    }\n",
              "\n",
              "    .dataframe thead th {\n",
              "        text-align: right;\n",
              "    }\n",
              "</style>\n",
              "<table border=\"1\" class=\"dataframe\">\n",
              "  <thead>\n",
              "    <tr style=\"text-align: right;\">\n",
              "      <th></th>\n",
              "      <th>Current_connection</th>\n",
              "      <th>City</th>\n",
              "      <th>Region</th>\n",
              "      <th>Nationality</th>\n",
              "      <th>Gender</th>\n",
              "      <th>Exact_Age</th>\n",
              "      <th>Connection</th>\n",
              "      <th>Segment</th>\n",
              "      <th>Performance</th>\n",
              "      <th>Preference</th>\n",
              "      <th>TRIM_Index</th>\n",
              "      <th>Communication</th>\n",
              "      <th>Proposition</th>\n",
              "      <th>Sales_Experience</th>\n",
              "      <th>Opt_inout</th>\n",
              "      <th>Network_Satisfaction</th>\n",
              "      <th>Customer_Support</th>\n",
              "      <th>Billing_Payment</th>\n",
              "    </tr>\n",
              "  </thead>\n",
              "  <tbody>\n",
              "    <tr>\n",
              "      <th>0</th>\n",
              "      <td>Mobily</td>\n",
              "      <td>AD DAMMAM</td>\n",
              "      <td>Eastern</td>\n",
              "      <td>Expat Arabs</td>\n",
              "      <td>Male</td>\n",
              "      <td>29.0</td>\n",
              "      <td>Prepaid</td>\n",
              "      <td>LV</td>\n",
              "      <td>5.0</td>\n",
              "      <td>5.0</td>\n",
              "      <td>150</td>\n",
              "      <td>8.0</td>\n",
              "      <td>8.0</td>\n",
              "      <td>10</td>\n",
              "      <td>8.0</td>\n",
              "      <td>8.0</td>\n",
              "      <td>8.0</td>\n",
              "      <td>8.0</td>\n",
              "    </tr>\n",
              "    <tr>\n",
              "      <th>1</th>\n",
              "      <td>Mobily</td>\n",
              "      <td>Other</td>\n",
              "      <td>Others</td>\n",
              "      <td>Expat Asians</td>\n",
              "      <td>Male</td>\n",
              "      <td>48.0</td>\n",
              "      <td>Prepaid</td>\n",
              "      <td>VLV</td>\n",
              "      <td>4.0</td>\n",
              "      <td>4.0</td>\n",
              "      <td>100</td>\n",
              "      <td>8.0</td>\n",
              "      <td>6.0</td>\n",
              "      <td>8</td>\n",
              "      <td>NaN</td>\n",
              "      <td>7.0</td>\n",
              "      <td>7.0</td>\n",
              "      <td>9.0</td>\n",
              "    </tr>\n",
              "    <tr>\n",
              "      <th>2</th>\n",
              "      <td>Mobily</td>\n",
              "      <td>JEDDAH</td>\n",
              "      <td>Western</td>\n",
              "      <td>Expat Arabs</td>\n",
              "      <td>Male</td>\n",
              "      <td>50.0</td>\n",
              "      <td>Prepaid</td>\n",
              "      <td>VLV</td>\n",
              "      <td>5.0</td>\n",
              "      <td>5.0</td>\n",
              "      <td>150</td>\n",
              "      <td>10.0</td>\n",
              "      <td>10.0</td>\n",
              "      <td>9</td>\n",
              "      <td>10.0</td>\n",
              "      <td>10.0</td>\n",
              "      <td>10.0</td>\n",
              "      <td>10.0</td>\n",
              "    </tr>\n",
              "    <tr>\n",
              "      <th>3</th>\n",
              "      <td>Mobily</td>\n",
              "      <td>AR RIYADH</td>\n",
              "      <td>Central</td>\n",
              "      <td>Expat Arabs</td>\n",
              "      <td>Male</td>\n",
              "      <td>35.0</td>\n",
              "      <td>Prepaid</td>\n",
              "      <td>VLV</td>\n",
              "      <td>4.0</td>\n",
              "      <td>4.0</td>\n",
              "      <td>100</td>\n",
              "      <td>8.0</td>\n",
              "      <td>10.0</td>\n",
              "      <td>9</td>\n",
              "      <td>10.0</td>\n",
              "      <td>10.0</td>\n",
              "      <td>8.0</td>\n",
              "      <td>9.0</td>\n",
              "    </tr>\n",
              "    <tr>\n",
              "      <th>4</th>\n",
              "      <td>Mobily</td>\n",
              "      <td>JEDDAH</td>\n",
              "      <td>Western</td>\n",
              "      <td>Nationals</td>\n",
              "      <td>Male</td>\n",
              "      <td>38.0</td>\n",
              "      <td>Postpaid</td>\n",
              "      <td>VLV</td>\n",
              "      <td>5.0</td>\n",
              "      <td>4.0</td>\n",
              "      <td>125</td>\n",
              "      <td>6.0</td>\n",
              "      <td>1.0</td>\n",
              "      <td>5</td>\n",
              "      <td>5.0</td>\n",
              "      <td>8.0</td>\n",
              "      <td>10.0</td>\n",
              "      <td>10.0</td>\n",
              "    </tr>\n",
              "  </tbody>\n",
              "</table>\n",
              "</div>"
            ],
            "text/plain": [
              "  Current_connection       City  ... Customer_Support Billing_Payment\n",
              "0             Mobily  AD DAMMAM  ...              8.0             8.0\n",
              "1             Mobily      Other  ...              7.0             9.0\n",
              "2             Mobily     JEDDAH  ...             10.0            10.0\n",
              "3             Mobily  AR RIYADH  ...              8.0             9.0\n",
              "4             Mobily     JEDDAH  ...             10.0            10.0\n",
              "\n",
              "[5 rows x 18 columns]"
            ]
          },
          "metadata": {
            "tags": []
          },
          "execution_count": 6
        }
      ]
    },
    {
      "cell_type": "code",
      "metadata": {
        "colab": {
          "base_uri": "https://localhost:8080/"
        },
        "id": "uzrb9LGmIfwF",
        "outputId": "7f3e0d10-8372-4681-cd5c-2cb0f2389dda"
      },
      "source": [
        "df.shape"
      ],
      "execution_count": 7,
      "outputs": [
        {
          "output_type": "execute_result",
          "data": {
            "text/plain": [
              "(987, 18)"
            ]
          },
          "metadata": {
            "tags": []
          },
          "execution_count": 7
        }
      ]
    },
    {
      "cell_type": "markdown",
      "metadata": {
        "id": "g5rpNhv9NSKO"
      },
      "source": [
        "**Data** **Preprocessing**"
      ]
    },
    {
      "cell_type": "code",
      "metadata": {
        "colab": {
          "base_uri": "https://localhost:8080/"
        },
        "id": "Qz3CLZQRJodH",
        "outputId": "c4f8bf98-d99d-41eb-dd12-359b64ad3c5e"
      },
      "source": [
        "df.isnull().sum()"
      ],
      "execution_count": 8,
      "outputs": [
        {
          "output_type": "execute_result",
          "data": {
            "text/plain": [
              "Current_connection       0\n",
              "City                     0\n",
              "Region                   0\n",
              "Nationality              0\n",
              "Gender                   0\n",
              "Exact_Age                2\n",
              "Connection               0\n",
              "Segment                  0\n",
              "Performance              2\n",
              "Preference              14\n",
              "TRIM_Index               0\n",
              "Communication           47\n",
              "Proposition             12\n",
              "Sales_Experience         0\n",
              "Opt_inout               19\n",
              "Network_Satisfaction     2\n",
              "Customer_Support        13\n",
              "Billing_Payment         15\n",
              "dtype: int64"
            ]
          },
          "metadata": {
            "tags": []
          },
          "execution_count": 8
        }
      ]
    },
    {
      "cell_type": "code",
      "metadata": {
        "colab": {
          "base_uri": "https://localhost:8080/"
        },
        "id": "8GAQdTDSL3Jq",
        "outputId": "29ae5686-5839-4f52-be07-58e43543b23f"
      },
      "source": [
        "df.dtypes"
      ],
      "execution_count": 9,
      "outputs": [
        {
          "output_type": "execute_result",
          "data": {
            "text/plain": [
              "Current_connection       object\n",
              "City                     object\n",
              "Region                   object\n",
              "Nationality              object\n",
              "Gender                   object\n",
              "Exact_Age               float64\n",
              "Connection               object\n",
              "Segment                  object\n",
              "Performance             float64\n",
              "Preference              float64\n",
              "TRIM_Index                int64\n",
              "Communication           float64\n",
              "Proposition             float64\n",
              "Sales_Experience          int64\n",
              "Opt_inout               float64\n",
              "Network_Satisfaction    float64\n",
              "Customer_Support        float64\n",
              "Billing_Payment         float64\n",
              "dtype: object"
            ]
          },
          "metadata": {
            "tags": []
          },
          "execution_count": 9
        }
      ]
    },
    {
      "cell_type": "code",
      "metadata": {
        "id": "1z9ABQbIKHEG"
      },
      "source": [
        "# Insert the missing values with the median of each column\r\n",
        "df['Exact_Age'] = df['Exact_Age'].fillna(value = df['Exact_Age'].median())\r\n",
        "df['Performance'] = df['Performance'].fillna(value = df['Performance'].median())\r\n",
        "df['Preference'] = df['Preference'].fillna(value = df['Preference'].median())\r\n",
        "df['Communication'] = df['Communication'].fillna(value = df['Communication'].median())\r\n",
        "df['Proposition'] = df['Proposition'].fillna(value = df['Proposition'].median())\r\n",
        "\r\n",
        "df['Opt_inout'] = df['Opt_inout'].fillna(value = df['Opt_inout'].median())\r\n",
        "df['Network_Satisfaction'] = df['Network_Satisfaction'].fillna(value = df['Network_Satisfaction'].median())\r\n",
        "df['Customer_Support'] = df['Customer_Support'].fillna(value = df['Customer_Support'].median())\r\n",
        "df['Billing_Payment'] = df['Billing_Payment'].fillna(value = df['Billing_Payment'].median())\r\n",
        "\r\n",
        "\r\n"
      ],
      "execution_count": 11,
      "outputs": []
    },
    {
      "cell_type": "code",
      "metadata": {
        "colab": {
          "base_uri": "https://localhost:8080/"
        },
        "id": "x2bj7kjmIlgU",
        "outputId": "bb910d98-1512-45e6-b195-e76497a863a0"
      },
      "source": [
        "df.isnull().sum()"
      ],
      "execution_count": 12,
      "outputs": [
        {
          "output_type": "execute_result",
          "data": {
            "text/plain": [
              "Current_connection      0\n",
              "City                    0\n",
              "Region                  0\n",
              "Nationality             0\n",
              "Gender                  0\n",
              "Exact_Age               0\n",
              "Connection              0\n",
              "Segment                 0\n",
              "Performance             0\n",
              "Preference              0\n",
              "TRIM_Index              0\n",
              "Communication           0\n",
              "Proposition             0\n",
              "Sales_Experience        0\n",
              "Opt_inout               0\n",
              "Network_Satisfaction    0\n",
              "Customer_Support        0\n",
              "Billing_Payment         0\n",
              "dtype: int64"
            ]
          },
          "metadata": {
            "tags": []
          },
          "execution_count": 12
        }
      ]
    },
    {
      "cell_type": "code",
      "metadata": {
        "colab": {
          "base_uri": "https://localhost:8080/",
          "height": 258
        },
        "id": "D3UiYyqYNia1",
        "outputId": "a8e3f454-5089-45fa-84b1-31f7d0cef394"
      },
      "source": [
        "df.head()"
      ],
      "execution_count": 13,
      "outputs": [
        {
          "output_type": "execute_result",
          "data": {
            "text/html": [
              "<div>\n",
              "<style scoped>\n",
              "    .dataframe tbody tr th:only-of-type {\n",
              "        vertical-align: middle;\n",
              "    }\n",
              "\n",
              "    .dataframe tbody tr th {\n",
              "        vertical-align: top;\n",
              "    }\n",
              "\n",
              "    .dataframe thead th {\n",
              "        text-align: right;\n",
              "    }\n",
              "</style>\n",
              "<table border=\"1\" class=\"dataframe\">\n",
              "  <thead>\n",
              "    <tr style=\"text-align: right;\">\n",
              "      <th></th>\n",
              "      <th>Current_connection</th>\n",
              "      <th>City</th>\n",
              "      <th>Region</th>\n",
              "      <th>Nationality</th>\n",
              "      <th>Gender</th>\n",
              "      <th>Exact_Age</th>\n",
              "      <th>Connection</th>\n",
              "      <th>Segment</th>\n",
              "      <th>Performance</th>\n",
              "      <th>Preference</th>\n",
              "      <th>TRIM_Index</th>\n",
              "      <th>Communication</th>\n",
              "      <th>Proposition</th>\n",
              "      <th>Sales_Experience</th>\n",
              "      <th>Opt_inout</th>\n",
              "      <th>Network_Satisfaction</th>\n",
              "      <th>Customer_Support</th>\n",
              "      <th>Billing_Payment</th>\n",
              "    </tr>\n",
              "  </thead>\n",
              "  <tbody>\n",
              "    <tr>\n",
              "      <th>0</th>\n",
              "      <td>Mobily</td>\n",
              "      <td>AD DAMMAM</td>\n",
              "      <td>Eastern</td>\n",
              "      <td>Expat Arabs</td>\n",
              "      <td>Male</td>\n",
              "      <td>29.0</td>\n",
              "      <td>Prepaid</td>\n",
              "      <td>LV</td>\n",
              "      <td>5.0</td>\n",
              "      <td>5.0</td>\n",
              "      <td>150</td>\n",
              "      <td>8.0</td>\n",
              "      <td>8.0</td>\n",
              "      <td>10</td>\n",
              "      <td>8.0</td>\n",
              "      <td>8.0</td>\n",
              "      <td>8.0</td>\n",
              "      <td>8.0</td>\n",
              "    </tr>\n",
              "    <tr>\n",
              "      <th>1</th>\n",
              "      <td>Mobily</td>\n",
              "      <td>Other</td>\n",
              "      <td>Others</td>\n",
              "      <td>Expat Asians</td>\n",
              "      <td>Male</td>\n",
              "      <td>48.0</td>\n",
              "      <td>Prepaid</td>\n",
              "      <td>VLV</td>\n",
              "      <td>4.0</td>\n",
              "      <td>4.0</td>\n",
              "      <td>100</td>\n",
              "      <td>8.0</td>\n",
              "      <td>6.0</td>\n",
              "      <td>8</td>\n",
              "      <td>10.0</td>\n",
              "      <td>7.0</td>\n",
              "      <td>7.0</td>\n",
              "      <td>9.0</td>\n",
              "    </tr>\n",
              "    <tr>\n",
              "      <th>2</th>\n",
              "      <td>Mobily</td>\n",
              "      <td>JEDDAH</td>\n",
              "      <td>Western</td>\n",
              "      <td>Expat Arabs</td>\n",
              "      <td>Male</td>\n",
              "      <td>50.0</td>\n",
              "      <td>Prepaid</td>\n",
              "      <td>VLV</td>\n",
              "      <td>5.0</td>\n",
              "      <td>5.0</td>\n",
              "      <td>150</td>\n",
              "      <td>10.0</td>\n",
              "      <td>10.0</td>\n",
              "      <td>9</td>\n",
              "      <td>10.0</td>\n",
              "      <td>10.0</td>\n",
              "      <td>10.0</td>\n",
              "      <td>10.0</td>\n",
              "    </tr>\n",
              "    <tr>\n",
              "      <th>3</th>\n",
              "      <td>Mobily</td>\n",
              "      <td>AR RIYADH</td>\n",
              "      <td>Central</td>\n",
              "      <td>Expat Arabs</td>\n",
              "      <td>Male</td>\n",
              "      <td>35.0</td>\n",
              "      <td>Prepaid</td>\n",
              "      <td>VLV</td>\n",
              "      <td>4.0</td>\n",
              "      <td>4.0</td>\n",
              "      <td>100</td>\n",
              "      <td>8.0</td>\n",
              "      <td>10.0</td>\n",
              "      <td>9</td>\n",
              "      <td>10.0</td>\n",
              "      <td>10.0</td>\n",
              "      <td>8.0</td>\n",
              "      <td>9.0</td>\n",
              "    </tr>\n",
              "    <tr>\n",
              "      <th>4</th>\n",
              "      <td>Mobily</td>\n",
              "      <td>JEDDAH</td>\n",
              "      <td>Western</td>\n",
              "      <td>Nationals</td>\n",
              "      <td>Male</td>\n",
              "      <td>38.0</td>\n",
              "      <td>Postpaid</td>\n",
              "      <td>VLV</td>\n",
              "      <td>5.0</td>\n",
              "      <td>4.0</td>\n",
              "      <td>125</td>\n",
              "      <td>6.0</td>\n",
              "      <td>1.0</td>\n",
              "      <td>5</td>\n",
              "      <td>5.0</td>\n",
              "      <td>8.0</td>\n",
              "      <td>10.0</td>\n",
              "      <td>10.0</td>\n",
              "    </tr>\n",
              "  </tbody>\n",
              "</table>\n",
              "</div>"
            ],
            "text/plain": [
              "  Current_connection       City  ... Customer_Support Billing_Payment\n",
              "0             Mobily  AD DAMMAM  ...              8.0             8.0\n",
              "1             Mobily      Other  ...              7.0             9.0\n",
              "2             Mobily     JEDDAH  ...             10.0            10.0\n",
              "3             Mobily  AR RIYADH  ...              8.0             9.0\n",
              "4             Mobily     JEDDAH  ...             10.0            10.0\n",
              "\n",
              "[5 rows x 18 columns]"
            ]
          },
          "metadata": {
            "tags": []
          },
          "execution_count": 13
        }
      ]
    },
    {
      "cell_type": "code",
      "metadata": {
        "colab": {
          "base_uri": "https://localhost:8080/"
        },
        "id": "vojxmI2qN3EI",
        "outputId": "ab03982f-a580-4bcb-ca4c-3917bc4ac982"
      },
      "source": [
        "print(df['Current_connection'].unique())\r\n",
        "print(df['Region'].unique())\r\n",
        "print(df['Nationality'].unique())\r\n",
        "print(df['Gender'].unique())\r\n",
        "print(df['Connection'].unique())\r\n",
        "print(df['Segment'].unique())"
      ],
      "execution_count": 14,
      "outputs": [
        {
          "output_type": "stream",
          "text": [
            "['Mobily' 'Lebara' 'Friendi' 'STC' 'Zain']\n",
            "['Eastern' 'Others' 'Western' 'Central' 'Northern' 'South']\n",
            "['Expat Arabs' 'Expat Asians' 'Nationals']\n",
            "['Male' 'Female']\n",
            "['Prepaid' 'Postpaid' 'PrepaidData' 'PostpaidData']\n",
            "['LV' 'VLV' 'VHV' 'HV' 'MV' 'Data']\n"
          ],
          "name": "stdout"
        }
      ]
    },
    {
      "cell_type": "code",
      "metadata": {
        "id": "uvawFYqkYkJ0"
      },
      "source": [
        "# Drop City as Region is already included\r\n",
        "df.drop(['City'],axis = 1, inplace = True)"
      ],
      "execution_count": 15,
      "outputs": []
    },
    {
      "cell_type": "code",
      "metadata": {
        "colab": {
          "base_uri": "https://localhost:8080/",
          "height": 204
        },
        "id": "CP_JP_3vYq-P",
        "outputId": "4901ba41-1917-440b-a6f5-5dd0e7866af2"
      },
      "source": [
        "df.head()"
      ],
      "execution_count": 16,
      "outputs": [
        {
          "output_type": "execute_result",
          "data": {
            "text/html": [
              "<div>\n",
              "<style scoped>\n",
              "    .dataframe tbody tr th:only-of-type {\n",
              "        vertical-align: middle;\n",
              "    }\n",
              "\n",
              "    .dataframe tbody tr th {\n",
              "        vertical-align: top;\n",
              "    }\n",
              "\n",
              "    .dataframe thead th {\n",
              "        text-align: right;\n",
              "    }\n",
              "</style>\n",
              "<table border=\"1\" class=\"dataframe\">\n",
              "  <thead>\n",
              "    <tr style=\"text-align: right;\">\n",
              "      <th></th>\n",
              "      <th>Current_connection</th>\n",
              "      <th>Region</th>\n",
              "      <th>Nationality</th>\n",
              "      <th>Gender</th>\n",
              "      <th>Exact_Age</th>\n",
              "      <th>Connection</th>\n",
              "      <th>Segment</th>\n",
              "      <th>Performance</th>\n",
              "      <th>Preference</th>\n",
              "      <th>TRIM_Index</th>\n",
              "      <th>Communication</th>\n",
              "      <th>Proposition</th>\n",
              "      <th>Sales_Experience</th>\n",
              "      <th>Opt_inout</th>\n",
              "      <th>Network_Satisfaction</th>\n",
              "      <th>Customer_Support</th>\n",
              "      <th>Billing_Payment</th>\n",
              "    </tr>\n",
              "  </thead>\n",
              "  <tbody>\n",
              "    <tr>\n",
              "      <th>0</th>\n",
              "      <td>Mobily</td>\n",
              "      <td>Eastern</td>\n",
              "      <td>Expat Arabs</td>\n",
              "      <td>Male</td>\n",
              "      <td>29.0</td>\n",
              "      <td>Prepaid</td>\n",
              "      <td>LV</td>\n",
              "      <td>5.0</td>\n",
              "      <td>5.0</td>\n",
              "      <td>150</td>\n",
              "      <td>8.0</td>\n",
              "      <td>8.0</td>\n",
              "      <td>10</td>\n",
              "      <td>8.0</td>\n",
              "      <td>8.0</td>\n",
              "      <td>8.0</td>\n",
              "      <td>8.0</td>\n",
              "    </tr>\n",
              "    <tr>\n",
              "      <th>1</th>\n",
              "      <td>Mobily</td>\n",
              "      <td>Others</td>\n",
              "      <td>Expat Asians</td>\n",
              "      <td>Male</td>\n",
              "      <td>48.0</td>\n",
              "      <td>Prepaid</td>\n",
              "      <td>VLV</td>\n",
              "      <td>4.0</td>\n",
              "      <td>4.0</td>\n",
              "      <td>100</td>\n",
              "      <td>8.0</td>\n",
              "      <td>6.0</td>\n",
              "      <td>8</td>\n",
              "      <td>10.0</td>\n",
              "      <td>7.0</td>\n",
              "      <td>7.0</td>\n",
              "      <td>9.0</td>\n",
              "    </tr>\n",
              "    <tr>\n",
              "      <th>2</th>\n",
              "      <td>Mobily</td>\n",
              "      <td>Western</td>\n",
              "      <td>Expat Arabs</td>\n",
              "      <td>Male</td>\n",
              "      <td>50.0</td>\n",
              "      <td>Prepaid</td>\n",
              "      <td>VLV</td>\n",
              "      <td>5.0</td>\n",
              "      <td>5.0</td>\n",
              "      <td>150</td>\n",
              "      <td>10.0</td>\n",
              "      <td>10.0</td>\n",
              "      <td>9</td>\n",
              "      <td>10.0</td>\n",
              "      <td>10.0</td>\n",
              "      <td>10.0</td>\n",
              "      <td>10.0</td>\n",
              "    </tr>\n",
              "    <tr>\n",
              "      <th>3</th>\n",
              "      <td>Mobily</td>\n",
              "      <td>Central</td>\n",
              "      <td>Expat Arabs</td>\n",
              "      <td>Male</td>\n",
              "      <td>35.0</td>\n",
              "      <td>Prepaid</td>\n",
              "      <td>VLV</td>\n",
              "      <td>4.0</td>\n",
              "      <td>4.0</td>\n",
              "      <td>100</td>\n",
              "      <td>8.0</td>\n",
              "      <td>10.0</td>\n",
              "      <td>9</td>\n",
              "      <td>10.0</td>\n",
              "      <td>10.0</td>\n",
              "      <td>8.0</td>\n",
              "      <td>9.0</td>\n",
              "    </tr>\n",
              "    <tr>\n",
              "      <th>4</th>\n",
              "      <td>Mobily</td>\n",
              "      <td>Western</td>\n",
              "      <td>Nationals</td>\n",
              "      <td>Male</td>\n",
              "      <td>38.0</td>\n",
              "      <td>Postpaid</td>\n",
              "      <td>VLV</td>\n",
              "      <td>5.0</td>\n",
              "      <td>4.0</td>\n",
              "      <td>125</td>\n",
              "      <td>6.0</td>\n",
              "      <td>1.0</td>\n",
              "      <td>5</td>\n",
              "      <td>5.0</td>\n",
              "      <td>8.0</td>\n",
              "      <td>10.0</td>\n",
              "      <td>10.0</td>\n",
              "    </tr>\n",
              "  </tbody>\n",
              "</table>\n",
              "</div>"
            ],
            "text/plain": [
              "  Current_connection   Region  ... Customer_Support Billing_Payment\n",
              "0             Mobily  Eastern  ...              8.0             8.0\n",
              "1             Mobily   Others  ...              7.0             9.0\n",
              "2             Mobily  Western  ...             10.0            10.0\n",
              "3             Mobily  Central  ...              8.0             9.0\n",
              "4             Mobily  Western  ...             10.0            10.0\n",
              "\n",
              "[5 rows x 17 columns]"
            ]
          },
          "metadata": {
            "tags": []
          },
          "execution_count": 16
        }
      ]
    },
    {
      "cell_type": "code",
      "metadata": {
        "id": "A9nwDUIsbK1P",
        "outputId": "e3a5afb0-d508-4ecf-e25a-6926b7cb61d2",
        "colab": {
          "base_uri": "https://localhost:8080/"
        }
      },
      "source": [
        "!pip install relativeImp"
      ],
      "execution_count": 17,
      "outputs": [
        {
          "output_type": "stream",
          "text": [
            "Collecting relativeImp\n",
            "  Downloading https://files.pythonhosted.org/packages/2e/a6/d02857fb2ffb19d3660e70a1ab7bff9308f914351e0b00ad8a0da3c8de63/relativeImp-0.0.2-py3-none-any.whl\n",
            "Requirement already satisfied: pandas in /usr/local/lib/python3.6/dist-packages (from relativeImp) (1.1.5)\n",
            "Requirement already satisfied: numpy in /usr/local/lib/python3.6/dist-packages (from relativeImp) (1.19.5)\n",
            "Requirement already satisfied: python-dateutil>=2.7.3 in /usr/local/lib/python3.6/dist-packages (from pandas->relativeImp) (2.8.1)\n",
            "Requirement already satisfied: pytz>=2017.2 in /usr/local/lib/python3.6/dist-packages (from pandas->relativeImp) (2018.9)\n",
            "Requirement already satisfied: six>=1.5 in /usr/local/lib/python3.6/dist-packages (from python-dateutil>=2.7.3->pandas->relativeImp) (1.15.0)\n",
            "Installing collected packages: relativeImp\n",
            "Successfully installed relativeImp-0.0.2\n"
          ],
          "name": "stdout"
        }
      ]
    },
    {
      "cell_type": "code",
      "metadata": {
        "id": "pXENYHkkbjhi",
        "outputId": "a5b1c6cc-b7ee-4ba2-91a4-6cfe66d5fdd7",
        "colab": {
          "base_uri": "https://localhost:8080/",
          "height": 266
        }
      },
      "source": [
        "from relativeImp import relativeImp\r\n",
        "yName = 'TRIM_Index'\r\n",
        "xNames = ['Communication','Proposition','Sales_Experience','Opt_inout',\t'Network_Satisfaction',\t'Customer_Support',\t'Billing_Payment']\r\n",
        "df_results = relativeImp(df, outcomeName = yName, driverNames = xNames)\r\n",
        "df_results"
      ],
      "execution_count": 20,
      "outputs": [
        {
          "output_type": "execute_result",
          "data": {
            "text/html": [
              "<div>\n",
              "<style scoped>\n",
              "    .dataframe tbody tr th:only-of-type {\n",
              "        vertical-align: middle;\n",
              "    }\n",
              "\n",
              "    .dataframe tbody tr th {\n",
              "        vertical-align: top;\n",
              "    }\n",
              "\n",
              "    .dataframe thead th {\n",
              "        text-align: right;\n",
              "    }\n",
              "</style>\n",
              "<table border=\"1\" class=\"dataframe\">\n",
              "  <thead>\n",
              "    <tr style=\"text-align: right;\">\n",
              "      <th></th>\n",
              "      <th>driver</th>\n",
              "      <th>rawRelaImpt</th>\n",
              "      <th>normRelaImpt</th>\n",
              "    </tr>\n",
              "  </thead>\n",
              "  <tbody>\n",
              "    <tr>\n",
              "      <th>0</th>\n",
              "      <td>Communication</td>\n",
              "      <td>0.042935</td>\n",
              "      <td>8.541269</td>\n",
              "    </tr>\n",
              "    <tr>\n",
              "      <th>1</th>\n",
              "      <td>Proposition</td>\n",
              "      <td>0.089385</td>\n",
              "      <td>17.781618</td>\n",
              "    </tr>\n",
              "    <tr>\n",
              "      <th>2</th>\n",
              "      <td>Sales_Experience</td>\n",
              "      <td>0.042321</td>\n",
              "      <td>8.419024</td>\n",
              "    </tr>\n",
              "    <tr>\n",
              "      <th>3</th>\n",
              "      <td>Opt_inout</td>\n",
              "      <td>0.070548</td>\n",
              "      <td>14.034269</td>\n",
              "    </tr>\n",
              "    <tr>\n",
              "      <th>4</th>\n",
              "      <td>Network_Satisfaction</td>\n",
              "      <td>0.147015</td>\n",
              "      <td>29.246075</td>\n",
              "    </tr>\n",
              "    <tr>\n",
              "      <th>5</th>\n",
              "      <td>Customer_Support</td>\n",
              "      <td>0.035802</td>\n",
              "      <td>7.122098</td>\n",
              "    </tr>\n",
              "    <tr>\n",
              "      <th>6</th>\n",
              "      <td>Billing_Payment</td>\n",
              "      <td>0.074677</td>\n",
              "      <td>14.855648</td>\n",
              "    </tr>\n",
              "  </tbody>\n",
              "</table>\n",
              "</div>"
            ],
            "text/plain": [
              "                 driver  rawRelaImpt  normRelaImpt\n",
              "0         Communication     0.042935      8.541269\n",
              "1           Proposition     0.089385     17.781618\n",
              "2      Sales_Experience     0.042321      8.419024\n",
              "3             Opt_inout     0.070548     14.034269\n",
              "4  Network_Satisfaction     0.147015     29.246075\n",
              "5      Customer_Support     0.035802      7.122098\n",
              "6       Billing_Payment     0.074677     14.855648"
            ]
          },
          "metadata": {
            "tags": []
          },
          "execution_count": 20
        }
      ]
    },
    {
      "cell_type": "code",
      "metadata": {
        "id": "9ixrPxg_ct00"
      },
      "source": [
        "df_mobily = df[df['Current_connection']=='Mobily']"
      ],
      "execution_count": 22,
      "outputs": []
    },
    {
      "cell_type": "code",
      "metadata": {
        "id": "p4d9PCjhdAYS",
        "outputId": "86b78253-0a5b-45e1-f383-520c44593a82",
        "colab": {
          "base_uri": "https://localhost:8080/",
          "height": 266
        }
      },
      "source": [
        "from relativeImp import relativeImp\r\n",
        "yName = 'TRIM_Index'\r\n",
        "xNames = ['Communication','Proposition','Sales_Experience','Opt_inout',\t'Network_Satisfaction',\t'Customer_Support',\t'Billing_Payment']\r\n",
        "df_results_M = relativeImp(df_mobily, outcomeName = yName, driverNames = xNames)\r\n",
        "df_results_M"
      ],
      "execution_count": 23,
      "outputs": [
        {
          "output_type": "execute_result",
          "data": {
            "text/html": [
              "<div>\n",
              "<style scoped>\n",
              "    .dataframe tbody tr th:only-of-type {\n",
              "        vertical-align: middle;\n",
              "    }\n",
              "\n",
              "    .dataframe tbody tr th {\n",
              "        vertical-align: top;\n",
              "    }\n",
              "\n",
              "    .dataframe thead th {\n",
              "        text-align: right;\n",
              "    }\n",
              "</style>\n",
              "<table border=\"1\" class=\"dataframe\">\n",
              "  <thead>\n",
              "    <tr style=\"text-align: right;\">\n",
              "      <th></th>\n",
              "      <th>driver</th>\n",
              "      <th>rawRelaImpt</th>\n",
              "      <th>normRelaImpt</th>\n",
              "    </tr>\n",
              "  </thead>\n",
              "  <tbody>\n",
              "    <tr>\n",
              "      <th>0</th>\n",
              "      <td>Communication</td>\n",
              "      <td>0.030583</td>\n",
              "      <td>5.972059</td>\n",
              "    </tr>\n",
              "    <tr>\n",
              "      <th>1</th>\n",
              "      <td>Proposition</td>\n",
              "      <td>0.104221</td>\n",
              "      <td>20.351677</td>\n",
              "    </tr>\n",
              "    <tr>\n",
              "      <th>2</th>\n",
              "      <td>Sales_Experience</td>\n",
              "      <td>0.047759</td>\n",
              "      <td>9.326009</td>\n",
              "    </tr>\n",
              "    <tr>\n",
              "      <th>3</th>\n",
              "      <td>Opt_inout</td>\n",
              "      <td>0.088341</td>\n",
              "      <td>17.250659</td>\n",
              "    </tr>\n",
              "    <tr>\n",
              "      <th>4</th>\n",
              "      <td>Network_Satisfaction</td>\n",
              "      <td>0.131065</td>\n",
              "      <td>25.593528</td>\n",
              "    </tr>\n",
              "    <tr>\n",
              "      <th>5</th>\n",
              "      <td>Customer_Support</td>\n",
              "      <td>0.033346</td>\n",
              "      <td>6.511622</td>\n",
              "    </tr>\n",
              "    <tr>\n",
              "      <th>6</th>\n",
              "      <td>Billing_Payment</td>\n",
              "      <td>0.076787</td>\n",
              "      <td>14.994447</td>\n",
              "    </tr>\n",
              "  </tbody>\n",
              "</table>\n",
              "</div>"
            ],
            "text/plain": [
              "                 driver  rawRelaImpt  normRelaImpt\n",
              "0         Communication     0.030583      5.972059\n",
              "1           Proposition     0.104221     20.351677\n",
              "2      Sales_Experience     0.047759      9.326009\n",
              "3             Opt_inout     0.088341     17.250659\n",
              "4  Network_Satisfaction     0.131065     25.593528\n",
              "5      Customer_Support     0.033346      6.511622\n",
              "6       Billing_Payment     0.076787     14.994447"
            ]
          },
          "metadata": {
            "tags": []
          },
          "execution_count": 23
        }
      ]
    },
    {
      "cell_type": "code",
      "metadata": {
        "id": "X0W9hUsYYsQh"
      },
      "source": [
        "## Convert the Object items to Number system\r\n",
        "df= pd.get_dummies(df,drop_first = True)\r\n",
        "df.head()"
      ],
      "execution_count": null,
      "outputs": []
    },
    {
      "cell_type": "code",
      "metadata": {
        "id": "eNtP21ODdF6_"
      },
      "source": [
        "df.drop(['Website_performance','Mobileapp_satisfaction', 'Performance_SNS_Promotions'], axis = 1, inplace = True)"
      ],
      "execution_count": null,
      "outputs": []
    },
    {
      "cell_type": "code",
      "metadata": {
        "id": "PzcuJevQdf0V"
      },
      "source": [
        "df.head()"
      ],
      "execution_count": null,
      "outputs": []
    },
    {
      "cell_type": "code",
      "metadata": {
        "id": "aeMxdLrldtas"
      },
      "source": [
        "df_x = df.drop('TRIM_Index', axis = 1)\r\n"
      ],
      "execution_count": null,
      "outputs": []
    },
    {
      "cell_type": "code",
      "metadata": {
        "id": "r8VoVVKSxFi5"
      },
      "source": [
        "df['Current_connection_Mobily'].value_counts()"
      ],
      "execution_count": null,
      "outputs": []
    },
    {
      "cell_type": "markdown",
      "metadata": {
        "id": "P9SNungwZzLH"
      },
      "source": [
        "**Identification of Outliers**"
      ]
    },
    {
      "cell_type": "code",
      "metadata": {
        "id": "FFKhX_sKZCMq"
      },
      "source": [
        "from scipy.stats import zscore\r\n",
        "df['zscore_TRIM'] = zscore(df.TRIM_Index)\r\n",
        "df.head()"
      ],
      "execution_count": null,
      "outputs": []
    },
    {
      "cell_type": "code",
      "metadata": {
        "id": "N8EbrXEYadzE"
      },
      "source": [
        "df[(df.zscore_TRIM> 3) | (df.zscore_TRIM < -3)]"
      ],
      "execution_count": null,
      "outputs": []
    },
    {
      "cell_type": "code",
      "metadata": {
        "id": "UHQRznzvcnPQ"
      },
      "source": [
        "plt.boxplot(df.TRIM_Index)"
      ],
      "execution_count": null,
      "outputs": []
    },
    {
      "cell_type": "code",
      "metadata": {
        "id": "R3QhK-awbSst"
      },
      "source": [
        "## No outliers are identified so, we will proceed with the full dataset"
      ],
      "execution_count": null,
      "outputs": []
    },
    {
      "cell_type": "markdown",
      "metadata": {
        "id": "pdhR58QJcXtY"
      },
      "source": [
        "**Check for Multicollinearity**`"
      ]
    },
    {
      "cell_type": "code",
      "metadata": {
        "id": "2nSNyUV9cRcd"
      },
      "source": [
        "plt.figure(figsize = (12,10))\r\n",
        "sns.heatmap(df_x.corr())"
      ],
      "execution_count": null,
      "outputs": []
    },
    {
      "cell_type": "code",
      "metadata": {
        "id": "wimsMHNVeV_e"
      },
      "source": [
        "df_mobily = df[df['Current_connection_Mobily']==1]"
      ],
      "execution_count": null,
      "outputs": []
    },
    {
      "cell_type": "code",
      "metadata": {
        "id": "cDqJNnqjhrLs"
      },
      "source": [
        "df_mobily.head()"
      ],
      "execution_count": null,
      "outputs": []
    },
    {
      "cell_type": "code",
      "metadata": {
        "id": "Nubr8boNhtfz"
      },
      "source": [
        "df_mobily.shape"
      ],
      "execution_count": null,
      "outputs": []
    },
    {
      "cell_type": "code",
      "metadata": {
        "id": "ApMi2nR3pHjZ"
      },
      "source": [
        "df_mobily.drop(['Exact_Age', 'Current_connection_Mobily', 'Current_connection_Jawwy','Current_connection_Lebara', 'Current_connection_STC', 'Current_connection_Virgin','Current_connection_Zain', 'zscore_TRIM','Performance', 'Preference'],axis = 1, inplace = True)"
      ],
      "execution_count": null,
      "outputs": []
    },
    {
      "cell_type": "code",
      "metadata": {
        "id": "eo7knoAmrbjL"
      },
      "source": [
        "df_mobily.head()"
      ],
      "execution_count": null,
      "outputs": []
    },
    {
      "cell_type": "code",
      "metadata": {
        "id": "VoBqIXdruOkD"
      },
      "source": [
        ""
      ],
      "execution_count": null,
      "outputs": []
    },
    {
      "cell_type": "markdown",
      "metadata": {
        "id": "94RydXE-sf0A"
      },
      "source": [
        "Check for Multi colinearity"
      ]
    },
    {
      "cell_type": "code",
      "metadata": {
        "id": "4Q4wWWbvsdvb"
      },
      "source": [
        "df_mobily_x= df_mobily.drop('TRIM_Index',axis =1)"
      ],
      "execution_count": null,
      "outputs": []
    },
    {
      "cell_type": "code",
      "metadata": {
        "id": "0cqVB3r9s_Gb"
      },
      "source": [
        "plt.figure(figsize=(20,12))\r\n",
        "sns.heatmap(df_mobily_x.corr(), annot = True)"
      ],
      "execution_count": null,
      "outputs": []
    },
    {
      "cell_type": "code",
      "metadata": {
        "id": "Rf8YF57844pI"
      },
      "source": [
        ""
      ],
      "execution_count": null,
      "outputs": []
    },
    {
      "cell_type": "markdown",
      "metadata": {
        "id": "p0kuYWDHiqgt"
      },
      "source": [
        "**Model Building**"
      ]
    },
    {
      "cell_type": "code",
      "metadata": {
        "id": "W8EzcT6DiXEL"
      },
      "source": [
        "from sklearn.model_selection import train_test_split\r\n",
        "from sklearn.linear_model import LinearRegression"
      ],
      "execution_count": null,
      "outputs": []
    },
    {
      "cell_type": "code",
      "metadata": {
        "id": "4z79-MKl1tXG"
      },
      "source": [
        "lr = LinearRegression()"
      ],
      "execution_count": null,
      "outputs": []
    },
    {
      "cell_type": "code",
      "metadata": {
        "id": "OkHj2smo1wk7"
      },
      "source": [
        "x = df_mobily_x\r\n",
        "y= df_mobily['TRIM_Index']"
      ],
      "execution_count": null,
      "outputs": []
    },
    {
      "cell_type": "code",
      "metadata": {
        "id": "jWlj6pFp2Oqv"
      },
      "source": [
        "lr = LinearRegression()\r\n",
        "x_train,x_test,y_train,y_test = train_test_split(x,y,test_size = 0.33, random_state = 5)"
      ],
      "execution_count": null,
      "outputs": []
    },
    {
      "cell_type": "code",
      "metadata": {
        "id": "3QRmylK52S9v"
      },
      "source": [
        "lr.fit(x_train, y_train)"
      ],
      "execution_count": null,
      "outputs": []
    },
    {
      "cell_type": "code",
      "metadata": {
        "id": "_oa8FGQl2XoV"
      },
      "source": [
        "y_pred= lr.predict(x_test)\r\n",
        "y_pred"
      ],
      "execution_count": null,
      "outputs": []
    },
    {
      "cell_type": "code",
      "metadata": {
        "id": "n-7JBeX32d6F"
      },
      "source": [
        "y_test"
      ],
      "execution_count": null,
      "outputs": []
    },
    {
      "cell_type": "code",
      "metadata": {
        "id": "zeJGgGD32ibU"
      },
      "source": [
        "from sklearn.metrics import mean_squared_error, r2_score"
      ],
      "execution_count": null,
      "outputs": []
    },
    {
      "cell_type": "code",
      "metadata": {
        "id": "aQxHC3KI2pvS"
      },
      "source": [
        "lr.score(x_test,y_test)"
      ],
      "execution_count": null,
      "outputs": []
    },
    {
      "cell_type": "code",
      "metadata": {
        "id": "-V7rymDQ2tgz"
      },
      "source": [
        "mse= mean_squared_error(y_pred,y_test)\r\n",
        "print(mse)"
      ],
      "execution_count": null,
      "outputs": []
    },
    {
      "cell_type": "code",
      "metadata": {
        "id": "pAOSNbnE2xhA"
      },
      "source": [
        "from sklearn import metrics\r\n",
        "\r\n",
        "np.sqrt(metrics.mean_squared_error(y_pred, y_test))"
      ],
      "execution_count": null,
      "outputs": []
    },
    {
      "cell_type": "code",
      "metadata": {
        "id": "_MVmjoOG3cks"
      },
      "source": [
        "np.round(metrics.r2_score(y_pred, y_test),2)"
      ],
      "execution_count": null,
      "outputs": []
    },
    {
      "cell_type": "code",
      "metadata": {
        "id": "yPSQevpK3nEi"
      },
      "source": [
        "plt.figure(figsize=(20,12))\r\n",
        "sns.distplot(y_test - y_pred)"
      ],
      "execution_count": null,
      "outputs": []
    },
    {
      "cell_type": "code",
      "metadata": {
        "id": "4ICqYanQKGA9"
      },
      "source": [
        "plt.figure(figsize=(16,12))\r\n",
        "plt.scatter(y_test, y_pred)\r\n"
      ],
      "execution_count": null,
      "outputs": []
    },
    {
      "cell_type": "code",
      "metadata": {
        "id": "oOQhN-FZ3yVk"
      },
      "source": [
        ""
      ],
      "execution_count": null,
      "outputs": []
    },
    {
      "cell_type": "code",
      "metadata": {
        "id": "B0NwTT3Br1bU"
      },
      "source": [
        "plt.scatter (x= df_mobily['Proposition'], y = df_mobily['TRIM_Index'])"
      ],
      "execution_count": null,
      "outputs": []
    },
    {
      "cell_type": "code",
      "metadata": {
        "id": "i8qJwPQasIde"
      },
      "source": [
        "plt.scatter (x= df['Network_Satisfaction'].mean(), y = df['TRIM_Index'].mean())"
      ],
      "execution_count": null,
      "outputs": []
    },
    {
      "cell_type": "code",
      "metadata": {
        "id": "wFjHnBOaso94"
      },
      "source": [
        "sns.regplot(y_pred,y_test, data = df_mobily, color='r')"
      ],
      "execution_count": null,
      "outputs": []
    },
    {
      "cell_type": "code",
      "metadata": {
        "id": "uJm1pm7rtbWB"
      },
      "source": [
        ""
      ],
      "execution_count": null,
      "outputs": []
    }
  ]
}