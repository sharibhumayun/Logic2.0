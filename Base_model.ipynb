{
  "nbformat": 4,
  "nbformat_minor": 0,
  "metadata": {
    "colab": {
      "name": "Base model.ipynb",
      "provenance": [],
      "collapsed_sections": [],
      "authorship_tag": "ABX9TyOtMXhItP7YUp6mVUXMmoM8",
      "include_colab_link": true
    },
    "kernelspec": {
      "name": "python3",
      "display_name": "Python 3"
    }
  },
  "cells": [
    {
      "cell_type": "markdown",
      "metadata": {
        "id": "view-in-github",
        "colab_type": "text"
      },
      "source": [
        "<a href=\"https://colab.research.google.com/github/sharibhumayun/Logic2.0/blob/main/Base_model.ipynb\" target=\"_parent\"><img src=\"https://colab.research.google.com/assets/colab-badge.svg\" alt=\"Open In Colab\"/></a>"
      ]
    },
    {
      "cell_type": "code",
      "metadata": {
        "id": "sveRcIknIOG9"
      },
      "source": [
        "import pandas as pd\r\n",
        "import numpy as np\r\n",
        "import seaborn as sns\r\n",
        "import matplotlib as mpl \r\n",
        "import matplotlib.pyplot as plt"
      ],
      "execution_count": 410,
      "outputs": []
    },
    {
      "cell_type": "code",
      "metadata": {
        "colab": {
          "base_uri": "https://localhost:8080/",
          "height": 254
        },
        "id": "JoA6SxuJIUxQ",
        "outputId": "30f8b546-27b4-43b1-eff2-e7ea9c83a7b8"
      },
      "source": [
        "path = 'https://raw.githubusercontent.com/sharibhumayun/Logic2.0/main/MasterDatabase.csv'\r\n",
        "\r\n",
        "df = pd.read_csv(path)\r\n",
        "df.head()"
      ],
      "execution_count": 411,
      "outputs": [
        {
          "output_type": "execute_result",
          "data": {
            "text/html": [
              "<div>\n",
              "<style scoped>\n",
              "    .dataframe tbody tr th:only-of-type {\n",
              "        vertical-align: middle;\n",
              "    }\n",
              "\n",
              "    .dataframe tbody tr th {\n",
              "        vertical-align: top;\n",
              "    }\n",
              "\n",
              "    .dataframe thead th {\n",
              "        text-align: right;\n",
              "    }\n",
              "</style>\n",
              "<table border=\"1\" class=\"dataframe\">\n",
              "  <thead>\n",
              "    <tr style=\"text-align: right;\">\n",
              "      <th></th>\n",
              "      <th>Current_connection</th>\n",
              "      <th>City</th>\n",
              "      <th>Region</th>\n",
              "      <th>Nationality</th>\n",
              "      <th>Gender</th>\n",
              "      <th>Exact_Age</th>\n",
              "      <th>Connection</th>\n",
              "      <th>Segment</th>\n",
              "      <th>Performance</th>\n",
              "      <th>Preference</th>\n",
              "      <th>TRIM_Index</th>\n",
              "      <th>Communication</th>\n",
              "      <th>Proposition</th>\n",
              "      <th>Sales_Experience</th>\n",
              "      <th>Opt_inout</th>\n",
              "      <th>Network_Satisfaction</th>\n",
              "      <th>Customer_Support</th>\n",
              "      <th>Billing_Payment</th>\n",
              "      <th>Website_performance</th>\n",
              "      <th>Mobileapp_satisfaction</th>\n",
              "      <th>Performance_SNS_Promotions</th>\n",
              "    </tr>\n",
              "  </thead>\n",
              "  <tbody>\n",
              "    <tr>\n",
              "      <th>0</th>\n",
              "      <td>Mobily</td>\n",
              "      <td>JEDDAH</td>\n",
              "      <td>Western</td>\n",
              "      <td>Nationals</td>\n",
              "      <td>Female</td>\n",
              "      <td>23.0</td>\n",
              "      <td>Prepaid</td>\n",
              "      <td>LV</td>\n",
              "      <td>5.0</td>\n",
              "      <td>4.0</td>\n",
              "      <td>125</td>\n",
              "      <td>0.0</td>\n",
              "      <td>10.0</td>\n",
              "      <td>NaN</td>\n",
              "      <td>10.0</td>\n",
              "      <td>10.0</td>\n",
              "      <td>NaN</td>\n",
              "      <td>10.0</td>\n",
              "      <td>NaN</td>\n",
              "      <td>NaN</td>\n",
              "      <td>NaN</td>\n",
              "    </tr>\n",
              "    <tr>\n",
              "      <th>1</th>\n",
              "      <td>Mobily</td>\n",
              "      <td>JEDDAH</td>\n",
              "      <td>Western</td>\n",
              "      <td>Expat Asians</td>\n",
              "      <td>Male</td>\n",
              "      <td>35.0</td>\n",
              "      <td>Prepaid</td>\n",
              "      <td>VLV</td>\n",
              "      <td>5.0</td>\n",
              "      <td>5.0</td>\n",
              "      <td>150</td>\n",
              "      <td>5.0</td>\n",
              "      <td>7.0</td>\n",
              "      <td>NaN</td>\n",
              "      <td>8.0</td>\n",
              "      <td>9.0</td>\n",
              "      <td>NaN</td>\n",
              "      <td>10.0</td>\n",
              "      <td>NaN</td>\n",
              "      <td>NaN</td>\n",
              "      <td>NaN</td>\n",
              "    </tr>\n",
              "    <tr>\n",
              "      <th>2</th>\n",
              "      <td>Mobily</td>\n",
              "      <td>MAKKAH AL MUKARRAMAH</td>\n",
              "      <td>Western</td>\n",
              "      <td>Expat Asians</td>\n",
              "      <td>Male</td>\n",
              "      <td>32.0</td>\n",
              "      <td>Prepaid</td>\n",
              "      <td>VLV</td>\n",
              "      <td>3.0</td>\n",
              "      <td>3.0</td>\n",
              "      <td>50</td>\n",
              "      <td>5.0</td>\n",
              "      <td>3.0</td>\n",
              "      <td>NaN</td>\n",
              "      <td>NaN</td>\n",
              "      <td>7.0</td>\n",
              "      <td>NaN</td>\n",
              "      <td>10.0</td>\n",
              "      <td>NaN</td>\n",
              "      <td>NaN</td>\n",
              "      <td>NaN</td>\n",
              "    </tr>\n",
              "    <tr>\n",
              "      <th>3</th>\n",
              "      <td>Mobily</td>\n",
              "      <td>AR RIYADH</td>\n",
              "      <td>Central</td>\n",
              "      <td>Nationals</td>\n",
              "      <td>Male</td>\n",
              "      <td>31.0</td>\n",
              "      <td>Postpaid</td>\n",
              "      <td>VHV</td>\n",
              "      <td>2.0</td>\n",
              "      <td>1.0</td>\n",
              "      <td>-25</td>\n",
              "      <td>5.0</td>\n",
              "      <td>4.0</td>\n",
              "      <td>NaN</td>\n",
              "      <td>5.0</td>\n",
              "      <td>4.0</td>\n",
              "      <td>4.0</td>\n",
              "      <td>6.0</td>\n",
              "      <td>5.0</td>\n",
              "      <td>5.0</td>\n",
              "      <td>NaN</td>\n",
              "    </tr>\n",
              "    <tr>\n",
              "      <th>4</th>\n",
              "      <td>Mobily</td>\n",
              "      <td>KHAMIS MUSHAYT</td>\n",
              "      <td>South</td>\n",
              "      <td>Expat Arabs</td>\n",
              "      <td>Male</td>\n",
              "      <td>16.0</td>\n",
              "      <td>Prepaid</td>\n",
              "      <td>HV</td>\n",
              "      <td>5.0</td>\n",
              "      <td>5.0</td>\n",
              "      <td>150</td>\n",
              "      <td>10.0</td>\n",
              "      <td>10.0</td>\n",
              "      <td>NaN</td>\n",
              "      <td>10.0</td>\n",
              "      <td>10.0</td>\n",
              "      <td>NaN</td>\n",
              "      <td>10.0</td>\n",
              "      <td>NaN</td>\n",
              "      <td>NaN</td>\n",
              "      <td>NaN</td>\n",
              "    </tr>\n",
              "  </tbody>\n",
              "</table>\n",
              "</div>"
            ],
            "text/plain": [
              "  Current_connection  ... Performance_SNS_Promotions\n",
              "0             Mobily  ...                        NaN\n",
              "1             Mobily  ...                        NaN\n",
              "2             Mobily  ...                        NaN\n",
              "3             Mobily  ...                        NaN\n",
              "4             Mobily  ...                        NaN\n",
              "\n",
              "[5 rows x 21 columns]"
            ]
          },
          "metadata": {
            "tags": []
          },
          "execution_count": 411
        }
      ]
    },
    {
      "cell_type": "code",
      "metadata": {
        "colab": {
          "base_uri": "https://localhost:8080/"
        },
        "id": "uzrb9LGmIfwF",
        "outputId": "d7cafd4a-a496-4af3-a438-b7ed8b56fb24"
      },
      "source": [
        "df.shape"
      ],
      "execution_count": 412,
      "outputs": [
        {
          "output_type": "execute_result",
          "data": {
            "text/plain": [
              "(29072, 21)"
            ]
          },
          "metadata": {
            "tags": []
          },
          "execution_count": 412
        }
      ]
    },
    {
      "cell_type": "markdown",
      "metadata": {
        "id": "g5rpNhv9NSKO"
      },
      "source": [
        "**Data** **Preprocessing**"
      ]
    },
    {
      "cell_type": "code",
      "metadata": {
        "colab": {
          "base_uri": "https://localhost:8080/"
        },
        "id": "Qz3CLZQRJodH",
        "outputId": "6551661c-66ed-4aa5-e59e-54c05f4a4e9f"
      },
      "source": [
        "df.isnull().sum()"
      ],
      "execution_count": 413,
      "outputs": [
        {
          "output_type": "execute_result",
          "data": {
            "text/plain": [
              "Current_connection                0\n",
              "City                              0\n",
              "Region                            0\n",
              "Nationality                       0\n",
              "Gender                            0\n",
              "Exact_Age                        66\n",
              "Connection                        0\n",
              "Segment                           0\n",
              "Performance                      98\n",
              "Preference                      561\n",
              "TRIM_Index                        0\n",
              "Communication                  1301\n",
              "Proposition                     652\n",
              "Sales_Experience              28085\n",
              "Opt_inout                       950\n",
              "Network_Satisfaction            115\n",
              "Customer_Support              19914\n",
              "Billing_Payment                 812\n",
              "Website_performance           19448\n",
              "Mobileapp_satisfaction        18435\n",
              "Performance_SNS_Promotions    23878\n",
              "dtype: int64"
            ]
          },
          "metadata": {
            "tags": []
          },
          "execution_count": 413
        }
      ]
    },
    {
      "cell_type": "code",
      "metadata": {
        "colab": {
          "base_uri": "https://localhost:8080/"
        },
        "id": "8GAQdTDSL3Jq",
        "outputId": "057fa766-d7c2-4989-e895-e9a587208bc2"
      },
      "source": [
        "df.dtypes"
      ],
      "execution_count": 414,
      "outputs": [
        {
          "output_type": "execute_result",
          "data": {
            "text/plain": [
              "Current_connection             object\n",
              "City                           object\n",
              "Region                         object\n",
              "Nationality                    object\n",
              "Gender                         object\n",
              "Exact_Age                     float64\n",
              "Connection                     object\n",
              "Segment                        object\n",
              "Performance                   float64\n",
              "Preference                    float64\n",
              "TRIM_Index                      int64\n",
              "Communication                 float64\n",
              "Proposition                   float64\n",
              "Sales_Experience              float64\n",
              "Opt_inout                     float64\n",
              "Network_Satisfaction          float64\n",
              "Customer_Support              float64\n",
              "Billing_Payment               float64\n",
              "Website_performance           float64\n",
              "Mobileapp_satisfaction        float64\n",
              "Performance_SNS_Promotions    float64\n",
              "dtype: object"
            ]
          },
          "metadata": {
            "tags": []
          },
          "execution_count": 414
        }
      ]
    },
    {
      "cell_type": "code",
      "metadata": {
        "id": "1z9ABQbIKHEG"
      },
      "source": [
        "# Insert the missing values with the median of each column\r\n",
        "df['Exact_Age'] = df['Exact_Age'].fillna(value = df['Exact_Age'].median())\r\n",
        "df['Performance'] = df['Performance'].fillna(value = df['Performance'].median())\r\n",
        "df['Preference'] = df['Preference'].fillna(value = df['Preference'].median())\r\n",
        "df['Communication'] = df['Communication'].fillna(value = df['Communication'].median())\r\n",
        "df['Proposition'] = df['Proposition'].fillna(value = df['Proposition'].median())\r\n",
        "df['Sales_Experience'] = df['Sales_Experience'].fillna(value = df['Sales_Experience'].median())\r\n",
        "df['Opt_inout'] = df['Opt_inout'].fillna(value = df['Opt_inout'].median())\r\n",
        "df['Network_Satisfaction'] = df['Network_Satisfaction'].fillna(value = df['Network_Satisfaction'].median())\r\n",
        "df['Customer_Support'] = df['Customer_Support'].fillna(value = df['Customer_Support'].median())\r\n",
        "df['Billing_Payment'] = df['Billing_Payment'].fillna(value = df['Billing_Payment'].median())\r\n",
        "df['Website_performance'] = df['Website_performance'].fillna(value = df['Website_performance'].median())\r\n",
        "df['Mobileapp_satisfaction'] = df['Mobileapp_satisfaction'].fillna(value = df['Mobileapp_satisfaction'].median())\r\n",
        "df['Performance_SNS_Promotions'] = df['Performance_SNS_Promotions'].fillna(value = df['Performance_SNS_Promotions'].median())\r\n",
        "\r\n"
      ],
      "execution_count": 415,
      "outputs": []
    },
    {
      "cell_type": "code",
      "metadata": {
        "colab": {
          "base_uri": "https://localhost:8080/"
        },
        "id": "x2bj7kjmIlgU",
        "outputId": "2976608c-c6ee-4350-fd3d-3013f767fee3"
      },
      "source": [
        "df.isnull().sum()"
      ],
      "execution_count": 416,
      "outputs": [
        {
          "output_type": "execute_result",
          "data": {
            "text/plain": [
              "Current_connection            0\n",
              "City                          0\n",
              "Region                        0\n",
              "Nationality                   0\n",
              "Gender                        0\n",
              "Exact_Age                     0\n",
              "Connection                    0\n",
              "Segment                       0\n",
              "Performance                   0\n",
              "Preference                    0\n",
              "TRIM_Index                    0\n",
              "Communication                 0\n",
              "Proposition                   0\n",
              "Sales_Experience              0\n",
              "Opt_inout                     0\n",
              "Network_Satisfaction          0\n",
              "Customer_Support              0\n",
              "Billing_Payment               0\n",
              "Website_performance           0\n",
              "Mobileapp_satisfaction        0\n",
              "Performance_SNS_Promotions    0\n",
              "dtype: int64"
            ]
          },
          "metadata": {
            "tags": []
          },
          "execution_count": 416
        }
      ]
    },
    {
      "cell_type": "code",
      "metadata": {
        "id": "YvT10SwcNOVP"
      },
      "source": [
        "# Insert new column Digital_performance taking the average of Website, Mobile app and Social media satisfaction\r\n",
        "df['Digital_performance'] = df[['Performance_SNS_Promotions', 'Mobileapp_satisfaction','Website_performance']].mean(axis = 1).round()"
      ],
      "execution_count": 417,
      "outputs": []
    },
    {
      "cell_type": "code",
      "metadata": {
        "colab": {
          "base_uri": "https://localhost:8080/",
          "height": 254
        },
        "id": "D3UiYyqYNia1",
        "outputId": "e7957d7a-7e6b-434a-b4b6-a3724c057d00"
      },
      "source": [
        "df.head()"
      ],
      "execution_count": 418,
      "outputs": [
        {
          "output_type": "execute_result",
          "data": {
            "text/html": [
              "<div>\n",
              "<style scoped>\n",
              "    .dataframe tbody tr th:only-of-type {\n",
              "        vertical-align: middle;\n",
              "    }\n",
              "\n",
              "    .dataframe tbody tr th {\n",
              "        vertical-align: top;\n",
              "    }\n",
              "\n",
              "    .dataframe thead th {\n",
              "        text-align: right;\n",
              "    }\n",
              "</style>\n",
              "<table border=\"1\" class=\"dataframe\">\n",
              "  <thead>\n",
              "    <tr style=\"text-align: right;\">\n",
              "      <th></th>\n",
              "      <th>Current_connection</th>\n",
              "      <th>City</th>\n",
              "      <th>Region</th>\n",
              "      <th>Nationality</th>\n",
              "      <th>Gender</th>\n",
              "      <th>Exact_Age</th>\n",
              "      <th>Connection</th>\n",
              "      <th>Segment</th>\n",
              "      <th>Performance</th>\n",
              "      <th>Preference</th>\n",
              "      <th>TRIM_Index</th>\n",
              "      <th>Communication</th>\n",
              "      <th>Proposition</th>\n",
              "      <th>Sales_Experience</th>\n",
              "      <th>Opt_inout</th>\n",
              "      <th>Network_Satisfaction</th>\n",
              "      <th>Customer_Support</th>\n",
              "      <th>Billing_Payment</th>\n",
              "      <th>Website_performance</th>\n",
              "      <th>Mobileapp_satisfaction</th>\n",
              "      <th>Performance_SNS_Promotions</th>\n",
              "      <th>Digital_performance</th>\n",
              "    </tr>\n",
              "  </thead>\n",
              "  <tbody>\n",
              "    <tr>\n",
              "      <th>0</th>\n",
              "      <td>Mobily</td>\n",
              "      <td>JEDDAH</td>\n",
              "      <td>Western</td>\n",
              "      <td>Nationals</td>\n",
              "      <td>Female</td>\n",
              "      <td>23.0</td>\n",
              "      <td>Prepaid</td>\n",
              "      <td>LV</td>\n",
              "      <td>5.0</td>\n",
              "      <td>4.0</td>\n",
              "      <td>125</td>\n",
              "      <td>0.0</td>\n",
              "      <td>10.0</td>\n",
              "      <td>10.0</td>\n",
              "      <td>10.0</td>\n",
              "      <td>10.0</td>\n",
              "      <td>10.0</td>\n",
              "      <td>10.0</td>\n",
              "      <td>8.0</td>\n",
              "      <td>10.0</td>\n",
              "      <td>9.0</td>\n",
              "      <td>9.0</td>\n",
              "    </tr>\n",
              "    <tr>\n",
              "      <th>1</th>\n",
              "      <td>Mobily</td>\n",
              "      <td>JEDDAH</td>\n",
              "      <td>Western</td>\n",
              "      <td>Expat Asians</td>\n",
              "      <td>Male</td>\n",
              "      <td>35.0</td>\n",
              "      <td>Prepaid</td>\n",
              "      <td>VLV</td>\n",
              "      <td>5.0</td>\n",
              "      <td>5.0</td>\n",
              "      <td>150</td>\n",
              "      <td>5.0</td>\n",
              "      <td>7.0</td>\n",
              "      <td>10.0</td>\n",
              "      <td>8.0</td>\n",
              "      <td>9.0</td>\n",
              "      <td>10.0</td>\n",
              "      <td>10.0</td>\n",
              "      <td>8.0</td>\n",
              "      <td>10.0</td>\n",
              "      <td>9.0</td>\n",
              "      <td>9.0</td>\n",
              "    </tr>\n",
              "    <tr>\n",
              "      <th>2</th>\n",
              "      <td>Mobily</td>\n",
              "      <td>MAKKAH AL MUKARRAMAH</td>\n",
              "      <td>Western</td>\n",
              "      <td>Expat Asians</td>\n",
              "      <td>Male</td>\n",
              "      <td>32.0</td>\n",
              "      <td>Prepaid</td>\n",
              "      <td>VLV</td>\n",
              "      <td>3.0</td>\n",
              "      <td>3.0</td>\n",
              "      <td>50</td>\n",
              "      <td>5.0</td>\n",
              "      <td>3.0</td>\n",
              "      <td>10.0</td>\n",
              "      <td>9.0</td>\n",
              "      <td>7.0</td>\n",
              "      <td>10.0</td>\n",
              "      <td>10.0</td>\n",
              "      <td>8.0</td>\n",
              "      <td>10.0</td>\n",
              "      <td>9.0</td>\n",
              "      <td>9.0</td>\n",
              "    </tr>\n",
              "    <tr>\n",
              "      <th>3</th>\n",
              "      <td>Mobily</td>\n",
              "      <td>AR RIYADH</td>\n",
              "      <td>Central</td>\n",
              "      <td>Nationals</td>\n",
              "      <td>Male</td>\n",
              "      <td>31.0</td>\n",
              "      <td>Postpaid</td>\n",
              "      <td>VHV</td>\n",
              "      <td>2.0</td>\n",
              "      <td>1.0</td>\n",
              "      <td>-25</td>\n",
              "      <td>5.0</td>\n",
              "      <td>4.0</td>\n",
              "      <td>10.0</td>\n",
              "      <td>5.0</td>\n",
              "      <td>4.0</td>\n",
              "      <td>4.0</td>\n",
              "      <td>6.0</td>\n",
              "      <td>5.0</td>\n",
              "      <td>5.0</td>\n",
              "      <td>9.0</td>\n",
              "      <td>6.0</td>\n",
              "    </tr>\n",
              "    <tr>\n",
              "      <th>4</th>\n",
              "      <td>Mobily</td>\n",
              "      <td>KHAMIS MUSHAYT</td>\n",
              "      <td>South</td>\n",
              "      <td>Expat Arabs</td>\n",
              "      <td>Male</td>\n",
              "      <td>16.0</td>\n",
              "      <td>Prepaid</td>\n",
              "      <td>HV</td>\n",
              "      <td>5.0</td>\n",
              "      <td>5.0</td>\n",
              "      <td>150</td>\n",
              "      <td>10.0</td>\n",
              "      <td>10.0</td>\n",
              "      <td>10.0</td>\n",
              "      <td>10.0</td>\n",
              "      <td>10.0</td>\n",
              "      <td>10.0</td>\n",
              "      <td>10.0</td>\n",
              "      <td>8.0</td>\n",
              "      <td>10.0</td>\n",
              "      <td>9.0</td>\n",
              "      <td>9.0</td>\n",
              "    </tr>\n",
              "  </tbody>\n",
              "</table>\n",
              "</div>"
            ],
            "text/plain": [
              "  Current_connection  ... Digital_performance\n",
              "0             Mobily  ...                 9.0\n",
              "1             Mobily  ...                 9.0\n",
              "2             Mobily  ...                 9.0\n",
              "3             Mobily  ...                 6.0\n",
              "4             Mobily  ...                 9.0\n",
              "\n",
              "[5 rows x 22 columns]"
            ]
          },
          "metadata": {
            "tags": []
          },
          "execution_count": 418
        }
      ]
    },
    {
      "cell_type": "code",
      "metadata": {
        "colab": {
          "base_uri": "https://localhost:8080/"
        },
        "id": "vojxmI2qN3EI",
        "outputId": "2fad1041-e05c-4322-ae37-4e1a9eab946f"
      },
      "source": [
        "print(df['Current_connection'].unique())\r\n",
        "print(df['Region'].unique())\r\n",
        "print(df['Nationality'].unique())\r\n",
        "print(df['Gender'].unique())\r\n",
        "print(df['Connection'].unique())\r\n",
        "print(df['Segment'].unique())"
      ],
      "execution_count": 419,
      "outputs": [
        {
          "output_type": "stream",
          "text": [
            "['Mobily' 'Lebara' 'Friendi' 'Virgin' 'Jawwy' 'STC' 'Zain']\n",
            "['Western' 'Central' 'South' 'Others' 'Northern' 'Eastern']\n",
            "['Nationals' 'Expat Asians' 'Expat Arabs']\n",
            "['Female' 'Male']\n",
            "[' Prepaid' ' Postpaid' 'Postpaid Data SIM' 'Prepaid Data SIM']\n",
            "['LV' 'VLV' 'VHV' 'HV' 'MV' 'Data']\n"
          ],
          "name": "stdout"
        }
      ]
    },
    {
      "cell_type": "code",
      "metadata": {
        "id": "uvawFYqkYkJ0"
      },
      "source": [
        "# Drop City as Region is already included\r\n",
        "df.drop(['City'],axis = 1, inplace = True)"
      ],
      "execution_count": 420,
      "outputs": []
    },
    {
      "cell_type": "code",
      "metadata": {
        "colab": {
          "base_uri": "https://localhost:8080/",
          "height": 220
        },
        "id": "CP_JP_3vYq-P",
        "outputId": "a4003a03-387e-4b2e-cc97-a7035fa4631d"
      },
      "source": [
        "df.head()"
      ],
      "execution_count": 421,
      "outputs": [
        {
          "output_type": "execute_result",
          "data": {
            "text/html": [
              "<div>\n",
              "<style scoped>\n",
              "    .dataframe tbody tr th:only-of-type {\n",
              "        vertical-align: middle;\n",
              "    }\n",
              "\n",
              "    .dataframe tbody tr th {\n",
              "        vertical-align: top;\n",
              "    }\n",
              "\n",
              "    .dataframe thead th {\n",
              "        text-align: right;\n",
              "    }\n",
              "</style>\n",
              "<table border=\"1\" class=\"dataframe\">\n",
              "  <thead>\n",
              "    <tr style=\"text-align: right;\">\n",
              "      <th></th>\n",
              "      <th>Current_connection</th>\n",
              "      <th>Region</th>\n",
              "      <th>Nationality</th>\n",
              "      <th>Gender</th>\n",
              "      <th>Exact_Age</th>\n",
              "      <th>Connection</th>\n",
              "      <th>Segment</th>\n",
              "      <th>Performance</th>\n",
              "      <th>Preference</th>\n",
              "      <th>TRIM_Index</th>\n",
              "      <th>Communication</th>\n",
              "      <th>Proposition</th>\n",
              "      <th>Sales_Experience</th>\n",
              "      <th>Opt_inout</th>\n",
              "      <th>Network_Satisfaction</th>\n",
              "      <th>Customer_Support</th>\n",
              "      <th>Billing_Payment</th>\n",
              "      <th>Website_performance</th>\n",
              "      <th>Mobileapp_satisfaction</th>\n",
              "      <th>Performance_SNS_Promotions</th>\n",
              "      <th>Digital_performance</th>\n",
              "    </tr>\n",
              "  </thead>\n",
              "  <tbody>\n",
              "    <tr>\n",
              "      <th>0</th>\n",
              "      <td>Mobily</td>\n",
              "      <td>Western</td>\n",
              "      <td>Nationals</td>\n",
              "      <td>Female</td>\n",
              "      <td>23.0</td>\n",
              "      <td>Prepaid</td>\n",
              "      <td>LV</td>\n",
              "      <td>5.0</td>\n",
              "      <td>4.0</td>\n",
              "      <td>125</td>\n",
              "      <td>0.0</td>\n",
              "      <td>10.0</td>\n",
              "      <td>10.0</td>\n",
              "      <td>10.0</td>\n",
              "      <td>10.0</td>\n",
              "      <td>10.0</td>\n",
              "      <td>10.0</td>\n",
              "      <td>8.0</td>\n",
              "      <td>10.0</td>\n",
              "      <td>9.0</td>\n",
              "      <td>9.0</td>\n",
              "    </tr>\n",
              "    <tr>\n",
              "      <th>1</th>\n",
              "      <td>Mobily</td>\n",
              "      <td>Western</td>\n",
              "      <td>Expat Asians</td>\n",
              "      <td>Male</td>\n",
              "      <td>35.0</td>\n",
              "      <td>Prepaid</td>\n",
              "      <td>VLV</td>\n",
              "      <td>5.0</td>\n",
              "      <td>5.0</td>\n",
              "      <td>150</td>\n",
              "      <td>5.0</td>\n",
              "      <td>7.0</td>\n",
              "      <td>10.0</td>\n",
              "      <td>8.0</td>\n",
              "      <td>9.0</td>\n",
              "      <td>10.0</td>\n",
              "      <td>10.0</td>\n",
              "      <td>8.0</td>\n",
              "      <td>10.0</td>\n",
              "      <td>9.0</td>\n",
              "      <td>9.0</td>\n",
              "    </tr>\n",
              "    <tr>\n",
              "      <th>2</th>\n",
              "      <td>Mobily</td>\n",
              "      <td>Western</td>\n",
              "      <td>Expat Asians</td>\n",
              "      <td>Male</td>\n",
              "      <td>32.0</td>\n",
              "      <td>Prepaid</td>\n",
              "      <td>VLV</td>\n",
              "      <td>3.0</td>\n",
              "      <td>3.0</td>\n",
              "      <td>50</td>\n",
              "      <td>5.0</td>\n",
              "      <td>3.0</td>\n",
              "      <td>10.0</td>\n",
              "      <td>9.0</td>\n",
              "      <td>7.0</td>\n",
              "      <td>10.0</td>\n",
              "      <td>10.0</td>\n",
              "      <td>8.0</td>\n",
              "      <td>10.0</td>\n",
              "      <td>9.0</td>\n",
              "      <td>9.0</td>\n",
              "    </tr>\n",
              "    <tr>\n",
              "      <th>3</th>\n",
              "      <td>Mobily</td>\n",
              "      <td>Central</td>\n",
              "      <td>Nationals</td>\n",
              "      <td>Male</td>\n",
              "      <td>31.0</td>\n",
              "      <td>Postpaid</td>\n",
              "      <td>VHV</td>\n",
              "      <td>2.0</td>\n",
              "      <td>1.0</td>\n",
              "      <td>-25</td>\n",
              "      <td>5.0</td>\n",
              "      <td>4.0</td>\n",
              "      <td>10.0</td>\n",
              "      <td>5.0</td>\n",
              "      <td>4.0</td>\n",
              "      <td>4.0</td>\n",
              "      <td>6.0</td>\n",
              "      <td>5.0</td>\n",
              "      <td>5.0</td>\n",
              "      <td>9.0</td>\n",
              "      <td>6.0</td>\n",
              "    </tr>\n",
              "    <tr>\n",
              "      <th>4</th>\n",
              "      <td>Mobily</td>\n",
              "      <td>South</td>\n",
              "      <td>Expat Arabs</td>\n",
              "      <td>Male</td>\n",
              "      <td>16.0</td>\n",
              "      <td>Prepaid</td>\n",
              "      <td>HV</td>\n",
              "      <td>5.0</td>\n",
              "      <td>5.0</td>\n",
              "      <td>150</td>\n",
              "      <td>10.0</td>\n",
              "      <td>10.0</td>\n",
              "      <td>10.0</td>\n",
              "      <td>10.0</td>\n",
              "      <td>10.0</td>\n",
              "      <td>10.0</td>\n",
              "      <td>10.0</td>\n",
              "      <td>8.0</td>\n",
              "      <td>10.0</td>\n",
              "      <td>9.0</td>\n",
              "      <td>9.0</td>\n",
              "    </tr>\n",
              "  </tbody>\n",
              "</table>\n",
              "</div>"
            ],
            "text/plain": [
              "  Current_connection   Region  ... Performance_SNS_Promotions Digital_performance\n",
              "0             Mobily  Western  ...                        9.0                 9.0\n",
              "1             Mobily  Western  ...                        9.0                 9.0\n",
              "2             Mobily  Western  ...                        9.0                 9.0\n",
              "3             Mobily  Central  ...                        9.0                 6.0\n",
              "4             Mobily    South  ...                        9.0                 9.0\n",
              "\n",
              "[5 rows x 21 columns]"
            ]
          },
          "metadata": {
            "tags": []
          },
          "execution_count": 421
        }
      ]
    },
    {
      "cell_type": "code",
      "metadata": {
        "colab": {
          "base_uri": "https://localhost:8080/",
          "height": 237
        },
        "id": "X0W9hUsYYsQh",
        "outputId": "9c604138-1be6-4508-c6fa-0020de269149"
      },
      "source": [
        "## Convert the Object items to Number system\r\n",
        "df= pd.get_dummies(df,drop_first = True)\r\n",
        "df.head()"
      ],
      "execution_count": 422,
      "outputs": [
        {
          "output_type": "execute_result",
          "data": {
            "text/html": [
              "<div>\n",
              "<style scoped>\n",
              "    .dataframe tbody tr th:only-of-type {\n",
              "        vertical-align: middle;\n",
              "    }\n",
              "\n",
              "    .dataframe tbody tr th {\n",
              "        vertical-align: top;\n",
              "    }\n",
              "\n",
              "    .dataframe thead th {\n",
              "        text-align: right;\n",
              "    }\n",
              "</style>\n",
              "<table border=\"1\" class=\"dataframe\">\n",
              "  <thead>\n",
              "    <tr style=\"text-align: right;\">\n",
              "      <th></th>\n",
              "      <th>Exact_Age</th>\n",
              "      <th>Performance</th>\n",
              "      <th>Preference</th>\n",
              "      <th>TRIM_Index</th>\n",
              "      <th>Communication</th>\n",
              "      <th>Proposition</th>\n",
              "      <th>Sales_Experience</th>\n",
              "      <th>Opt_inout</th>\n",
              "      <th>Network_Satisfaction</th>\n",
              "      <th>Customer_Support</th>\n",
              "      <th>Billing_Payment</th>\n",
              "      <th>Website_performance</th>\n",
              "      <th>Mobileapp_satisfaction</th>\n",
              "      <th>Performance_SNS_Promotions</th>\n",
              "      <th>Digital_performance</th>\n",
              "      <th>Current_connection_Jawwy</th>\n",
              "      <th>Current_connection_Lebara</th>\n",
              "      <th>Current_connection_Mobily</th>\n",
              "      <th>Current_connection_STC</th>\n",
              "      <th>Current_connection_Virgin</th>\n",
              "      <th>Current_connection_Zain</th>\n",
              "      <th>Region_Eastern</th>\n",
              "      <th>Region_Northern</th>\n",
              "      <th>Region_Others</th>\n",
              "      <th>Region_South</th>\n",
              "      <th>Region_Western</th>\n",
              "      <th>Nationality_Expat Asians</th>\n",
              "      <th>Nationality_Nationals</th>\n",
              "      <th>Gender_Male</th>\n",
              "      <th>Connection_ Prepaid</th>\n",
              "      <th>Connection_Postpaid Data SIM</th>\n",
              "      <th>Connection_Prepaid Data SIM</th>\n",
              "      <th>Segment_HV</th>\n",
              "      <th>Segment_LV</th>\n",
              "      <th>Segment_MV</th>\n",
              "      <th>Segment_VHV</th>\n",
              "      <th>Segment_VLV</th>\n",
              "    </tr>\n",
              "  </thead>\n",
              "  <tbody>\n",
              "    <tr>\n",
              "      <th>0</th>\n",
              "      <td>23.0</td>\n",
              "      <td>5.0</td>\n",
              "      <td>4.0</td>\n",
              "      <td>125</td>\n",
              "      <td>0.0</td>\n",
              "      <td>10.0</td>\n",
              "      <td>10.0</td>\n",
              "      <td>10.0</td>\n",
              "      <td>10.0</td>\n",
              "      <td>10.0</td>\n",
              "      <td>10.0</td>\n",
              "      <td>8.0</td>\n",
              "      <td>10.0</td>\n",
              "      <td>9.0</td>\n",
              "      <td>9.0</td>\n",
              "      <td>0</td>\n",
              "      <td>0</td>\n",
              "      <td>1</td>\n",
              "      <td>0</td>\n",
              "      <td>0</td>\n",
              "      <td>0</td>\n",
              "      <td>0</td>\n",
              "      <td>0</td>\n",
              "      <td>0</td>\n",
              "      <td>0</td>\n",
              "      <td>1</td>\n",
              "      <td>0</td>\n",
              "      <td>1</td>\n",
              "      <td>0</td>\n",
              "      <td>1</td>\n",
              "      <td>0</td>\n",
              "      <td>0</td>\n",
              "      <td>0</td>\n",
              "      <td>1</td>\n",
              "      <td>0</td>\n",
              "      <td>0</td>\n",
              "      <td>0</td>\n",
              "    </tr>\n",
              "    <tr>\n",
              "      <th>1</th>\n",
              "      <td>35.0</td>\n",
              "      <td>5.0</td>\n",
              "      <td>5.0</td>\n",
              "      <td>150</td>\n",
              "      <td>5.0</td>\n",
              "      <td>7.0</td>\n",
              "      <td>10.0</td>\n",
              "      <td>8.0</td>\n",
              "      <td>9.0</td>\n",
              "      <td>10.0</td>\n",
              "      <td>10.0</td>\n",
              "      <td>8.0</td>\n",
              "      <td>10.0</td>\n",
              "      <td>9.0</td>\n",
              "      <td>9.0</td>\n",
              "      <td>0</td>\n",
              "      <td>0</td>\n",
              "      <td>1</td>\n",
              "      <td>0</td>\n",
              "      <td>0</td>\n",
              "      <td>0</td>\n",
              "      <td>0</td>\n",
              "      <td>0</td>\n",
              "      <td>0</td>\n",
              "      <td>0</td>\n",
              "      <td>1</td>\n",
              "      <td>1</td>\n",
              "      <td>0</td>\n",
              "      <td>1</td>\n",
              "      <td>1</td>\n",
              "      <td>0</td>\n",
              "      <td>0</td>\n",
              "      <td>0</td>\n",
              "      <td>0</td>\n",
              "      <td>0</td>\n",
              "      <td>0</td>\n",
              "      <td>1</td>\n",
              "    </tr>\n",
              "    <tr>\n",
              "      <th>2</th>\n",
              "      <td>32.0</td>\n",
              "      <td>3.0</td>\n",
              "      <td>3.0</td>\n",
              "      <td>50</td>\n",
              "      <td>5.0</td>\n",
              "      <td>3.0</td>\n",
              "      <td>10.0</td>\n",
              "      <td>9.0</td>\n",
              "      <td>7.0</td>\n",
              "      <td>10.0</td>\n",
              "      <td>10.0</td>\n",
              "      <td>8.0</td>\n",
              "      <td>10.0</td>\n",
              "      <td>9.0</td>\n",
              "      <td>9.0</td>\n",
              "      <td>0</td>\n",
              "      <td>0</td>\n",
              "      <td>1</td>\n",
              "      <td>0</td>\n",
              "      <td>0</td>\n",
              "      <td>0</td>\n",
              "      <td>0</td>\n",
              "      <td>0</td>\n",
              "      <td>0</td>\n",
              "      <td>0</td>\n",
              "      <td>1</td>\n",
              "      <td>1</td>\n",
              "      <td>0</td>\n",
              "      <td>1</td>\n",
              "      <td>1</td>\n",
              "      <td>0</td>\n",
              "      <td>0</td>\n",
              "      <td>0</td>\n",
              "      <td>0</td>\n",
              "      <td>0</td>\n",
              "      <td>0</td>\n",
              "      <td>1</td>\n",
              "    </tr>\n",
              "    <tr>\n",
              "      <th>3</th>\n",
              "      <td>31.0</td>\n",
              "      <td>2.0</td>\n",
              "      <td>1.0</td>\n",
              "      <td>-25</td>\n",
              "      <td>5.0</td>\n",
              "      <td>4.0</td>\n",
              "      <td>10.0</td>\n",
              "      <td>5.0</td>\n",
              "      <td>4.0</td>\n",
              "      <td>4.0</td>\n",
              "      <td>6.0</td>\n",
              "      <td>5.0</td>\n",
              "      <td>5.0</td>\n",
              "      <td>9.0</td>\n",
              "      <td>6.0</td>\n",
              "      <td>0</td>\n",
              "      <td>0</td>\n",
              "      <td>1</td>\n",
              "      <td>0</td>\n",
              "      <td>0</td>\n",
              "      <td>0</td>\n",
              "      <td>0</td>\n",
              "      <td>0</td>\n",
              "      <td>0</td>\n",
              "      <td>0</td>\n",
              "      <td>0</td>\n",
              "      <td>0</td>\n",
              "      <td>1</td>\n",
              "      <td>1</td>\n",
              "      <td>0</td>\n",
              "      <td>0</td>\n",
              "      <td>0</td>\n",
              "      <td>0</td>\n",
              "      <td>0</td>\n",
              "      <td>0</td>\n",
              "      <td>1</td>\n",
              "      <td>0</td>\n",
              "    </tr>\n",
              "    <tr>\n",
              "      <th>4</th>\n",
              "      <td>16.0</td>\n",
              "      <td>5.0</td>\n",
              "      <td>5.0</td>\n",
              "      <td>150</td>\n",
              "      <td>10.0</td>\n",
              "      <td>10.0</td>\n",
              "      <td>10.0</td>\n",
              "      <td>10.0</td>\n",
              "      <td>10.0</td>\n",
              "      <td>10.0</td>\n",
              "      <td>10.0</td>\n",
              "      <td>8.0</td>\n",
              "      <td>10.0</td>\n",
              "      <td>9.0</td>\n",
              "      <td>9.0</td>\n",
              "      <td>0</td>\n",
              "      <td>0</td>\n",
              "      <td>1</td>\n",
              "      <td>0</td>\n",
              "      <td>0</td>\n",
              "      <td>0</td>\n",
              "      <td>0</td>\n",
              "      <td>0</td>\n",
              "      <td>0</td>\n",
              "      <td>1</td>\n",
              "      <td>0</td>\n",
              "      <td>0</td>\n",
              "      <td>0</td>\n",
              "      <td>1</td>\n",
              "      <td>1</td>\n",
              "      <td>0</td>\n",
              "      <td>0</td>\n",
              "      <td>1</td>\n",
              "      <td>0</td>\n",
              "      <td>0</td>\n",
              "      <td>0</td>\n",
              "      <td>0</td>\n",
              "    </tr>\n",
              "  </tbody>\n",
              "</table>\n",
              "</div>"
            ],
            "text/plain": [
              "   Exact_Age  Performance  Preference  ...  Segment_MV  Segment_VHV  Segment_VLV\n",
              "0       23.0          5.0         4.0  ...           0            0            0\n",
              "1       35.0          5.0         5.0  ...           0            0            1\n",
              "2       32.0          3.0         3.0  ...           0            0            1\n",
              "3       31.0          2.0         1.0  ...           0            1            0\n",
              "4       16.0          5.0         5.0  ...           0            0            0\n",
              "\n",
              "[5 rows x 37 columns]"
            ]
          },
          "metadata": {
            "tags": []
          },
          "execution_count": 422
        }
      ]
    },
    {
      "cell_type": "code",
      "metadata": {
        "id": "eNtP21ODdF6_"
      },
      "source": [
        "df.drop(['Website_performance','Mobileapp_satisfaction', 'Performance_SNS_Promotions'], axis = 1, inplace = True)"
      ],
      "execution_count": 423,
      "outputs": []
    },
    {
      "cell_type": "code",
      "metadata": {
        "colab": {
          "base_uri": "https://localhost:8080/",
          "height": 237
        },
        "id": "PzcuJevQdf0V",
        "outputId": "2ff3fbdb-9f04-45b0-e6c4-2714b9cfd24f"
      },
      "source": [
        "df.head()"
      ],
      "execution_count": 424,
      "outputs": [
        {
          "output_type": "execute_result",
          "data": {
            "text/html": [
              "<div>\n",
              "<style scoped>\n",
              "    .dataframe tbody tr th:only-of-type {\n",
              "        vertical-align: middle;\n",
              "    }\n",
              "\n",
              "    .dataframe tbody tr th {\n",
              "        vertical-align: top;\n",
              "    }\n",
              "\n",
              "    .dataframe thead th {\n",
              "        text-align: right;\n",
              "    }\n",
              "</style>\n",
              "<table border=\"1\" class=\"dataframe\">\n",
              "  <thead>\n",
              "    <tr style=\"text-align: right;\">\n",
              "      <th></th>\n",
              "      <th>Exact_Age</th>\n",
              "      <th>Performance</th>\n",
              "      <th>Preference</th>\n",
              "      <th>TRIM_Index</th>\n",
              "      <th>Communication</th>\n",
              "      <th>Proposition</th>\n",
              "      <th>Sales_Experience</th>\n",
              "      <th>Opt_inout</th>\n",
              "      <th>Network_Satisfaction</th>\n",
              "      <th>Customer_Support</th>\n",
              "      <th>Billing_Payment</th>\n",
              "      <th>Digital_performance</th>\n",
              "      <th>Current_connection_Jawwy</th>\n",
              "      <th>Current_connection_Lebara</th>\n",
              "      <th>Current_connection_Mobily</th>\n",
              "      <th>Current_connection_STC</th>\n",
              "      <th>Current_connection_Virgin</th>\n",
              "      <th>Current_connection_Zain</th>\n",
              "      <th>Region_Eastern</th>\n",
              "      <th>Region_Northern</th>\n",
              "      <th>Region_Others</th>\n",
              "      <th>Region_South</th>\n",
              "      <th>Region_Western</th>\n",
              "      <th>Nationality_Expat Asians</th>\n",
              "      <th>Nationality_Nationals</th>\n",
              "      <th>Gender_Male</th>\n",
              "      <th>Connection_ Prepaid</th>\n",
              "      <th>Connection_Postpaid Data SIM</th>\n",
              "      <th>Connection_Prepaid Data SIM</th>\n",
              "      <th>Segment_HV</th>\n",
              "      <th>Segment_LV</th>\n",
              "      <th>Segment_MV</th>\n",
              "      <th>Segment_VHV</th>\n",
              "      <th>Segment_VLV</th>\n",
              "    </tr>\n",
              "  </thead>\n",
              "  <tbody>\n",
              "    <tr>\n",
              "      <th>0</th>\n",
              "      <td>23.0</td>\n",
              "      <td>5.0</td>\n",
              "      <td>4.0</td>\n",
              "      <td>125</td>\n",
              "      <td>0.0</td>\n",
              "      <td>10.0</td>\n",
              "      <td>10.0</td>\n",
              "      <td>10.0</td>\n",
              "      <td>10.0</td>\n",
              "      <td>10.0</td>\n",
              "      <td>10.0</td>\n",
              "      <td>9.0</td>\n",
              "      <td>0</td>\n",
              "      <td>0</td>\n",
              "      <td>1</td>\n",
              "      <td>0</td>\n",
              "      <td>0</td>\n",
              "      <td>0</td>\n",
              "      <td>0</td>\n",
              "      <td>0</td>\n",
              "      <td>0</td>\n",
              "      <td>0</td>\n",
              "      <td>1</td>\n",
              "      <td>0</td>\n",
              "      <td>1</td>\n",
              "      <td>0</td>\n",
              "      <td>1</td>\n",
              "      <td>0</td>\n",
              "      <td>0</td>\n",
              "      <td>0</td>\n",
              "      <td>1</td>\n",
              "      <td>0</td>\n",
              "      <td>0</td>\n",
              "      <td>0</td>\n",
              "    </tr>\n",
              "    <tr>\n",
              "      <th>1</th>\n",
              "      <td>35.0</td>\n",
              "      <td>5.0</td>\n",
              "      <td>5.0</td>\n",
              "      <td>150</td>\n",
              "      <td>5.0</td>\n",
              "      <td>7.0</td>\n",
              "      <td>10.0</td>\n",
              "      <td>8.0</td>\n",
              "      <td>9.0</td>\n",
              "      <td>10.0</td>\n",
              "      <td>10.0</td>\n",
              "      <td>9.0</td>\n",
              "      <td>0</td>\n",
              "      <td>0</td>\n",
              "      <td>1</td>\n",
              "      <td>0</td>\n",
              "      <td>0</td>\n",
              "      <td>0</td>\n",
              "      <td>0</td>\n",
              "      <td>0</td>\n",
              "      <td>0</td>\n",
              "      <td>0</td>\n",
              "      <td>1</td>\n",
              "      <td>1</td>\n",
              "      <td>0</td>\n",
              "      <td>1</td>\n",
              "      <td>1</td>\n",
              "      <td>0</td>\n",
              "      <td>0</td>\n",
              "      <td>0</td>\n",
              "      <td>0</td>\n",
              "      <td>0</td>\n",
              "      <td>0</td>\n",
              "      <td>1</td>\n",
              "    </tr>\n",
              "    <tr>\n",
              "      <th>2</th>\n",
              "      <td>32.0</td>\n",
              "      <td>3.0</td>\n",
              "      <td>3.0</td>\n",
              "      <td>50</td>\n",
              "      <td>5.0</td>\n",
              "      <td>3.0</td>\n",
              "      <td>10.0</td>\n",
              "      <td>9.0</td>\n",
              "      <td>7.0</td>\n",
              "      <td>10.0</td>\n",
              "      <td>10.0</td>\n",
              "      <td>9.0</td>\n",
              "      <td>0</td>\n",
              "      <td>0</td>\n",
              "      <td>1</td>\n",
              "      <td>0</td>\n",
              "      <td>0</td>\n",
              "      <td>0</td>\n",
              "      <td>0</td>\n",
              "      <td>0</td>\n",
              "      <td>0</td>\n",
              "      <td>0</td>\n",
              "      <td>1</td>\n",
              "      <td>1</td>\n",
              "      <td>0</td>\n",
              "      <td>1</td>\n",
              "      <td>1</td>\n",
              "      <td>0</td>\n",
              "      <td>0</td>\n",
              "      <td>0</td>\n",
              "      <td>0</td>\n",
              "      <td>0</td>\n",
              "      <td>0</td>\n",
              "      <td>1</td>\n",
              "    </tr>\n",
              "    <tr>\n",
              "      <th>3</th>\n",
              "      <td>31.0</td>\n",
              "      <td>2.0</td>\n",
              "      <td>1.0</td>\n",
              "      <td>-25</td>\n",
              "      <td>5.0</td>\n",
              "      <td>4.0</td>\n",
              "      <td>10.0</td>\n",
              "      <td>5.0</td>\n",
              "      <td>4.0</td>\n",
              "      <td>4.0</td>\n",
              "      <td>6.0</td>\n",
              "      <td>6.0</td>\n",
              "      <td>0</td>\n",
              "      <td>0</td>\n",
              "      <td>1</td>\n",
              "      <td>0</td>\n",
              "      <td>0</td>\n",
              "      <td>0</td>\n",
              "      <td>0</td>\n",
              "      <td>0</td>\n",
              "      <td>0</td>\n",
              "      <td>0</td>\n",
              "      <td>0</td>\n",
              "      <td>0</td>\n",
              "      <td>1</td>\n",
              "      <td>1</td>\n",
              "      <td>0</td>\n",
              "      <td>0</td>\n",
              "      <td>0</td>\n",
              "      <td>0</td>\n",
              "      <td>0</td>\n",
              "      <td>0</td>\n",
              "      <td>1</td>\n",
              "      <td>0</td>\n",
              "    </tr>\n",
              "    <tr>\n",
              "      <th>4</th>\n",
              "      <td>16.0</td>\n",
              "      <td>5.0</td>\n",
              "      <td>5.0</td>\n",
              "      <td>150</td>\n",
              "      <td>10.0</td>\n",
              "      <td>10.0</td>\n",
              "      <td>10.0</td>\n",
              "      <td>10.0</td>\n",
              "      <td>10.0</td>\n",
              "      <td>10.0</td>\n",
              "      <td>10.0</td>\n",
              "      <td>9.0</td>\n",
              "      <td>0</td>\n",
              "      <td>0</td>\n",
              "      <td>1</td>\n",
              "      <td>0</td>\n",
              "      <td>0</td>\n",
              "      <td>0</td>\n",
              "      <td>0</td>\n",
              "      <td>0</td>\n",
              "      <td>0</td>\n",
              "      <td>1</td>\n",
              "      <td>0</td>\n",
              "      <td>0</td>\n",
              "      <td>0</td>\n",
              "      <td>1</td>\n",
              "      <td>1</td>\n",
              "      <td>0</td>\n",
              "      <td>0</td>\n",
              "      <td>1</td>\n",
              "      <td>0</td>\n",
              "      <td>0</td>\n",
              "      <td>0</td>\n",
              "      <td>0</td>\n",
              "    </tr>\n",
              "  </tbody>\n",
              "</table>\n",
              "</div>"
            ],
            "text/plain": [
              "   Exact_Age  Performance  Preference  ...  Segment_MV  Segment_VHV  Segment_VLV\n",
              "0       23.0          5.0         4.0  ...           0            0            0\n",
              "1       35.0          5.0         5.0  ...           0            0            1\n",
              "2       32.0          3.0         3.0  ...           0            0            1\n",
              "3       31.0          2.0         1.0  ...           0            1            0\n",
              "4       16.0          5.0         5.0  ...           0            0            0\n",
              "\n",
              "[5 rows x 34 columns]"
            ]
          },
          "metadata": {
            "tags": []
          },
          "execution_count": 424
        }
      ]
    },
    {
      "cell_type": "code",
      "metadata": {
        "id": "aeMxdLrldtas"
      },
      "source": [
        "df_x = df.drop('TRIM_Index', axis = 1)\r\n"
      ],
      "execution_count": 425,
      "outputs": []
    },
    {
      "cell_type": "code",
      "metadata": {
        "colab": {
          "base_uri": "https://localhost:8080/"
        },
        "id": "r8VoVVKSxFi5",
        "outputId": "9682bdd0-ae0e-4b68-cfbb-7b0f587bc628"
      },
      "source": [
        "df['Current_connection_Mobily'].value_counts()"
      ],
      "execution_count": 426,
      "outputs": [
        {
          "output_type": "execute_result",
          "data": {
            "text/plain": [
              "1    14570\n",
              "0    14502\n",
              "Name: Current_connection_Mobily, dtype: int64"
            ]
          },
          "metadata": {
            "tags": []
          },
          "execution_count": 426
        }
      ]
    },
    {
      "cell_type": "markdown",
      "metadata": {
        "id": "P9SNungwZzLH"
      },
      "source": [
        "**Identification of Outliers**"
      ]
    },
    {
      "cell_type": "code",
      "metadata": {
        "colab": {
          "base_uri": "https://localhost:8080/",
          "height": 237
        },
        "id": "FFKhX_sKZCMq",
        "outputId": "b052f996-4746-4b2f-800d-fd48ff94b222"
      },
      "source": [
        "from scipy.stats import zscore\r\n",
        "df['zscore_TRIM'] = zscore(df.TRIM_Index)\r\n",
        "df.head()"
      ],
      "execution_count": 427,
      "outputs": [
        {
          "output_type": "execute_result",
          "data": {
            "text/html": [
              "<div>\n",
              "<style scoped>\n",
              "    .dataframe tbody tr th:only-of-type {\n",
              "        vertical-align: middle;\n",
              "    }\n",
              "\n",
              "    .dataframe tbody tr th {\n",
              "        vertical-align: top;\n",
              "    }\n",
              "\n",
              "    .dataframe thead th {\n",
              "        text-align: right;\n",
              "    }\n",
              "</style>\n",
              "<table border=\"1\" class=\"dataframe\">\n",
              "  <thead>\n",
              "    <tr style=\"text-align: right;\">\n",
              "      <th></th>\n",
              "      <th>Exact_Age</th>\n",
              "      <th>Performance</th>\n",
              "      <th>Preference</th>\n",
              "      <th>TRIM_Index</th>\n",
              "      <th>Communication</th>\n",
              "      <th>Proposition</th>\n",
              "      <th>Sales_Experience</th>\n",
              "      <th>Opt_inout</th>\n",
              "      <th>Network_Satisfaction</th>\n",
              "      <th>Customer_Support</th>\n",
              "      <th>Billing_Payment</th>\n",
              "      <th>Digital_performance</th>\n",
              "      <th>Current_connection_Jawwy</th>\n",
              "      <th>Current_connection_Lebara</th>\n",
              "      <th>Current_connection_Mobily</th>\n",
              "      <th>Current_connection_STC</th>\n",
              "      <th>Current_connection_Virgin</th>\n",
              "      <th>Current_connection_Zain</th>\n",
              "      <th>Region_Eastern</th>\n",
              "      <th>Region_Northern</th>\n",
              "      <th>Region_Others</th>\n",
              "      <th>Region_South</th>\n",
              "      <th>Region_Western</th>\n",
              "      <th>Nationality_Expat Asians</th>\n",
              "      <th>Nationality_Nationals</th>\n",
              "      <th>Gender_Male</th>\n",
              "      <th>Connection_ Prepaid</th>\n",
              "      <th>Connection_Postpaid Data SIM</th>\n",
              "      <th>Connection_Prepaid Data SIM</th>\n",
              "      <th>Segment_HV</th>\n",
              "      <th>Segment_LV</th>\n",
              "      <th>Segment_MV</th>\n",
              "      <th>Segment_VHV</th>\n",
              "      <th>Segment_VLV</th>\n",
              "      <th>zscore_TRIM</th>\n",
              "    </tr>\n",
              "  </thead>\n",
              "  <tbody>\n",
              "    <tr>\n",
              "      <th>0</th>\n",
              "      <td>23.0</td>\n",
              "      <td>5.0</td>\n",
              "      <td>4.0</td>\n",
              "      <td>125</td>\n",
              "      <td>0.0</td>\n",
              "      <td>10.0</td>\n",
              "      <td>10.0</td>\n",
              "      <td>10.0</td>\n",
              "      <td>10.0</td>\n",
              "      <td>10.0</td>\n",
              "      <td>10.0</td>\n",
              "      <td>9.0</td>\n",
              "      <td>0</td>\n",
              "      <td>0</td>\n",
              "      <td>1</td>\n",
              "      <td>0</td>\n",
              "      <td>0</td>\n",
              "      <td>0</td>\n",
              "      <td>0</td>\n",
              "      <td>0</td>\n",
              "      <td>0</td>\n",
              "      <td>0</td>\n",
              "      <td>1</td>\n",
              "      <td>0</td>\n",
              "      <td>1</td>\n",
              "      <td>0</td>\n",
              "      <td>1</td>\n",
              "      <td>0</td>\n",
              "      <td>0</td>\n",
              "      <td>0</td>\n",
              "      <td>1</td>\n",
              "      <td>0</td>\n",
              "      <td>0</td>\n",
              "      <td>0</td>\n",
              "      <td>0.685403</td>\n",
              "    </tr>\n",
              "    <tr>\n",
              "      <th>1</th>\n",
              "      <td>35.0</td>\n",
              "      <td>5.0</td>\n",
              "      <td>5.0</td>\n",
              "      <td>150</td>\n",
              "      <td>5.0</td>\n",
              "      <td>7.0</td>\n",
              "      <td>10.0</td>\n",
              "      <td>8.0</td>\n",
              "      <td>9.0</td>\n",
              "      <td>10.0</td>\n",
              "      <td>10.0</td>\n",
              "      <td>9.0</td>\n",
              "      <td>0</td>\n",
              "      <td>0</td>\n",
              "      <td>1</td>\n",
              "      <td>0</td>\n",
              "      <td>0</td>\n",
              "      <td>0</td>\n",
              "      <td>0</td>\n",
              "      <td>0</td>\n",
              "      <td>0</td>\n",
              "      <td>0</td>\n",
              "      <td>1</td>\n",
              "      <td>1</td>\n",
              "      <td>0</td>\n",
              "      <td>1</td>\n",
              "      <td>1</td>\n",
              "      <td>0</td>\n",
              "      <td>0</td>\n",
              "      <td>0</td>\n",
              "      <td>0</td>\n",
              "      <td>0</td>\n",
              "      <td>0</td>\n",
              "      <td>1</td>\n",
              "      <td>1.159336</td>\n",
              "    </tr>\n",
              "    <tr>\n",
              "      <th>2</th>\n",
              "      <td>32.0</td>\n",
              "      <td>3.0</td>\n",
              "      <td>3.0</td>\n",
              "      <td>50</td>\n",
              "      <td>5.0</td>\n",
              "      <td>3.0</td>\n",
              "      <td>10.0</td>\n",
              "      <td>9.0</td>\n",
              "      <td>7.0</td>\n",
              "      <td>10.0</td>\n",
              "      <td>10.0</td>\n",
              "      <td>9.0</td>\n",
              "      <td>0</td>\n",
              "      <td>0</td>\n",
              "      <td>1</td>\n",
              "      <td>0</td>\n",
              "      <td>0</td>\n",
              "      <td>0</td>\n",
              "      <td>0</td>\n",
              "      <td>0</td>\n",
              "      <td>0</td>\n",
              "      <td>0</td>\n",
              "      <td>1</td>\n",
              "      <td>1</td>\n",
              "      <td>0</td>\n",
              "      <td>1</td>\n",
              "      <td>1</td>\n",
              "      <td>0</td>\n",
              "      <td>0</td>\n",
              "      <td>0</td>\n",
              "      <td>0</td>\n",
              "      <td>0</td>\n",
              "      <td>0</td>\n",
              "      <td>1</td>\n",
              "      <td>-0.736396</td>\n",
              "    </tr>\n",
              "    <tr>\n",
              "      <th>3</th>\n",
              "      <td>31.0</td>\n",
              "      <td>2.0</td>\n",
              "      <td>1.0</td>\n",
              "      <td>-25</td>\n",
              "      <td>5.0</td>\n",
              "      <td>4.0</td>\n",
              "      <td>10.0</td>\n",
              "      <td>5.0</td>\n",
              "      <td>4.0</td>\n",
              "      <td>4.0</td>\n",
              "      <td>6.0</td>\n",
              "      <td>6.0</td>\n",
              "      <td>0</td>\n",
              "      <td>0</td>\n",
              "      <td>1</td>\n",
              "      <td>0</td>\n",
              "      <td>0</td>\n",
              "      <td>0</td>\n",
              "      <td>0</td>\n",
              "      <td>0</td>\n",
              "      <td>0</td>\n",
              "      <td>0</td>\n",
              "      <td>0</td>\n",
              "      <td>0</td>\n",
              "      <td>1</td>\n",
              "      <td>1</td>\n",
              "      <td>0</td>\n",
              "      <td>0</td>\n",
              "      <td>0</td>\n",
              "      <td>0</td>\n",
              "      <td>0</td>\n",
              "      <td>0</td>\n",
              "      <td>1</td>\n",
              "      <td>0</td>\n",
              "      <td>-2.158194</td>\n",
              "    </tr>\n",
              "    <tr>\n",
              "      <th>4</th>\n",
              "      <td>16.0</td>\n",
              "      <td>5.0</td>\n",
              "      <td>5.0</td>\n",
              "      <td>150</td>\n",
              "      <td>10.0</td>\n",
              "      <td>10.0</td>\n",
              "      <td>10.0</td>\n",
              "      <td>10.0</td>\n",
              "      <td>10.0</td>\n",
              "      <td>10.0</td>\n",
              "      <td>10.0</td>\n",
              "      <td>9.0</td>\n",
              "      <td>0</td>\n",
              "      <td>0</td>\n",
              "      <td>1</td>\n",
              "      <td>0</td>\n",
              "      <td>0</td>\n",
              "      <td>0</td>\n",
              "      <td>0</td>\n",
              "      <td>0</td>\n",
              "      <td>0</td>\n",
              "      <td>1</td>\n",
              "      <td>0</td>\n",
              "      <td>0</td>\n",
              "      <td>0</td>\n",
              "      <td>1</td>\n",
              "      <td>1</td>\n",
              "      <td>0</td>\n",
              "      <td>0</td>\n",
              "      <td>1</td>\n",
              "      <td>0</td>\n",
              "      <td>0</td>\n",
              "      <td>0</td>\n",
              "      <td>0</td>\n",
              "      <td>1.159336</td>\n",
              "    </tr>\n",
              "  </tbody>\n",
              "</table>\n",
              "</div>"
            ],
            "text/plain": [
              "   Exact_Age  Performance  Preference  ...  Segment_VHV  Segment_VLV  zscore_TRIM\n",
              "0       23.0          5.0         4.0  ...            0            0     0.685403\n",
              "1       35.0          5.0         5.0  ...            0            1     1.159336\n",
              "2       32.0          3.0         3.0  ...            0            1    -0.736396\n",
              "3       31.0          2.0         1.0  ...            1            0    -2.158194\n",
              "4       16.0          5.0         5.0  ...            0            0     1.159336\n",
              "\n",
              "[5 rows x 35 columns]"
            ]
          },
          "metadata": {
            "tags": []
          },
          "execution_count": 427
        }
      ]
    },
    {
      "cell_type": "code",
      "metadata": {
        "colab": {
          "base_uri": "https://localhost:8080/",
          "height": 85
        },
        "id": "N8EbrXEYadzE",
        "outputId": "c140785a-fae1-46a1-d0eb-d90d29e6f320"
      },
      "source": [
        "df[(df.zscore_TRIM> 3) | (df.zscore_TRIM < -3)]"
      ],
      "execution_count": 428,
      "outputs": [
        {
          "output_type": "execute_result",
          "data": {
            "text/html": [
              "<div>\n",
              "<style scoped>\n",
              "    .dataframe tbody tr th:only-of-type {\n",
              "        vertical-align: middle;\n",
              "    }\n",
              "\n",
              "    .dataframe tbody tr th {\n",
              "        vertical-align: top;\n",
              "    }\n",
              "\n",
              "    .dataframe thead th {\n",
              "        text-align: right;\n",
              "    }\n",
              "</style>\n",
              "<table border=\"1\" class=\"dataframe\">\n",
              "  <thead>\n",
              "    <tr style=\"text-align: right;\">\n",
              "      <th></th>\n",
              "      <th>Exact_Age</th>\n",
              "      <th>Performance</th>\n",
              "      <th>Preference</th>\n",
              "      <th>TRIM_Index</th>\n",
              "      <th>Communication</th>\n",
              "      <th>Proposition</th>\n",
              "      <th>Sales_Experience</th>\n",
              "      <th>Opt_inout</th>\n",
              "      <th>Network_Satisfaction</th>\n",
              "      <th>Customer_Support</th>\n",
              "      <th>Billing_Payment</th>\n",
              "      <th>Digital_performance</th>\n",
              "      <th>Current_connection_Jawwy</th>\n",
              "      <th>Current_connection_Lebara</th>\n",
              "      <th>Current_connection_Mobily</th>\n",
              "      <th>Current_connection_STC</th>\n",
              "      <th>Current_connection_Virgin</th>\n",
              "      <th>Current_connection_Zain</th>\n",
              "      <th>Region_Eastern</th>\n",
              "      <th>Region_Northern</th>\n",
              "      <th>Region_Others</th>\n",
              "      <th>Region_South</th>\n",
              "      <th>Region_Western</th>\n",
              "      <th>Nationality_Expat Asians</th>\n",
              "      <th>Nationality_Nationals</th>\n",
              "      <th>Gender_Male</th>\n",
              "      <th>Connection_ Prepaid</th>\n",
              "      <th>Connection_Postpaid Data SIM</th>\n",
              "      <th>Connection_Prepaid Data SIM</th>\n",
              "      <th>Segment_HV</th>\n",
              "      <th>Segment_LV</th>\n",
              "      <th>Segment_MV</th>\n",
              "      <th>Segment_VHV</th>\n",
              "      <th>Segment_VLV</th>\n",
              "      <th>zscore_TRIM</th>\n",
              "    </tr>\n",
              "  </thead>\n",
              "  <tbody>\n",
              "  </tbody>\n",
              "</table>\n",
              "</div>"
            ],
            "text/plain": [
              "Empty DataFrame\n",
              "Columns: [Exact_Age, Performance, Preference, TRIM_Index, Communication, Proposition, Sales_Experience, Opt_inout, Network_Satisfaction, Customer_Support, Billing_Payment, Digital_performance, Current_connection_Jawwy, Current_connection_Lebara, Current_connection_Mobily, Current_connection_STC, Current_connection_Virgin, Current_connection_Zain, Region_Eastern, Region_Northern, Region_Others, Region_South, Region_Western, Nationality_Expat Asians, Nationality_Nationals, Gender_Male, Connection_ Prepaid, Connection_Postpaid Data SIM, Connection_Prepaid Data SIM, Segment_HV, Segment_LV, Segment_MV, Segment_VHV, Segment_VLV, zscore_TRIM]\n",
              "Index: []"
            ]
          },
          "metadata": {
            "tags": []
          },
          "execution_count": 428
        }
      ]
    },
    {
      "cell_type": "code",
      "metadata": {
        "colab": {
          "base_uri": "https://localhost:8080/",
          "height": 407
        },
        "id": "UHQRznzvcnPQ",
        "outputId": "5e79ce7f-7f3a-41d9-c32d-1496db244f0a"
      },
      "source": [
        "plt.boxplot(df.TRIM_Index)"
      ],
      "execution_count": 429,
      "outputs": [
        {
          "output_type": "execute_result",
          "data": {
            "text/plain": [
              "{'boxes': [<matplotlib.lines.Line2D at 0x7f7e4b147780>],\n",
              " 'caps': [<matplotlib.lines.Line2D at 0x7f7e4b1531d0>,\n",
              "  <matplotlib.lines.Line2D at 0x7f7e4b153550>],\n",
              " 'fliers': [<matplotlib.lines.Line2D at 0x7f7e4b153c50>],\n",
              " 'means': [],\n",
              " 'medians': [<matplotlib.lines.Line2D at 0x7f7e4b1538d0>],\n",
              " 'whiskers': [<matplotlib.lines.Line2D at 0x7f7e4b147a90>,\n",
              "  <matplotlib.lines.Line2D at 0x7f7e4b147e10>]}"
            ]
          },
          "metadata": {
            "tags": []
          },
          "execution_count": 429
        },
        {
          "output_type": "display_data",
          "data": {
            "image/png": "[encoded data removed]",
            "text/plain": [
              "<Figure size 432x288 with 1 Axes>"
            ]
          },
          "metadata": {
            "tags": [],
            "needs_background": "light"
          }
        }
      ]
    },
    {
      "cell_type": "code",
      "metadata": {
        "id": "R3QhK-awbSst"
      },
      "source": [
        "## No outliers are identified so, we will proceed with the full dataset"
      ],
      "execution_count": 430,
      "outputs": []
    },
    {
      "cell_type": "markdown",
      "metadata": {
        "id": "pdhR58QJcXtY"
      },
      "source": [
        "**Check for Multicollinearity**`"
      ]
    },
    {
      "cell_type": "code",
      "metadata": {
        "colab": {
          "base_uri": "https://localhost:8080/",
          "height": 755
        },
        "id": "2nSNyUV9cRcd",
        "outputId": "f30f0bca-7c38-44bf-8d27-75ad6cd27de7"
      },
      "source": [
        "plt.figure(figsize = (12,10))\r\n",
        "sns.heatmap(df_x.corr())"
      ],
      "execution_count": 431,
      "outputs": [
        {
          "output_type": "execute_result",
          "data": {
            "text/plain": [
              "<matplotlib.axes._subplots.AxesSubplot at 0x7f7e4b104588>"
            ]
          },
          "metadata": {
            "tags": []
          },
          "execution_count": 431
        },
        {
          "output_type": "display_data",
          "data": {
            "image/png": "[encoded data removed]",
            "text/plain": [
              "<Figure size 864x720 with 2 Axes>"
            ]
          },
          "metadata": {
            "tags": [],
            "needs_background": "light"
          }
        }
      ]
    },
    {
      "cell_type": "code",
      "metadata": {
        "id": "wimsMHNVeV_e"
      },
      "source": [
        "df_mobily = df[df['Current_connection_Mobily']==1]"
      ],
      "execution_count": 432,
      "outputs": []
    },
    {
      "cell_type": "code",
      "metadata": {
        "colab": {
          "base_uri": "https://localhost:8080/",
          "height": 237
        },
        "id": "cDqJNnqjhrLs",
        "outputId": "dfac7f1f-a70d-4631-fb70-d77cddb00129"
      },
      "source": [
        "df_mobily.head()"
      ],
      "execution_count": 433,
      "outputs": [
        {
          "output_type": "execute_result",
          "data": {
            "text/html": [
              "<div>\n",
              "<style scoped>\n",
              "    .dataframe tbody tr th:only-of-type {\n",
              "        vertical-align: middle;\n",
              "    }\n",
              "\n",
              "    .dataframe tbody tr th {\n",
              "        vertical-align: top;\n",
              "    }\n",
              "\n",
              "    .dataframe thead th {\n",
              "        text-align: right;\n",
              "    }\n",
              "</style>\n",
              "<table border=\"1\" class=\"dataframe\">\n",
              "  <thead>\n",
              "    <tr style=\"text-align: right;\">\n",
              "      <th></th>\n",
              "      <th>Exact_Age</th>\n",
              "      <th>Performance</th>\n",
              "      <th>Preference</th>\n",
              "      <th>TRIM_Index</th>\n",
              "      <th>Communication</th>\n",
              "      <th>Proposition</th>\n",
              "      <th>Sales_Experience</th>\n",
              "      <th>Opt_inout</th>\n",
              "      <th>Network_Satisfaction</th>\n",
              "      <th>Customer_Support</th>\n",
              "      <th>Billing_Payment</th>\n",
              "      <th>Digital_performance</th>\n",
              "      <th>Current_connection_Jawwy</th>\n",
              "      <th>Current_connection_Lebara</th>\n",
              "      <th>Current_connection_Mobily</th>\n",
              "      <th>Current_connection_STC</th>\n",
              "      <th>Current_connection_Virgin</th>\n",
              "      <th>Current_connection_Zain</th>\n",
              "      <th>Region_Eastern</th>\n",
              "      <th>Region_Northern</th>\n",
              "      <th>Region_Others</th>\n",
              "      <th>Region_South</th>\n",
              "      <th>Region_Western</th>\n",
              "      <th>Nationality_Expat Asians</th>\n",
              "      <th>Nationality_Nationals</th>\n",
              "      <th>Gender_Male</th>\n",
              "      <th>Connection_ Prepaid</th>\n",
              "      <th>Connection_Postpaid Data SIM</th>\n",
              "      <th>Connection_Prepaid Data SIM</th>\n",
              "      <th>Segment_HV</th>\n",
              "      <th>Segment_LV</th>\n",
              "      <th>Segment_MV</th>\n",
              "      <th>Segment_VHV</th>\n",
              "      <th>Segment_VLV</th>\n",
              "      <th>zscore_TRIM</th>\n",
              "    </tr>\n",
              "  </thead>\n",
              "  <tbody>\n",
              "    <tr>\n",
              "      <th>0</th>\n",
              "      <td>23.0</td>\n",
              "      <td>5.0</td>\n",
              "      <td>4.0</td>\n",
              "      <td>125</td>\n",
              "      <td>0.0</td>\n",
              "      <td>10.0</td>\n",
              "      <td>10.0</td>\n",
              "      <td>10.0</td>\n",
              "      <td>10.0</td>\n",
              "      <td>10.0</td>\n",
              "      <td>10.0</td>\n",
              "      <td>9.0</td>\n",
              "      <td>0</td>\n",
              "      <td>0</td>\n",
              "      <td>1</td>\n",
              "      <td>0</td>\n",
              "      <td>0</td>\n",
              "      <td>0</td>\n",
              "      <td>0</td>\n",
              "      <td>0</td>\n",
              "      <td>0</td>\n",
              "      <td>0</td>\n",
              "      <td>1</td>\n",
              "      <td>0</td>\n",
              "      <td>1</td>\n",
              "      <td>0</td>\n",
              "      <td>1</td>\n",
              "      <td>0</td>\n",
              "      <td>0</td>\n",
              "      <td>0</td>\n",
              "      <td>1</td>\n",
              "      <td>0</td>\n",
              "      <td>0</td>\n",
              "      <td>0</td>\n",
              "      <td>0.685403</td>\n",
              "    </tr>\n",
              "    <tr>\n",
              "      <th>1</th>\n",
              "      <td>35.0</td>\n",
              "      <td>5.0</td>\n",
              "      <td>5.0</td>\n",
              "      <td>150</td>\n",
              "      <td>5.0</td>\n",
              "      <td>7.0</td>\n",
              "      <td>10.0</td>\n",
              "      <td>8.0</td>\n",
              "      <td>9.0</td>\n",
              "      <td>10.0</td>\n",
              "      <td>10.0</td>\n",
              "      <td>9.0</td>\n",
              "      <td>0</td>\n",
              "      <td>0</td>\n",
              "      <td>1</td>\n",
              "      <td>0</td>\n",
              "      <td>0</td>\n",
              "      <td>0</td>\n",
              "      <td>0</td>\n",
              "      <td>0</td>\n",
              "      <td>0</td>\n",
              "      <td>0</td>\n",
              "      <td>1</td>\n",
              "      <td>1</td>\n",
              "      <td>0</td>\n",
              "      <td>1</td>\n",
              "      <td>1</td>\n",
              "      <td>0</td>\n",
              "      <td>0</td>\n",
              "      <td>0</td>\n",
              "      <td>0</td>\n",
              "      <td>0</td>\n",
              "      <td>0</td>\n",
              "      <td>1</td>\n",
              "      <td>1.159336</td>\n",
              "    </tr>\n",
              "    <tr>\n",
              "      <th>2</th>\n",
              "      <td>32.0</td>\n",
              "      <td>3.0</td>\n",
              "      <td>3.0</td>\n",
              "      <td>50</td>\n",
              "      <td>5.0</td>\n",
              "      <td>3.0</td>\n",
              "      <td>10.0</td>\n",
              "      <td>9.0</td>\n",
              "      <td>7.0</td>\n",
              "      <td>10.0</td>\n",
              "      <td>10.0</td>\n",
              "      <td>9.0</td>\n",
              "      <td>0</td>\n",
              "      <td>0</td>\n",
              "      <td>1</td>\n",
              "      <td>0</td>\n",
              "      <td>0</td>\n",
              "      <td>0</td>\n",
              "      <td>0</td>\n",
              "      <td>0</td>\n",
              "      <td>0</td>\n",
              "      <td>0</td>\n",
              "      <td>1</td>\n",
              "      <td>1</td>\n",
              "      <td>0</td>\n",
              "      <td>1</td>\n",
              "      <td>1</td>\n",
              "      <td>0</td>\n",
              "      <td>0</td>\n",
              "      <td>0</td>\n",
              "      <td>0</td>\n",
              "      <td>0</td>\n",
              "      <td>0</td>\n",
              "      <td>1</td>\n",
              "      <td>-0.736396</td>\n",
              "    </tr>\n",
              "    <tr>\n",
              "      <th>3</th>\n",
              "      <td>31.0</td>\n",
              "      <td>2.0</td>\n",
              "      <td>1.0</td>\n",
              "      <td>-25</td>\n",
              "      <td>5.0</td>\n",
              "      <td>4.0</td>\n",
              "      <td>10.0</td>\n",
              "      <td>5.0</td>\n",
              "      <td>4.0</td>\n",
              "      <td>4.0</td>\n",
              "      <td>6.0</td>\n",
              "      <td>6.0</td>\n",
              "      <td>0</td>\n",
              "      <td>0</td>\n",
              "      <td>1</td>\n",
              "      <td>0</td>\n",
              "      <td>0</td>\n",
              "      <td>0</td>\n",
              "      <td>0</td>\n",
              "      <td>0</td>\n",
              "      <td>0</td>\n",
              "      <td>0</td>\n",
              "      <td>0</td>\n",
              "      <td>0</td>\n",
              "      <td>1</td>\n",
              "      <td>1</td>\n",
              "      <td>0</td>\n",
              "      <td>0</td>\n",
              "      <td>0</td>\n",
              "      <td>0</td>\n",
              "      <td>0</td>\n",
              "      <td>0</td>\n",
              "      <td>1</td>\n",
              "      <td>0</td>\n",
              "      <td>-2.158194</td>\n",
              "    </tr>\n",
              "    <tr>\n",
              "      <th>4</th>\n",
              "      <td>16.0</td>\n",
              "      <td>5.0</td>\n",
              "      <td>5.0</td>\n",
              "      <td>150</td>\n",
              "      <td>10.0</td>\n",
              "      <td>10.0</td>\n",
              "      <td>10.0</td>\n",
              "      <td>10.0</td>\n",
              "      <td>10.0</td>\n",
              "      <td>10.0</td>\n",
              "      <td>10.0</td>\n",
              "      <td>9.0</td>\n",
              "      <td>0</td>\n",
              "      <td>0</td>\n",
              "      <td>1</td>\n",
              "      <td>0</td>\n",
              "      <td>0</td>\n",
              "      <td>0</td>\n",
              "      <td>0</td>\n",
              "      <td>0</td>\n",
              "      <td>0</td>\n",
              "      <td>1</td>\n",
              "      <td>0</td>\n",
              "      <td>0</td>\n",
              "      <td>0</td>\n",
              "      <td>1</td>\n",
              "      <td>1</td>\n",
              "      <td>0</td>\n",
              "      <td>0</td>\n",
              "      <td>1</td>\n",
              "      <td>0</td>\n",
              "      <td>0</td>\n",
              "      <td>0</td>\n",
              "      <td>0</td>\n",
              "      <td>1.159336</td>\n",
              "    </tr>\n",
              "  </tbody>\n",
              "</table>\n",
              "</div>"
            ],
            "text/plain": [
              "   Exact_Age  Performance  Preference  ...  Segment_VHV  Segment_VLV  zscore_TRIM\n",
              "0       23.0          5.0         4.0  ...            0            0     0.685403\n",
              "1       35.0          5.0         5.0  ...            0            1     1.159336\n",
              "2       32.0          3.0         3.0  ...            0            1    -0.736396\n",
              "3       31.0          2.0         1.0  ...            1            0    -2.158194\n",
              "4       16.0          5.0         5.0  ...            0            0     1.159336\n",
              "\n",
              "[5 rows x 35 columns]"
            ]
          },
          "metadata": {
            "tags": []
          },
          "execution_count": 433
        }
      ]
    },
    {
      "cell_type": "code",
      "metadata": {
        "colab": {
          "base_uri": "https://localhost:8080/"
        },
        "id": "Nubr8boNhtfz",
        "outputId": "98254d61-61d1-4b57-bf38-674172032861"
      },
      "source": [
        "df_mobily.shape"
      ],
      "execution_count": 434,
      "outputs": [
        {
          "output_type": "execute_result",
          "data": {
            "text/plain": [
              "(14570, 35)"
            ]
          },
          "metadata": {
            "tags": []
          },
          "execution_count": 434
        }
      ]
    },
    {
      "cell_type": "code",
      "metadata": {
        "colab": {
          "base_uri": "https://localhost:8080/"
        },
        "id": "ApMi2nR3pHjZ",
        "outputId": "905a95b2-89db-41a2-f878-1e3fab3537cb"
      },
      "source": [
        "df_mobily.drop(['Exact_Age', 'Current_connection_Mobily', 'Current_connection_Jawwy','Current_connection_Lebara', 'Current_connection_STC', 'Current_connection_Virgin','Current_connection_Zain', 'zscore_TRIM','Performance', 'Preference'],axis = 1, inplace = True)"
      ],
      "execution_count": 435,
      "outputs": [
        {
          "output_type": "stream",
          "text": [
            "/usr/local/lib/python3.6/dist-packages/pandas/core/frame.py:4174: SettingWithCopyWarning: \n",
            "A value is trying to be set on a copy of a slice from a DataFrame\n",
            "\n",
            "See the caveats in the documentation: https://pandas.pydata.org/pandas-docs/stable/user_guide/indexing.html#returning-a-view-versus-a-copy\n",
            "  errors=errors,\n"
          ],
          "name": "stderr"
        }
      ]
    },
    {
      "cell_type": "code",
      "metadata": {
        "colab": {
          "base_uri": "https://localhost:8080/",
          "height": 237
        },
        "id": "eo7knoAmrbjL",
        "outputId": "221de0bd-f68e-46d1-f777-3e613759263e"
      },
      "source": [
        "df_mobily.head()"
      ],
      "execution_count": 436,
      "outputs": [
        {
          "output_type": "execute_result",
          "data": {
            "text/html": [
              "<div>\n",
              "<style scoped>\n",
              "    .dataframe tbody tr th:only-of-type {\n",
              "        vertical-align: middle;\n",
              "    }\n",
              "\n",
              "    .dataframe tbody tr th {\n",
              "        vertical-align: top;\n",
              "    }\n",
              "\n",
              "    .dataframe thead th {\n",
              "        text-align: right;\n",
              "    }\n",
              "</style>\n",
              "<table border=\"1\" class=\"dataframe\">\n",
              "  <thead>\n",
              "    <tr style=\"text-align: right;\">\n",
              "      <th></th>\n",
              "      <th>TRIM_Index</th>\n",
              "      <th>Communication</th>\n",
              "      <th>Proposition</th>\n",
              "      <th>Sales_Experience</th>\n",
              "      <th>Opt_inout</th>\n",
              "      <th>Network_Satisfaction</th>\n",
              "      <th>Customer_Support</th>\n",
              "      <th>Billing_Payment</th>\n",
              "      <th>Digital_performance</th>\n",
              "      <th>Region_Eastern</th>\n",
              "      <th>Region_Northern</th>\n",
              "      <th>Region_Others</th>\n",
              "      <th>Region_South</th>\n",
              "      <th>Region_Western</th>\n",
              "      <th>Nationality_Expat Asians</th>\n",
              "      <th>Nationality_Nationals</th>\n",
              "      <th>Gender_Male</th>\n",
              "      <th>Connection_ Prepaid</th>\n",
              "      <th>Connection_Postpaid Data SIM</th>\n",
              "      <th>Connection_Prepaid Data SIM</th>\n",
              "      <th>Segment_HV</th>\n",
              "      <th>Segment_LV</th>\n",
              "      <th>Segment_MV</th>\n",
              "      <th>Segment_VHV</th>\n",
              "      <th>Segment_VLV</th>\n",
              "    </tr>\n",
              "  </thead>\n",
              "  <tbody>\n",
              "    <tr>\n",
              "      <th>0</th>\n",
              "      <td>125</td>\n",
              "      <td>0.0</td>\n",
              "      <td>10.0</td>\n",
              "      <td>10.0</td>\n",
              "      <td>10.0</td>\n",
              "      <td>10.0</td>\n",
              "      <td>10.0</td>\n",
              "      <td>10.0</td>\n",
              "      <td>9.0</td>\n",
              "      <td>0</td>\n",
              "      <td>0</td>\n",
              "      <td>0</td>\n",
              "      <td>0</td>\n",
              "      <td>1</td>\n",
              "      <td>0</td>\n",
              "      <td>1</td>\n",
              "      <td>0</td>\n",
              "      <td>1</td>\n",
              "      <td>0</td>\n",
              "      <td>0</td>\n",
              "      <td>0</td>\n",
              "      <td>1</td>\n",
              "      <td>0</td>\n",
              "      <td>0</td>\n",
              "      <td>0</td>\n",
              "    </tr>\n",
              "    <tr>\n",
              "      <th>1</th>\n",
              "      <td>150</td>\n",
              "      <td>5.0</td>\n",
              "      <td>7.0</td>\n",
              "      <td>10.0</td>\n",
              "      <td>8.0</td>\n",
              "      <td>9.0</td>\n",
              "      <td>10.0</td>\n",
              "      <td>10.0</td>\n",
              "      <td>9.0</td>\n",
              "      <td>0</td>\n",
              "      <td>0</td>\n",
              "      <td>0</td>\n",
              "      <td>0</td>\n",
              "      <td>1</td>\n",
              "      <td>1</td>\n",
              "      <td>0</td>\n",
              "      <td>1</td>\n",
              "      <td>1</td>\n",
              "      <td>0</td>\n",
              "      <td>0</td>\n",
              "      <td>0</td>\n",
              "      <td>0</td>\n",
              "      <td>0</td>\n",
              "      <td>0</td>\n",
              "      <td>1</td>\n",
              "    </tr>\n",
              "    <tr>\n",
              "      <th>2</th>\n",
              "      <td>50</td>\n",
              "      <td>5.0</td>\n",
              "      <td>3.0</td>\n",
              "      <td>10.0</td>\n",
              "      <td>9.0</td>\n",
              "      <td>7.0</td>\n",
              "      <td>10.0</td>\n",
              "      <td>10.0</td>\n",
              "      <td>9.0</td>\n",
              "      <td>0</td>\n",
              "      <td>0</td>\n",
              "      <td>0</td>\n",
              "      <td>0</td>\n",
              "      <td>1</td>\n",
              "      <td>1</td>\n",
              "      <td>0</td>\n",
              "      <td>1</td>\n",
              "      <td>1</td>\n",
              "      <td>0</td>\n",
              "      <td>0</td>\n",
              "      <td>0</td>\n",
              "      <td>0</td>\n",
              "      <td>0</td>\n",
              "      <td>0</td>\n",
              "      <td>1</td>\n",
              "    </tr>\n",
              "    <tr>\n",
              "      <th>3</th>\n",
              "      <td>-25</td>\n",
              "      <td>5.0</td>\n",
              "      <td>4.0</td>\n",
              "      <td>10.0</td>\n",
              "      <td>5.0</td>\n",
              "      <td>4.0</td>\n",
              "      <td>4.0</td>\n",
              "      <td>6.0</td>\n",
              "      <td>6.0</td>\n",
              "      <td>0</td>\n",
              "      <td>0</td>\n",
              "      <td>0</td>\n",
              "      <td>0</td>\n",
              "      <td>0</td>\n",
              "      <td>0</td>\n",
              "      <td>1</td>\n",
              "      <td>1</td>\n",
              "      <td>0</td>\n",
              "      <td>0</td>\n",
              "      <td>0</td>\n",
              "      <td>0</td>\n",
              "      <td>0</td>\n",
              "      <td>0</td>\n",
              "      <td>1</td>\n",
              "      <td>0</td>\n",
              "    </tr>\n",
              "    <tr>\n",
              "      <th>4</th>\n",
              "      <td>150</td>\n",
              "      <td>10.0</td>\n",
              "      <td>10.0</td>\n",
              "      <td>10.0</td>\n",
              "      <td>10.0</td>\n",
              "      <td>10.0</td>\n",
              "      <td>10.0</td>\n",
              "      <td>10.0</td>\n",
              "      <td>9.0</td>\n",
              "      <td>0</td>\n",
              "      <td>0</td>\n",
              "      <td>0</td>\n",
              "      <td>1</td>\n",
              "      <td>0</td>\n",
              "      <td>0</td>\n",
              "      <td>0</td>\n",
              "      <td>1</td>\n",
              "      <td>1</td>\n",
              "      <td>0</td>\n",
              "      <td>0</td>\n",
              "      <td>1</td>\n",
              "      <td>0</td>\n",
              "      <td>0</td>\n",
              "      <td>0</td>\n",
              "      <td>0</td>\n",
              "    </tr>\n",
              "  </tbody>\n",
              "</table>\n",
              "</div>"
            ],
            "text/plain": [
              "   TRIM_Index  Communication  Proposition  ...  Segment_MV  Segment_VHV  Segment_VLV\n",
              "0         125            0.0         10.0  ...           0            0            0\n",
              "1         150            5.0          7.0  ...           0            0            1\n",
              "2          50            5.0          3.0  ...           0            0            1\n",
              "3         -25            5.0          4.0  ...           0            1            0\n",
              "4         150           10.0         10.0  ...           0            0            0\n",
              "\n",
              "[5 rows x 25 columns]"
            ]
          },
          "metadata": {
            "tags": []
          },
          "execution_count": 436
        }
      ]
    },
    {
      "cell_type": "code",
      "metadata": {
        "colab": {
          "base_uri": "https://localhost:8080/"
        },
        "id": "VoBqIXdruOkD",
        "outputId": "fc786586-7ff4-4f27-9c92-9adb6c1bb7cb"
      },
      "source": [
        "df_mobily['Connection_Prepaid Data SIM'].value_counts()"
      ],
      "execution_count": 437,
      "outputs": [
        {
          "output_type": "execute_result",
          "data": {
            "text/plain": [
              "0    13618\n",
              "1      952\n",
              "Name: Connection_Prepaid Data SIM, dtype: int64"
            ]
          },
          "metadata": {
            "tags": []
          },
          "execution_count": 437
        }
      ]
    },
    {
      "cell_type": "markdown",
      "metadata": {
        "id": "94RydXE-sf0A"
      },
      "source": [
        "Check for Multi colinearity"
      ]
    },
    {
      "cell_type": "code",
      "metadata": {
        "id": "4Q4wWWbvsdvb"
      },
      "source": [
        "df_mobily_x= df_mobily.drop('TRIM_Index',axis =1)"
      ],
      "execution_count": 438,
      "outputs": []
    },
    {
      "cell_type": "code",
      "metadata": {
        "colab": {
          "base_uri": "https://localhost:8080/",
          "height": 755
        },
        "id": "0cqVB3r9s_Gb",
        "outputId": "b673eb86-76da-4937-c9b5-d1f68fb6b707"
      },
      "source": [
        "plt.figure(figsize=(12,10))\r\n",
        "sns.heatmap(df_mobily_x.corr())"
      ],
      "execution_count": 439,
      "outputs": [
        {
          "output_type": "execute_result",
          "data": {
            "text/plain": [
              "<matplotlib.axes._subplots.AxesSubplot at 0x7f7e4b45b400>"
            ]
          },
          "metadata": {
            "tags": []
          },
          "execution_count": 439
        },
        {
          "output_type": "display_data",
          "data": {
            "image/png": "[encoded data removed]",
            "text/plain": [
              "<Figure size 864x720 with 2 Axes>"
            ]
          },
          "metadata": {
            "tags": [],
            "needs_background": "light"
          }
        }
      ]
    },
    {
      "cell_type": "code",
      "metadata": {
        "id": "Rf8YF57844pI"
      },
      "source": [
        ""
      ],
      "execution_count": null,
      "outputs": []
    },
    {
      "cell_type": "markdown",
      "metadata": {
        "id": "p0kuYWDHiqgt"
      },
      "source": [
        "**Model Building**"
      ]
    },
    {
      "cell_type": "code",
      "metadata": {
        "id": "W8EzcT6DiXEL"
      },
      "source": [
        "from sklearn.model_selection import train_test_split\r\n",
        "from sklearn.linear_model import LinearRegression"
      ],
      "execution_count": 440,
      "outputs": []
    },
    {
      "cell_type": "code",
      "metadata": {
        "id": "4z79-MKl1tXG"
      },
      "source": [
        "lr = LinearRegression()"
      ],
      "execution_count": 441,
      "outputs": []
    },
    {
      "cell_type": "code",
      "metadata": {
        "id": "OkHj2smo1wk7"
      },
      "source": [
        "x = df_mobily_x\r\n",
        "y= df_mobily['TRIM_Index']"
      ],
      "execution_count": 442,
      "outputs": []
    },
    {
      "cell_type": "code",
      "metadata": {
        "id": "jWlj6pFp2Oqv"
      },
      "source": [
        "lr = LinearRegression()\r\n",
        "x_train,x_test,y_train,y_test = train_test_split(x,y,test_size = 0.33, random_state = 5)"
      ],
      "execution_count": 443,
      "outputs": []
    },
    {
      "cell_type": "code",
      "metadata": {
        "colab": {
          "base_uri": "https://localhost:8080/"
        },
        "id": "3QRmylK52S9v",
        "outputId": "f34fc81d-f1bb-403d-ddb3-9156993d098e"
      },
      "source": [
        "lr.fit(x_train, y_train)"
      ],
      "execution_count": 444,
      "outputs": [
        {
          "output_type": "execute_result",
          "data": {
            "text/plain": [
              "LinearRegression(copy_X=True, fit_intercept=True, n_jobs=None, normalize=False)"
            ]
          },
          "metadata": {
            "tags": []
          },
          "execution_count": 444
        }
      ]
    },
    {
      "cell_type": "code",
      "metadata": {
        "colab": {
          "base_uri": "https://localhost:8080/"
        },
        "id": "_oa8FGQl2XoV",
        "outputId": "a1a5caf0-bb1c-40b2-87a2-d9f9a3aba6b5"
      },
      "source": [
        "y_pred= lr.predict(x_test)\r\n",
        "y_pred"
      ],
      "execution_count": 445,
      "outputs": [
        {
          "output_type": "execute_result",
          "data": {
            "text/plain": [
              "array([106.71413527, 102.92831133,   5.36428619, ..., 125.56460875,\n",
              "        42.97361029, 126.66619067])"
            ]
          },
          "metadata": {
            "tags": []
          },
          "execution_count": 445
        }
      ]
    },
    {
      "cell_type": "code",
      "metadata": {
        "colab": {
          "base_uri": "https://localhost:8080/"
        },
        "id": "n-7JBeX32d6F",
        "outputId": "0bd9cb4c-25da-44f4-e3fd-8f2d9a71fc3e"
      },
      "source": [
        "y_test"
      ],
      "execution_count": 446,
      "outputs": [
        {
          "output_type": "execute_result",
          "data": {
            "text/plain": [
              "1464     150\n",
              "6376      75\n",
              "15934    -25\n",
              "19200     25\n",
              "13081    150\n",
              "        ... \n",
              "16583    100\n",
              "23692    150\n",
              "18062    150\n",
              "12789     50\n",
              "12279    150\n",
              "Name: TRIM_Index, Length: 4809, dtype: int64"
            ]
          },
          "metadata": {
            "tags": []
          },
          "execution_count": 446
        }
      ]
    },
    {
      "cell_type": "code",
      "metadata": {
        "id": "zeJGgGD32ibU"
      },
      "source": [
        "from sklearn.metrics import mean_squared_error, r2_score"
      ],
      "execution_count": 447,
      "outputs": []
    },
    {
      "cell_type": "code",
      "metadata": {
        "colab": {
          "base_uri": "https://localhost:8080/"
        },
        "id": "aQxHC3KI2pvS",
        "outputId": "dc44daa1-97b7-4764-b987-dd7a8f856464"
      },
      "source": [
        "lr.score(x_test,y_test)"
      ],
      "execution_count": 448,
      "outputs": [
        {
          "output_type": "execute_result",
          "data": {
            "text/plain": [
              "0.4829906897502091"
            ]
          },
          "metadata": {
            "tags": []
          },
          "execution_count": 448
        }
      ]
    },
    {
      "cell_type": "code",
      "metadata": {
        "colab": {
          "base_uri": "https://localhost:8080/"
        },
        "id": "-V7rymDQ2tgz",
        "outputId": "fecab325-20f0-441a-ef2d-754ee0244023"
      },
      "source": [
        "mse= mean_squared_error(y_pred,y_test)\r\n",
        "print(mse)"
      ],
      "execution_count": 449,
      "outputs": [
        {
          "output_type": "stream",
          "text": [
            "1470.6911312702782\n"
          ],
          "name": "stdout"
        }
      ]
    },
    {
      "cell_type": "code",
      "metadata": {
        "colab": {
          "base_uri": "https://localhost:8080/"
        },
        "id": "pAOSNbnE2xhA",
        "outputId": "6c6aec10-5553-4efb-fe90-84232f2c19c6"
      },
      "source": [
        "from sklearn import metrics\r\n",
        "\r\n",
        "np.sqrt(metrics.mean_squared_error(y_pred, y_test))"
      ],
      "execution_count": 450,
      "outputs": [
        {
          "output_type": "execute_result",
          "data": {
            "text/plain": [
              "38.34959101829221"
            ]
          },
          "metadata": {
            "tags": []
          },
          "execution_count": 450
        }
      ]
    },
    {
      "cell_type": "code",
      "metadata": {
        "colab": {
          "base_uri": "https://localhost:8080/"
        },
        "id": "_MVmjoOG3cks",
        "outputId": "7929b87a-8874-4e6f-91dc-7e0c0589e471"
      },
      "source": [
        "np.round(metrics.r2_score(y_pred, y_test),2)"
      ],
      "execution_count": 457,
      "outputs": [
        {
          "output_type": "execute_result",
          "data": {
            "text/plain": [
              "-0.08"
            ]
          },
          "metadata": {
            "tags": []
          },
          "execution_count": 457
        }
      ]
    },
    {
      "cell_type": "code",
      "metadata": {
        "colab": {
          "base_uri": "https://localhost:8080/",
          "height": 353
        },
        "id": "yPSQevpK3nEi",
        "outputId": "b1d001ee-be3a-4d55-f2ba-a2d188fea591"
      },
      "source": [
        "sns.distplot(y_test - y_pred)"
      ],
      "execution_count": 458,
      "outputs": [
        {
          "output_type": "stream",
          "text": [
            "/usr/local/lib/python3.6/dist-packages/seaborn/distributions.py:2551: FutureWarning: `distplot` is a deprecated function and will be removed in a future version. Please adapt your code to use either `displot` (a figure-level function with similar flexibility) or `histplot` (an axes-level function for histograms).\n",
            "  warnings.warn(msg, FutureWarning)\n"
          ],
          "name": "stderr"
        },
        {
          "output_type": "execute_result",
          "data": {
            "text/plain": [
              "<matplotlib.axes._subplots.AxesSubplot at 0x7f7e4b03c898>"
            ]
          },
          "metadata": {
            "tags": []
          },
          "execution_count": 458
        },
        {
          "output_type": "display_data",
          "data": {
            "image/png": "[encoded data removed]",
            "text/plain": [
              "<Figure size 432x288 with 1 Axes>"
            ]
          },
          "metadata": {
            "tags": [],
            "needs_background": "light"
          }
        }
      ]
    },
    {
      "cell_type": "code",
      "metadata": {
        "colab": {
          "base_uri": "https://localhost:8080/",
          "height": 283
        },
        "id": "4ICqYanQKGA9",
        "outputId": "edb97472-2f7e-4ecb-8282-f7ba0a04cfb0"
      },
      "source": [
        "plt.scatter(y_test, y_pred)\r\n"
      ],
      "execution_count": 461,
      "outputs": [
        {
          "output_type": "execute_result",
          "data": {
            "text/plain": [
              "<matplotlib.collections.PathCollection at 0x7f7e4ad05fd0>"
            ]
          },
          "metadata": {
            "tags": []
          },
          "execution_count": 461
        },
        {
          "output_type": "display_data",
          "data": {
            "image/png": "[encoded data removed]",
            "text/plain": [
              "<Figure size 432x288 with 1 Axes>"
            ]
          },
          "metadata": {
            "tags": [],
            "needs_background": "light"
          }
        }
      ]
    },
    {
      "cell_type": "code",
      "metadata": {
        "id": "QlBzSZMpKUIr"
      },
      "source": [
        ""
      ],
      "execution_count": null,
      "outputs": []
    }
  ]
}