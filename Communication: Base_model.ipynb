{
  "nbformat": 4,
  "nbformat_minor": 0,
  "metadata": {
    "colab": {
      "name": "Copy of Base model.ipynb",
      "provenance": [],
      "collapsed_sections": [],
      "authorship_tag": "ABX9TyN7+vWGAm97vY9RHwAuQKZK",
      "include_colab_link": true
    },
    "kernelspec": {
      "name": "python3",
      "display_name": "Python 3"
    }
  },
  "cells": [
    {
      "cell_type": "markdown",
      "metadata": {
        "id": "view-in-github",
        "colab_type": "text"
      },
      "source": [
        "<a href=\"https://colab.research.google.com/github/sharibhumayun/Logic2.0/blob/main/Communication%3A%20Base_model.ipynb\" target=\"_parent\"><img src=\"https://colab.research.google.com/assets/colab-badge.svg\" alt=\"Open In Colab\"/></a>"
      ]
    },
    {
      "cell_type": "code",
      "metadata": {
        "id": "sveRcIknIOG9"
      },
      "source": [
        "import pandas as pd\r\n",
        "import numpy as np\r\n",
        "import seaborn as sns\r\n",
        "import matplotlib as mpl \r\n",
        "import matplotlib.pyplot as plt"
      ],
      "execution_count": null,
      "outputs": []
    },
    {
      "cell_type": "code",
      "metadata": {
        "colab": {
          "base_uri": "https://localhost:8080/",
          "height": 258
        },
        "id": "JoA6SxuJIUxQ",
        "outputId": "84117151-7127-44f4-d0b1-248d0cb35c02"
      },
      "source": [
        "path = 'https://raw.githubusercontent.com/sharibhumayun/Logic2.0/main/MasterDatabase.csv'\r\n",
        "\r\n",
        "df = pd.read_csv(path)\r\n",
        "df.head()"
      ],
      "execution_count": null,
      "outputs": [
        {
          "output_type": "execute_result",
          "data": {
            "text/html": [
              "<div>\n",
              "<style scoped>\n",
              "    .dataframe tbody tr th:only-of-type {\n",
              "        vertical-align: middle;\n",
              "    }\n",
              "\n",
              "    .dataframe tbody tr th {\n",
              "        vertical-align: top;\n",
              "    }\n",
              "\n",
              "    .dataframe thead th {\n",
              "        text-align: right;\n",
              "    }\n",
              "</style>\n",
              "<table border=\"1\" class=\"dataframe\">\n",
              "  <thead>\n",
              "    <tr style=\"text-align: right;\">\n",
              "      <th></th>\n",
              "      <th>Current_connection</th>\n",
              "      <th>City</th>\n",
              "      <th>Region</th>\n",
              "      <th>Nationality</th>\n",
              "      <th>Gender</th>\n",
              "      <th>Exact_Age</th>\n",
              "      <th>Connection</th>\n",
              "      <th>Segment</th>\n",
              "      <th>Performance</th>\n",
              "      <th>Preference</th>\n",
              "      <th>TRIM_Index</th>\n",
              "      <th>Communication</th>\n",
              "      <th>Proposition</th>\n",
              "      <th>Sales_Experience</th>\n",
              "      <th>Opt_inout</th>\n",
              "      <th>Network_Satisfaction</th>\n",
              "      <th>Customer_Support</th>\n",
              "      <th>Billing_Payment</th>\n",
              "      <th>Website_performance</th>\n",
              "      <th>Mobileapp_satisfaction</th>\n",
              "      <th>Performance_SNS_Promotions</th>\n",
              "    </tr>\n",
              "  </thead>\n",
              "  <tbody>\n",
              "    <tr>\n",
              "      <th>0</th>\n",
              "      <td>Mobily</td>\n",
              "      <td>JEDDAH</td>\n",
              "      <td>Western</td>\n",
              "      <td>Nationals</td>\n",
              "      <td>Female</td>\n",
              "      <td>23.0</td>\n",
              "      <td>Prepaid</td>\n",
              "      <td>LV</td>\n",
              "      <td>5.0</td>\n",
              "      <td>4.0</td>\n",
              "      <td>125</td>\n",
              "      <td>0.0</td>\n",
              "      <td>10.0</td>\n",
              "      <td>NaN</td>\n",
              "      <td>10.0</td>\n",
              "      <td>10.0</td>\n",
              "      <td>NaN</td>\n",
              "      <td>10.0</td>\n",
              "      <td>NaN</td>\n",
              "      <td>NaN</td>\n",
              "      <td>NaN</td>\n",
              "    </tr>\n",
              "    <tr>\n",
              "      <th>1</th>\n",
              "      <td>Mobily</td>\n",
              "      <td>JEDDAH</td>\n",
              "      <td>Western</td>\n",
              "      <td>Expat Asians</td>\n",
              "      <td>Male</td>\n",
              "      <td>35.0</td>\n",
              "      <td>Prepaid</td>\n",
              "      <td>VLV</td>\n",
              "      <td>5.0</td>\n",
              "      <td>5.0</td>\n",
              "      <td>150</td>\n",
              "      <td>5.0</td>\n",
              "      <td>7.0</td>\n",
              "      <td>NaN</td>\n",
              "      <td>8.0</td>\n",
              "      <td>9.0</td>\n",
              "      <td>NaN</td>\n",
              "      <td>10.0</td>\n",
              "      <td>NaN</td>\n",
              "      <td>NaN</td>\n",
              "      <td>NaN</td>\n",
              "    </tr>\n",
              "    <tr>\n",
              "      <th>2</th>\n",
              "      <td>Mobily</td>\n",
              "      <td>MAKKAH AL MUKARRAMAH</td>\n",
              "      <td>Western</td>\n",
              "      <td>Expat Asians</td>\n",
              "      <td>Male</td>\n",
              "      <td>32.0</td>\n",
              "      <td>Prepaid</td>\n",
              "      <td>VLV</td>\n",
              "      <td>3.0</td>\n",
              "      <td>3.0</td>\n",
              "      <td>50</td>\n",
              "      <td>5.0</td>\n",
              "      <td>3.0</td>\n",
              "      <td>NaN</td>\n",
              "      <td>NaN</td>\n",
              "      <td>7.0</td>\n",
              "      <td>NaN</td>\n",
              "      <td>10.0</td>\n",
              "      <td>NaN</td>\n",
              "      <td>NaN</td>\n",
              "      <td>NaN</td>\n",
              "    </tr>\n",
              "    <tr>\n",
              "      <th>3</th>\n",
              "      <td>Mobily</td>\n",
              "      <td>AR RIYADH</td>\n",
              "      <td>Central</td>\n",
              "      <td>Nationals</td>\n",
              "      <td>Male</td>\n",
              "      <td>31.0</td>\n",
              "      <td>Postpaid</td>\n",
              "      <td>VHV</td>\n",
              "      <td>2.0</td>\n",
              "      <td>1.0</td>\n",
              "      <td>-25</td>\n",
              "      <td>5.0</td>\n",
              "      <td>4.0</td>\n",
              "      <td>NaN</td>\n",
              "      <td>5.0</td>\n",
              "      <td>4.0</td>\n",
              "      <td>4.0</td>\n",
              "      <td>6.0</td>\n",
              "      <td>5.0</td>\n",
              "      <td>5.0</td>\n",
              "      <td>NaN</td>\n",
              "    </tr>\n",
              "    <tr>\n",
              "      <th>4</th>\n",
              "      <td>Mobily</td>\n",
              "      <td>KHAMIS MUSHAYT</td>\n",
              "      <td>South</td>\n",
              "      <td>Expat Arabs</td>\n",
              "      <td>Male</td>\n",
              "      <td>16.0</td>\n",
              "      <td>Prepaid</td>\n",
              "      <td>HV</td>\n",
              "      <td>5.0</td>\n",
              "      <td>5.0</td>\n",
              "      <td>150</td>\n",
              "      <td>10.0</td>\n",
              "      <td>10.0</td>\n",
              "      <td>NaN</td>\n",
              "      <td>10.0</td>\n",
              "      <td>10.0</td>\n",
              "      <td>NaN</td>\n",
              "      <td>10.0</td>\n",
              "      <td>NaN</td>\n",
              "      <td>NaN</td>\n",
              "      <td>NaN</td>\n",
              "    </tr>\n",
              "  </tbody>\n",
              "</table>\n",
              "</div>"
            ],
            "text/plain": [
              "  Current_connection  ... Performance_SNS_Promotions\n",
              "0             Mobily  ...                        NaN\n",
              "1             Mobily  ...                        NaN\n",
              "2             Mobily  ...                        NaN\n",
              "3             Mobily  ...                        NaN\n",
              "4             Mobily  ...                        NaN\n",
              "\n",
              "[5 rows x 21 columns]"
            ]
          },
          "metadata": {
            "tags": []
          },
          "execution_count": 52
        }
      ]
    },
    {
      "cell_type": "code",
      "metadata": {
        "colab": {
          "base_uri": "https://localhost:8080/"
        },
        "id": "uzrb9LGmIfwF",
        "outputId": "03637440-75e5-4ccd-cbfb-63aa9829db09"
      },
      "source": [
        "df.shape"
      ],
      "execution_count": null,
      "outputs": [
        {
          "output_type": "execute_result",
          "data": {
            "text/plain": [
              "(29072, 21)"
            ]
          },
          "metadata": {
            "tags": []
          },
          "execution_count": 53
        }
      ]
    },
    {
      "cell_type": "markdown",
      "metadata": {
        "id": "g5rpNhv9NSKO"
      },
      "source": [
        "**Data** **Preprocessing**"
      ]
    },
    {
      "cell_type": "code",
      "metadata": {
        "colab": {
          "base_uri": "https://localhost:8080/"
        },
        "id": "Qz3CLZQRJodH",
        "outputId": "3cff1d91-5b2b-4a92-f43d-76be5ad59965"
      },
      "source": [
        "df.isnull().sum()"
      ],
      "execution_count": null,
      "outputs": [
        {
          "output_type": "execute_result",
          "data": {
            "text/plain": [
              "Current_connection                0\n",
              "City                              0\n",
              "Region                            0\n",
              "Nationality                       0\n",
              "Gender                            0\n",
              "Exact_Age                        66\n",
              "Connection                        0\n",
              "Segment                           0\n",
              "Performance                      98\n",
              "Preference                      561\n",
              "TRIM_Index                        0\n",
              "Communication                  1301\n",
              "Proposition                     652\n",
              "Sales_Experience              28085\n",
              "Opt_inout                       950\n",
              "Network_Satisfaction            115\n",
              "Customer_Support              19914\n",
              "Billing_Payment                 812\n",
              "Website_performance           19448\n",
              "Mobileapp_satisfaction        18435\n",
              "Performance_SNS_Promotions    23878\n",
              "dtype: int64"
            ]
          },
          "metadata": {
            "tags": []
          },
          "execution_count": 54
        }
      ]
    },
    {
      "cell_type": "code",
      "metadata": {
        "colab": {
          "base_uri": "https://localhost:8080/"
        },
        "id": "8GAQdTDSL3Jq",
        "outputId": "734a3d7d-9eaf-4440-de1e-a25047687379"
      },
      "source": [
        "df.dtypes"
      ],
      "execution_count": null,
      "outputs": [
        {
          "output_type": "execute_result",
          "data": {
            "text/plain": [
              "Current_connection             object\n",
              "City                           object\n",
              "Region                         object\n",
              "Nationality                    object\n",
              "Gender                         object\n",
              "Exact_Age                     float64\n",
              "Connection                     object\n",
              "Segment                        object\n",
              "Performance                   float64\n",
              "Preference                    float64\n",
              "TRIM_Index                      int64\n",
              "Communication                 float64\n",
              "Proposition                   float64\n",
              "Sales_Experience              float64\n",
              "Opt_inout                     float64\n",
              "Network_Satisfaction          float64\n",
              "Customer_Support              float64\n",
              "Billing_Payment               float64\n",
              "Website_performance           float64\n",
              "Mobileapp_satisfaction        float64\n",
              "Performance_SNS_Promotions    float64\n",
              "dtype: object"
            ]
          },
          "metadata": {
            "tags": []
          },
          "execution_count": 55
        }
      ]
    },
    {
      "cell_type": "code",
      "metadata": {
        "id": "1z9ABQbIKHEG"
      },
      "source": [
        "# Insert the missing values with the median of each column\r\n",
        "df['Exact_Age'] = df['Exact_Age'].fillna(value = df['Exact_Age'].median())\r\n",
        "df['Performance'] = df['Performance'].fillna(value = df['Performance'].median())\r\n",
        "df['Preference'] = df['Preference'].fillna(value = df['Preference'].median())\r\n",
        "df['Communication'] = df['Communication'].fillna(value = df['Communication'].median())\r\n",
        "df['Proposition'] = df['Proposition'].fillna(value = df['Proposition'].median())\r\n",
        "df['Sales_Experience'] = df['Sales_Experience'].fillna(value = df['Sales_Experience'].median())\r\n",
        "df['Opt_inout'] = df['Opt_inout'].fillna(value = df['Opt_inout'].median())\r\n",
        "df['Network_Satisfaction'] = df['Network_Satisfaction'].fillna(value = df['Network_Satisfaction'].median())\r\n",
        "df['Customer_Support'] = df['Customer_Support'].fillna(value = df['Customer_Support'].median())\r\n",
        "df['Billing_Payment'] = df['Billing_Payment'].fillna(value = df['Billing_Payment'].median())\r\n",
        "df['Website_performance'] = df['Website_performance'].fillna(value = df['Website_performance'].median())\r\n",
        "df['Mobileapp_satisfaction'] = df['Mobileapp_satisfaction'].fillna(value = df['Mobileapp_satisfaction'].median())\r\n",
        "df['Performance_SNS_Promotions'] = df['Performance_SNS_Promotions'].fillna(value = df['Performance_SNS_Promotions'].median())\r\n",
        "\r\n"
      ],
      "execution_count": null,
      "outputs": []
    },
    {
      "cell_type": "code",
      "metadata": {
        "colab": {
          "base_uri": "https://localhost:8080/"
        },
        "id": "x2bj7kjmIlgU",
        "outputId": "0402f648-1115-4376-c659-2421f807d95b"
      },
      "source": [
        "df.isnull().sum()"
      ],
      "execution_count": null,
      "outputs": [
        {
          "output_type": "execute_result",
          "data": {
            "text/plain": [
              "Current_connection            0\n",
              "City                          0\n",
              "Region                        0\n",
              "Nationality                   0\n",
              "Gender                        0\n",
              "Exact_Age                     0\n",
              "Connection                    0\n",
              "Segment                       0\n",
              "Performance                   0\n",
              "Preference                    0\n",
              "TRIM_Index                    0\n",
              "Communication                 0\n",
              "Proposition                   0\n",
              "Sales_Experience              0\n",
              "Opt_inout                     0\n",
              "Network_Satisfaction          0\n",
              "Customer_Support              0\n",
              "Billing_Payment               0\n",
              "Website_performance           0\n",
              "Mobileapp_satisfaction        0\n",
              "Performance_SNS_Promotions    0\n",
              "dtype: int64"
            ]
          },
          "metadata": {
            "tags": []
          },
          "execution_count": 57
        }
      ]
    },
    {
      "cell_type": "code",
      "metadata": {
        "id": "YvT10SwcNOVP"
      },
      "source": [
        "# Insert new column Digital_performance taking the average of Website, Mobile app and Social media satisfaction\r\n",
        "df['Digital_performance'] = df[['Performance_SNS_Promotions', 'Mobileapp_satisfaction','Website_performance']].mean(axis = 1).round()"
      ],
      "execution_count": null,
      "outputs": []
    },
    {
      "cell_type": "code",
      "metadata": {
        "colab": {
          "base_uri": "https://localhost:8080/",
          "height": 258
        },
        "id": "D3UiYyqYNia1",
        "outputId": "6e14d230-08d7-4694-abb4-e6dfacc943fa"
      },
      "source": [
        "df.head()"
      ],
      "execution_count": null,
      "outputs": [
        {
          "output_type": "execute_result",
          "data": {
            "text/html": [
              "<div>\n",
              "<style scoped>\n",
              "    .dataframe tbody tr th:only-of-type {\n",
              "        vertical-align: middle;\n",
              "    }\n",
              "\n",
              "    .dataframe tbody tr th {\n",
              "        vertical-align: top;\n",
              "    }\n",
              "\n",
              "    .dataframe thead th {\n",
              "        text-align: right;\n",
              "    }\n",
              "</style>\n",
              "<table border=\"1\" class=\"dataframe\">\n",
              "  <thead>\n",
              "    <tr style=\"text-align: right;\">\n",
              "      <th></th>\n",
              "      <th>Current_connection</th>\n",
              "      <th>City</th>\n",
              "      <th>Region</th>\n",
              "      <th>Nationality</th>\n",
              "      <th>Gender</th>\n",
              "      <th>Exact_Age</th>\n",
              "      <th>Connection</th>\n",
              "      <th>Segment</th>\n",
              "      <th>Performance</th>\n",
              "      <th>Preference</th>\n",
              "      <th>TRIM_Index</th>\n",
              "      <th>Communication</th>\n",
              "      <th>Proposition</th>\n",
              "      <th>Sales_Experience</th>\n",
              "      <th>Opt_inout</th>\n",
              "      <th>Network_Satisfaction</th>\n",
              "      <th>Customer_Support</th>\n",
              "      <th>Billing_Payment</th>\n",
              "      <th>Website_performance</th>\n",
              "      <th>Mobileapp_satisfaction</th>\n",
              "      <th>Performance_SNS_Promotions</th>\n",
              "      <th>Digital_performance</th>\n",
              "    </tr>\n",
              "  </thead>\n",
              "  <tbody>\n",
              "    <tr>\n",
              "      <th>0</th>\n",
              "      <td>Mobily</td>\n",
              "      <td>JEDDAH</td>\n",
              "      <td>Western</td>\n",
              "      <td>Nationals</td>\n",
              "      <td>Female</td>\n",
              "      <td>23.0</td>\n",
              "      <td>Prepaid</td>\n",
              "      <td>LV</td>\n",
              "      <td>5.0</td>\n",
              "      <td>4.0</td>\n",
              "      <td>125</td>\n",
              "      <td>0.0</td>\n",
              "      <td>10.0</td>\n",
              "      <td>10.0</td>\n",
              "      <td>10.0</td>\n",
              "      <td>10.0</td>\n",
              "      <td>10.0</td>\n",
              "      <td>10.0</td>\n",
              "      <td>8.0</td>\n",
              "      <td>10.0</td>\n",
              "      <td>9.0</td>\n",
              "      <td>9.0</td>\n",
              "    </tr>\n",
              "    <tr>\n",
              "      <th>1</th>\n",
              "      <td>Mobily</td>\n",
              "      <td>JEDDAH</td>\n",
              "      <td>Western</td>\n",
              "      <td>Expat Asians</td>\n",
              "      <td>Male</td>\n",
              "      <td>35.0</td>\n",
              "      <td>Prepaid</td>\n",
              "      <td>VLV</td>\n",
              "      <td>5.0</td>\n",
              "      <td>5.0</td>\n",
              "      <td>150</td>\n",
              "      <td>5.0</td>\n",
              "      <td>7.0</td>\n",
              "      <td>10.0</td>\n",
              "      <td>8.0</td>\n",
              "      <td>9.0</td>\n",
              "      <td>10.0</td>\n",
              "      <td>10.0</td>\n",
              "      <td>8.0</td>\n",
              "      <td>10.0</td>\n",
              "      <td>9.0</td>\n",
              "      <td>9.0</td>\n",
              "    </tr>\n",
              "    <tr>\n",
              "      <th>2</th>\n",
              "      <td>Mobily</td>\n",
              "      <td>MAKKAH AL MUKARRAMAH</td>\n",
              "      <td>Western</td>\n",
              "      <td>Expat Asians</td>\n",
              "      <td>Male</td>\n",
              "      <td>32.0</td>\n",
              "      <td>Prepaid</td>\n",
              "      <td>VLV</td>\n",
              "      <td>3.0</td>\n",
              "      <td>3.0</td>\n",
              "      <td>50</td>\n",
              "      <td>5.0</td>\n",
              "      <td>3.0</td>\n",
              "      <td>10.0</td>\n",
              "      <td>9.0</td>\n",
              "      <td>7.0</td>\n",
              "      <td>10.0</td>\n",
              "      <td>10.0</td>\n",
              "      <td>8.0</td>\n",
              "      <td>10.0</td>\n",
              "      <td>9.0</td>\n",
              "      <td>9.0</td>\n",
              "    </tr>\n",
              "    <tr>\n",
              "      <th>3</th>\n",
              "      <td>Mobily</td>\n",
              "      <td>AR RIYADH</td>\n",
              "      <td>Central</td>\n",
              "      <td>Nationals</td>\n",
              "      <td>Male</td>\n",
              "      <td>31.0</td>\n",
              "      <td>Postpaid</td>\n",
              "      <td>VHV</td>\n",
              "      <td>2.0</td>\n",
              "      <td>1.0</td>\n",
              "      <td>-25</td>\n",
              "      <td>5.0</td>\n",
              "      <td>4.0</td>\n",
              "      <td>10.0</td>\n",
              "      <td>5.0</td>\n",
              "      <td>4.0</td>\n",
              "      <td>4.0</td>\n",
              "      <td>6.0</td>\n",
              "      <td>5.0</td>\n",
              "      <td>5.0</td>\n",
              "      <td>9.0</td>\n",
              "      <td>6.0</td>\n",
              "    </tr>\n",
              "    <tr>\n",
              "      <th>4</th>\n",
              "      <td>Mobily</td>\n",
              "      <td>KHAMIS MUSHAYT</td>\n",
              "      <td>South</td>\n",
              "      <td>Expat Arabs</td>\n",
              "      <td>Male</td>\n",
              "      <td>16.0</td>\n",
              "      <td>Prepaid</td>\n",
              "      <td>HV</td>\n",
              "      <td>5.0</td>\n",
              "      <td>5.0</td>\n",
              "      <td>150</td>\n",
              "      <td>10.0</td>\n",
              "      <td>10.0</td>\n",
              "      <td>10.0</td>\n",
              "      <td>10.0</td>\n",
              "      <td>10.0</td>\n",
              "      <td>10.0</td>\n",
              "      <td>10.0</td>\n",
              "      <td>8.0</td>\n",
              "      <td>10.0</td>\n",
              "      <td>9.0</td>\n",
              "      <td>9.0</td>\n",
              "    </tr>\n",
              "  </tbody>\n",
              "</table>\n",
              "</div>"
            ],
            "text/plain": [
              "  Current_connection  ... Digital_performance\n",
              "0             Mobily  ...                 9.0\n",
              "1             Mobily  ...                 9.0\n",
              "2             Mobily  ...                 9.0\n",
              "3             Mobily  ...                 6.0\n",
              "4             Mobily  ...                 9.0\n",
              "\n",
              "[5 rows x 22 columns]"
            ]
          },
          "metadata": {
            "tags": []
          },
          "execution_count": 59
        }
      ]
    },
    {
      "cell_type": "code",
      "metadata": {
        "colab": {
          "base_uri": "https://localhost:8080/"
        },
        "id": "vojxmI2qN3EI",
        "outputId": "a8b2c533-df0a-4384-eed9-00ddb452c3a2"
      },
      "source": [
        "print(df['Current_connection'].unique())\r\n",
        "print(df['Region'].unique())\r\n",
        "print(df['Nationality'].unique())\r\n",
        "print(df['Gender'].unique())\r\n",
        "print(df['Connection'].unique())\r\n",
        "print(df['Segment'].unique())"
      ],
      "execution_count": null,
      "outputs": [
        {
          "output_type": "stream",
          "text": [
            "['Mobily' 'Lebara' 'Friendi' 'Virgin' 'Jawwy' 'STC' 'Zain']\n",
            "['Western' 'Central' 'South' 'Others' 'Northern' 'Eastern']\n",
            "['Nationals' 'Expat Asians' 'Expat Arabs']\n",
            "['Female' 'Male']\n",
            "['Prepaid' 'Postpaid' 'PostpaidData' 'PrepaidData']\n",
            "['LV' 'VLV' 'VHV' 'HV' 'MV' 'Data']\n"
          ],
          "name": "stdout"
        }
      ]
    },
    {
      "cell_type": "code",
      "metadata": {
        "id": "uvawFYqkYkJ0"
      },
      "source": [
        "# Drop City as Region is already included\r\n",
        "df.drop(['City'],axis = 1, inplace = True)"
      ],
      "execution_count": null,
      "outputs": []
    },
    {
      "cell_type": "code",
      "metadata": {
        "colab": {
          "base_uri": "https://localhost:8080/",
          "height": 224
        },
        "id": "CP_JP_3vYq-P",
        "outputId": "e503f107-7bcc-4ae7-eb3c-0781a0889dde"
      },
      "source": [
        "df.head()"
      ],
      "execution_count": null,
      "outputs": [
        {
          "output_type": "execute_result",
          "data": {
            "text/html": [
              "<div>\n",
              "<style scoped>\n",
              "    .dataframe tbody tr th:only-of-type {\n",
              "        vertical-align: middle;\n",
              "    }\n",
              "\n",
              "    .dataframe tbody tr th {\n",
              "        vertical-align: top;\n",
              "    }\n",
              "\n",
              "    .dataframe thead th {\n",
              "        text-align: right;\n",
              "    }\n",
              "</style>\n",
              "<table border=\"1\" class=\"dataframe\">\n",
              "  <thead>\n",
              "    <tr style=\"text-align: right;\">\n",
              "      <th></th>\n",
              "      <th>Current_connection</th>\n",
              "      <th>Region</th>\n",
              "      <th>Nationality</th>\n",
              "      <th>Gender</th>\n",
              "      <th>Exact_Age</th>\n",
              "      <th>Connection</th>\n",
              "      <th>Segment</th>\n",
              "      <th>Performance</th>\n",
              "      <th>Preference</th>\n",
              "      <th>TRIM_Index</th>\n",
              "      <th>Communication</th>\n",
              "      <th>Proposition</th>\n",
              "      <th>Sales_Experience</th>\n",
              "      <th>Opt_inout</th>\n",
              "      <th>Network_Satisfaction</th>\n",
              "      <th>Customer_Support</th>\n",
              "      <th>Billing_Payment</th>\n",
              "      <th>Website_performance</th>\n",
              "      <th>Mobileapp_satisfaction</th>\n",
              "      <th>Performance_SNS_Promotions</th>\n",
              "      <th>Digital_performance</th>\n",
              "    </tr>\n",
              "  </thead>\n",
              "  <tbody>\n",
              "    <tr>\n",
              "      <th>0</th>\n",
              "      <td>Mobily</td>\n",
              "      <td>Western</td>\n",
              "      <td>Nationals</td>\n",
              "      <td>Female</td>\n",
              "      <td>23.0</td>\n",
              "      <td>Prepaid</td>\n",
              "      <td>LV</td>\n",
              "      <td>5.0</td>\n",
              "      <td>4.0</td>\n",
              "      <td>125</td>\n",
              "      <td>0.0</td>\n",
              "      <td>10.0</td>\n",
              "      <td>10.0</td>\n",
              "      <td>10.0</td>\n",
              "      <td>10.0</td>\n",
              "      <td>10.0</td>\n",
              "      <td>10.0</td>\n",
              "      <td>8.0</td>\n",
              "      <td>10.0</td>\n",
              "      <td>9.0</td>\n",
              "      <td>9.0</td>\n",
              "    </tr>\n",
              "    <tr>\n",
              "      <th>1</th>\n",
              "      <td>Mobily</td>\n",
              "      <td>Western</td>\n",
              "      <td>Expat Asians</td>\n",
              "      <td>Male</td>\n",
              "      <td>35.0</td>\n",
              "      <td>Prepaid</td>\n",
              "      <td>VLV</td>\n",
              "      <td>5.0</td>\n",
              "      <td>5.0</td>\n",
              "      <td>150</td>\n",
              "      <td>5.0</td>\n",
              "      <td>7.0</td>\n",
              "      <td>10.0</td>\n",
              "      <td>8.0</td>\n",
              "      <td>9.0</td>\n",
              "      <td>10.0</td>\n",
              "      <td>10.0</td>\n",
              "      <td>8.0</td>\n",
              "      <td>10.0</td>\n",
              "      <td>9.0</td>\n",
              "      <td>9.0</td>\n",
              "    </tr>\n",
              "    <tr>\n",
              "      <th>2</th>\n",
              "      <td>Mobily</td>\n",
              "      <td>Western</td>\n",
              "      <td>Expat Asians</td>\n",
              "      <td>Male</td>\n",
              "      <td>32.0</td>\n",
              "      <td>Prepaid</td>\n",
              "      <td>VLV</td>\n",
              "      <td>3.0</td>\n",
              "      <td>3.0</td>\n",
              "      <td>50</td>\n",
              "      <td>5.0</td>\n",
              "      <td>3.0</td>\n",
              "      <td>10.0</td>\n",
              "      <td>9.0</td>\n",
              "      <td>7.0</td>\n",
              "      <td>10.0</td>\n",
              "      <td>10.0</td>\n",
              "      <td>8.0</td>\n",
              "      <td>10.0</td>\n",
              "      <td>9.0</td>\n",
              "      <td>9.0</td>\n",
              "    </tr>\n",
              "    <tr>\n",
              "      <th>3</th>\n",
              "      <td>Mobily</td>\n",
              "      <td>Central</td>\n",
              "      <td>Nationals</td>\n",
              "      <td>Male</td>\n",
              "      <td>31.0</td>\n",
              "      <td>Postpaid</td>\n",
              "      <td>VHV</td>\n",
              "      <td>2.0</td>\n",
              "      <td>1.0</td>\n",
              "      <td>-25</td>\n",
              "      <td>5.0</td>\n",
              "      <td>4.0</td>\n",
              "      <td>10.0</td>\n",
              "      <td>5.0</td>\n",
              "      <td>4.0</td>\n",
              "      <td>4.0</td>\n",
              "      <td>6.0</td>\n",
              "      <td>5.0</td>\n",
              "      <td>5.0</td>\n",
              "      <td>9.0</td>\n",
              "      <td>6.0</td>\n",
              "    </tr>\n",
              "    <tr>\n",
              "      <th>4</th>\n",
              "      <td>Mobily</td>\n",
              "      <td>South</td>\n",
              "      <td>Expat Arabs</td>\n",
              "      <td>Male</td>\n",
              "      <td>16.0</td>\n",
              "      <td>Prepaid</td>\n",
              "      <td>HV</td>\n",
              "      <td>5.0</td>\n",
              "      <td>5.0</td>\n",
              "      <td>150</td>\n",
              "      <td>10.0</td>\n",
              "      <td>10.0</td>\n",
              "      <td>10.0</td>\n",
              "      <td>10.0</td>\n",
              "      <td>10.0</td>\n",
              "      <td>10.0</td>\n",
              "      <td>10.0</td>\n",
              "      <td>8.0</td>\n",
              "      <td>10.0</td>\n",
              "      <td>9.0</td>\n",
              "      <td>9.0</td>\n",
              "    </tr>\n",
              "  </tbody>\n",
              "</table>\n",
              "</div>"
            ],
            "text/plain": [
              "  Current_connection   Region  ... Performance_SNS_Promotions Digital_performance\n",
              "0             Mobily  Western  ...                        9.0                 9.0\n",
              "1             Mobily  Western  ...                        9.0                 9.0\n",
              "2             Mobily  Western  ...                        9.0                 9.0\n",
              "3             Mobily  Central  ...                        9.0                 6.0\n",
              "4             Mobily    South  ...                        9.0                 9.0\n",
              "\n",
              "[5 rows x 21 columns]"
            ]
          },
          "metadata": {
            "tags": []
          },
          "execution_count": 62
        }
      ]
    },
    {
      "cell_type": "code",
      "metadata": {
        "colab": {
          "base_uri": "https://localhost:8080/",
          "height": 224
        },
        "id": "_OLUPOSPYAz9",
        "outputId": "71da5451-4b1d-4eab-a7cc-f11daa073722"
      },
      "source": [
        "from sklearn.preprocessing import LabelEncoder\r\n",
        "\r\n",
        "df= df.apply(LabelEncoder().fit_transform)\r\n",
        "df.head()"
      ],
      "execution_count": null,
      "outputs": [
        {
          "output_type": "execute_result",
          "data": {
            "text/html": [
              "<div>\n",
              "<style scoped>\n",
              "    .dataframe tbody tr th:only-of-type {\n",
              "        vertical-align: middle;\n",
              "    }\n",
              "\n",
              "    .dataframe tbody tr th {\n",
              "        vertical-align: top;\n",
              "    }\n",
              "\n",
              "    .dataframe thead th {\n",
              "        text-align: right;\n",
              "    }\n",
              "</style>\n",
              "<table border=\"1\" class=\"dataframe\">\n",
              "  <thead>\n",
              "    <tr style=\"text-align: right;\">\n",
              "      <th></th>\n",
              "      <th>Current_connection</th>\n",
              "      <th>Region</th>\n",
              "      <th>Nationality</th>\n",
              "      <th>Gender</th>\n",
              "      <th>Exact_Age</th>\n",
              "      <th>Connection</th>\n",
              "      <th>Segment</th>\n",
              "      <th>Performance</th>\n",
              "      <th>Preference</th>\n",
              "      <th>TRIM_Index</th>\n",
              "      <th>Communication</th>\n",
              "      <th>Proposition</th>\n",
              "      <th>Sales_Experience</th>\n",
              "      <th>Opt_inout</th>\n",
              "      <th>Network_Satisfaction</th>\n",
              "      <th>Customer_Support</th>\n",
              "      <th>Billing_Payment</th>\n",
              "      <th>Website_performance</th>\n",
              "      <th>Mobileapp_satisfaction</th>\n",
              "      <th>Performance_SNS_Promotions</th>\n",
              "      <th>Digital_performance</th>\n",
              "    </tr>\n",
              "  </thead>\n",
              "  <tbody>\n",
              "    <tr>\n",
              "      <th>0</th>\n",
              "      <td>3</td>\n",
              "      <td>5</td>\n",
              "      <td>2</td>\n",
              "      <td>0</td>\n",
              "      <td>8</td>\n",
              "      <td>2</td>\n",
              "      <td>2</td>\n",
              "      <td>4</td>\n",
              "      <td>3</td>\n",
              "      <td>7</td>\n",
              "      <td>0</td>\n",
              "      <td>10</td>\n",
              "      <td>10</td>\n",
              "      <td>10</td>\n",
              "      <td>10</td>\n",
              "      <td>10</td>\n",
              "      <td>10</td>\n",
              "      <td>7</td>\n",
              "      <td>9</td>\n",
              "      <td>8</td>\n",
              "      <td>8</td>\n",
              "    </tr>\n",
              "    <tr>\n",
              "      <th>1</th>\n",
              "      <td>3</td>\n",
              "      <td>5</td>\n",
              "      <td>1</td>\n",
              "      <td>1</td>\n",
              "      <td>20</td>\n",
              "      <td>2</td>\n",
              "      <td>5</td>\n",
              "      <td>4</td>\n",
              "      <td>4</td>\n",
              "      <td>8</td>\n",
              "      <td>5</td>\n",
              "      <td>7</td>\n",
              "      <td>10</td>\n",
              "      <td>8</td>\n",
              "      <td>9</td>\n",
              "      <td>10</td>\n",
              "      <td>10</td>\n",
              "      <td>7</td>\n",
              "      <td>9</td>\n",
              "      <td>8</td>\n",
              "      <td>8</td>\n",
              "    </tr>\n",
              "    <tr>\n",
              "      <th>2</th>\n",
              "      <td>3</td>\n",
              "      <td>5</td>\n",
              "      <td>1</td>\n",
              "      <td>1</td>\n",
              "      <td>17</td>\n",
              "      <td>2</td>\n",
              "      <td>5</td>\n",
              "      <td>2</td>\n",
              "      <td>2</td>\n",
              "      <td>4</td>\n",
              "      <td>5</td>\n",
              "      <td>3</td>\n",
              "      <td>10</td>\n",
              "      <td>9</td>\n",
              "      <td>7</td>\n",
              "      <td>10</td>\n",
              "      <td>10</td>\n",
              "      <td>7</td>\n",
              "      <td>9</td>\n",
              "      <td>8</td>\n",
              "      <td>8</td>\n",
              "    </tr>\n",
              "    <tr>\n",
              "      <th>3</th>\n",
              "      <td>3</td>\n",
              "      <td>0</td>\n",
              "      <td>2</td>\n",
              "      <td>1</td>\n",
              "      <td>16</td>\n",
              "      <td>0</td>\n",
              "      <td>4</td>\n",
              "      <td>1</td>\n",
              "      <td>0</td>\n",
              "      <td>1</td>\n",
              "      <td>5</td>\n",
              "      <td>4</td>\n",
              "      <td>10</td>\n",
              "      <td>5</td>\n",
              "      <td>4</td>\n",
              "      <td>4</td>\n",
              "      <td>6</td>\n",
              "      <td>4</td>\n",
              "      <td>4</td>\n",
              "      <td>8</td>\n",
              "      <td>5</td>\n",
              "    </tr>\n",
              "    <tr>\n",
              "      <th>4</th>\n",
              "      <td>3</td>\n",
              "      <td>4</td>\n",
              "      <td>0</td>\n",
              "      <td>1</td>\n",
              "      <td>1</td>\n",
              "      <td>2</td>\n",
              "      <td>1</td>\n",
              "      <td>4</td>\n",
              "      <td>4</td>\n",
              "      <td>8</td>\n",
              "      <td>10</td>\n",
              "      <td>10</td>\n",
              "      <td>10</td>\n",
              "      <td>10</td>\n",
              "      <td>10</td>\n",
              "      <td>10</td>\n",
              "      <td>10</td>\n",
              "      <td>7</td>\n",
              "      <td>9</td>\n",
              "      <td>8</td>\n",
              "      <td>8</td>\n",
              "    </tr>\n",
              "  </tbody>\n",
              "</table>\n",
              "</div>"
            ],
            "text/plain": [
              "   Current_connection  Region  ...  Performance_SNS_Promotions  Digital_performance\n",
              "0                   3       5  ...                           8                    8\n",
              "1                   3       5  ...                           8                    8\n",
              "2                   3       5  ...                           8                    8\n",
              "3                   3       0  ...                           8                    5\n",
              "4                   3       4  ...                           8                    8\n",
              "\n",
              "[5 rows x 21 columns]"
            ]
          },
          "metadata": {
            "tags": []
          },
          "execution_count": 63
        }
      ]
    },
    {
      "cell_type": "code",
      "metadata": {
        "id": "eNtP21ODdF6_"
      },
      "source": [
        "df.drop(['Website_performance','Mobileapp_satisfaction', 'Performance_SNS_Promotions'], axis = 1, inplace = True)"
      ],
      "execution_count": null,
      "outputs": []
    },
    {
      "cell_type": "code",
      "metadata": {
        "colab": {
          "base_uri": "https://localhost:8080/",
          "height": 224
        },
        "id": "PzcuJevQdf0V",
        "outputId": "9b03cee7-6219-4062-abb7-22ddc5514dd6"
      },
      "source": [
        "df.head()"
      ],
      "execution_count": null,
      "outputs": [
        {
          "output_type": "execute_result",
          "data": {
            "text/html": [
              "<div>\n",
              "<style scoped>\n",
              "    .dataframe tbody tr th:only-of-type {\n",
              "        vertical-align: middle;\n",
              "    }\n",
              "\n",
              "    .dataframe tbody tr th {\n",
              "        vertical-align: top;\n",
              "    }\n",
              "\n",
              "    .dataframe thead th {\n",
              "        text-align: right;\n",
              "    }\n",
              "</style>\n",
              "<table border=\"1\" class=\"dataframe\">\n",
              "  <thead>\n",
              "    <tr style=\"text-align: right;\">\n",
              "      <th></th>\n",
              "      <th>Current_connection</th>\n",
              "      <th>Region</th>\n",
              "      <th>Nationality</th>\n",
              "      <th>Gender</th>\n",
              "      <th>Exact_Age</th>\n",
              "      <th>Connection</th>\n",
              "      <th>Segment</th>\n",
              "      <th>Performance</th>\n",
              "      <th>Preference</th>\n",
              "      <th>TRIM_Index</th>\n",
              "      <th>Communication</th>\n",
              "      <th>Proposition</th>\n",
              "      <th>Sales_Experience</th>\n",
              "      <th>Opt_inout</th>\n",
              "      <th>Network_Satisfaction</th>\n",
              "      <th>Customer_Support</th>\n",
              "      <th>Billing_Payment</th>\n",
              "      <th>Digital_performance</th>\n",
              "    </tr>\n",
              "  </thead>\n",
              "  <tbody>\n",
              "    <tr>\n",
              "      <th>0</th>\n",
              "      <td>3</td>\n",
              "      <td>5</td>\n",
              "      <td>2</td>\n",
              "      <td>0</td>\n",
              "      <td>8</td>\n",
              "      <td>2</td>\n",
              "      <td>2</td>\n",
              "      <td>4</td>\n",
              "      <td>3</td>\n",
              "      <td>7</td>\n",
              "      <td>0</td>\n",
              "      <td>10</td>\n",
              "      <td>10</td>\n",
              "      <td>10</td>\n",
              "      <td>10</td>\n",
              "      <td>10</td>\n",
              "      <td>10</td>\n",
              "      <td>8</td>\n",
              "    </tr>\n",
              "    <tr>\n",
              "      <th>1</th>\n",
              "      <td>3</td>\n",
              "      <td>5</td>\n",
              "      <td>1</td>\n",
              "      <td>1</td>\n",
              "      <td>20</td>\n",
              "      <td>2</td>\n",
              "      <td>5</td>\n",
              "      <td>4</td>\n",
              "      <td>4</td>\n",
              "      <td>8</td>\n",
              "      <td>5</td>\n",
              "      <td>7</td>\n",
              "      <td>10</td>\n",
              "      <td>8</td>\n",
              "      <td>9</td>\n",
              "      <td>10</td>\n",
              "      <td>10</td>\n",
              "      <td>8</td>\n",
              "    </tr>\n",
              "    <tr>\n",
              "      <th>2</th>\n",
              "      <td>3</td>\n",
              "      <td>5</td>\n",
              "      <td>1</td>\n",
              "      <td>1</td>\n",
              "      <td>17</td>\n",
              "      <td>2</td>\n",
              "      <td>5</td>\n",
              "      <td>2</td>\n",
              "      <td>2</td>\n",
              "      <td>4</td>\n",
              "      <td>5</td>\n",
              "      <td>3</td>\n",
              "      <td>10</td>\n",
              "      <td>9</td>\n",
              "      <td>7</td>\n",
              "      <td>10</td>\n",
              "      <td>10</td>\n",
              "      <td>8</td>\n",
              "    </tr>\n",
              "    <tr>\n",
              "      <th>3</th>\n",
              "      <td>3</td>\n",
              "      <td>0</td>\n",
              "      <td>2</td>\n",
              "      <td>1</td>\n",
              "      <td>16</td>\n",
              "      <td>0</td>\n",
              "      <td>4</td>\n",
              "      <td>1</td>\n",
              "      <td>0</td>\n",
              "      <td>1</td>\n",
              "      <td>5</td>\n",
              "      <td>4</td>\n",
              "      <td>10</td>\n",
              "      <td>5</td>\n",
              "      <td>4</td>\n",
              "      <td>4</td>\n",
              "      <td>6</td>\n",
              "      <td>5</td>\n",
              "    </tr>\n",
              "    <tr>\n",
              "      <th>4</th>\n",
              "      <td>3</td>\n",
              "      <td>4</td>\n",
              "      <td>0</td>\n",
              "      <td>1</td>\n",
              "      <td>1</td>\n",
              "      <td>2</td>\n",
              "      <td>1</td>\n",
              "      <td>4</td>\n",
              "      <td>4</td>\n",
              "      <td>8</td>\n",
              "      <td>10</td>\n",
              "      <td>10</td>\n",
              "      <td>10</td>\n",
              "      <td>10</td>\n",
              "      <td>10</td>\n",
              "      <td>10</td>\n",
              "      <td>10</td>\n",
              "      <td>8</td>\n",
              "    </tr>\n",
              "  </tbody>\n",
              "</table>\n",
              "</div>"
            ],
            "text/plain": [
              "   Current_connection  Region  ...  Billing_Payment  Digital_performance\n",
              "0                   3       5  ...               10                    8\n",
              "1                   3       5  ...               10                    8\n",
              "2                   3       5  ...               10                    8\n",
              "3                   3       0  ...                6                    5\n",
              "4                   3       4  ...               10                    8\n",
              "\n",
              "[5 rows x 18 columns]"
            ]
          },
          "metadata": {
            "tags": []
          },
          "execution_count": 65
        }
      ]
    },
    {
      "cell_type": "code",
      "metadata": {
        "colab": {
          "base_uri": "https://localhost:8080/"
        },
        "id": "-BIRc_GBcy-J",
        "outputId": "f1a419ff-dc7f-43bf-a384-d00e6e088ff0"
      },
      "source": [
        "dict = {0: -50, 1: -25, 2: 0, 3: 25, 4: 50, 5: 75, 6: 100, 7: 125, 8: 150}\r\n",
        "\r\n",
        "print(dict)\r\n",
        "df['TRIM_Index']= df['TRIM_Index'].map(dict)"
      ],
      "execution_count": null,
      "outputs": [
        {
          "output_type": "stream",
          "text": [
            "{0: -50, 1: -25, 2: 0, 3: 25, 4: 50, 5: 75, 6: 100, 7: 125, 8: 150}\n"
          ],
          "name": "stdout"
        }
      ]
    },
    {
      "cell_type": "code",
      "metadata": {
        "colab": {
          "base_uri": "https://localhost:8080/",
          "height": 224
        },
        "id": "zdriEkoRibhm",
        "outputId": "bf7c624e-7daa-4748-fe8f-f68b11b34671"
      },
      "source": [
        "df.head()"
      ],
      "execution_count": null,
      "outputs": [
        {
          "output_type": "execute_result",
          "data": {
            "text/html": [
              "<div>\n",
              "<style scoped>\n",
              "    .dataframe tbody tr th:only-of-type {\n",
              "        vertical-align: middle;\n",
              "    }\n",
              "\n",
              "    .dataframe tbody tr th {\n",
              "        vertical-align: top;\n",
              "    }\n",
              "\n",
              "    .dataframe thead th {\n",
              "        text-align: right;\n",
              "    }\n",
              "</style>\n",
              "<table border=\"1\" class=\"dataframe\">\n",
              "  <thead>\n",
              "    <tr style=\"text-align: right;\">\n",
              "      <th></th>\n",
              "      <th>Current_connection</th>\n",
              "      <th>Region</th>\n",
              "      <th>Nationality</th>\n",
              "      <th>Gender</th>\n",
              "      <th>Exact_Age</th>\n",
              "      <th>Connection</th>\n",
              "      <th>Segment</th>\n",
              "      <th>Performance</th>\n",
              "      <th>Preference</th>\n",
              "      <th>TRIM_Index</th>\n",
              "      <th>Communication</th>\n",
              "      <th>Proposition</th>\n",
              "      <th>Sales_Experience</th>\n",
              "      <th>Opt_inout</th>\n",
              "      <th>Network_Satisfaction</th>\n",
              "      <th>Customer_Support</th>\n",
              "      <th>Billing_Payment</th>\n",
              "      <th>Digital_performance</th>\n",
              "    </tr>\n",
              "  </thead>\n",
              "  <tbody>\n",
              "    <tr>\n",
              "      <th>0</th>\n",
              "      <td>3</td>\n",
              "      <td>5</td>\n",
              "      <td>2</td>\n",
              "      <td>0</td>\n",
              "      <td>8</td>\n",
              "      <td>2</td>\n",
              "      <td>2</td>\n",
              "      <td>4</td>\n",
              "      <td>3</td>\n",
              "      <td>125</td>\n",
              "      <td>0</td>\n",
              "      <td>10</td>\n",
              "      <td>10</td>\n",
              "      <td>10</td>\n",
              "      <td>10</td>\n",
              "      <td>10</td>\n",
              "      <td>10</td>\n",
              "      <td>8</td>\n",
              "    </tr>\n",
              "    <tr>\n",
              "      <th>1</th>\n",
              "      <td>3</td>\n",
              "      <td>5</td>\n",
              "      <td>1</td>\n",
              "      <td>1</td>\n",
              "      <td>20</td>\n",
              "      <td>2</td>\n",
              "      <td>5</td>\n",
              "      <td>4</td>\n",
              "      <td>4</td>\n",
              "      <td>150</td>\n",
              "      <td>5</td>\n",
              "      <td>7</td>\n",
              "      <td>10</td>\n",
              "      <td>8</td>\n",
              "      <td>9</td>\n",
              "      <td>10</td>\n",
              "      <td>10</td>\n",
              "      <td>8</td>\n",
              "    </tr>\n",
              "    <tr>\n",
              "      <th>2</th>\n",
              "      <td>3</td>\n",
              "      <td>5</td>\n",
              "      <td>1</td>\n",
              "      <td>1</td>\n",
              "      <td>17</td>\n",
              "      <td>2</td>\n",
              "      <td>5</td>\n",
              "      <td>2</td>\n",
              "      <td>2</td>\n",
              "      <td>50</td>\n",
              "      <td>5</td>\n",
              "      <td>3</td>\n",
              "      <td>10</td>\n",
              "      <td>9</td>\n",
              "      <td>7</td>\n",
              "      <td>10</td>\n",
              "      <td>10</td>\n",
              "      <td>8</td>\n",
              "    </tr>\n",
              "    <tr>\n",
              "      <th>3</th>\n",
              "      <td>3</td>\n",
              "      <td>0</td>\n",
              "      <td>2</td>\n",
              "      <td>1</td>\n",
              "      <td>16</td>\n",
              "      <td>0</td>\n",
              "      <td>4</td>\n",
              "      <td>1</td>\n",
              "      <td>0</td>\n",
              "      <td>-25</td>\n",
              "      <td>5</td>\n",
              "      <td>4</td>\n",
              "      <td>10</td>\n",
              "      <td>5</td>\n",
              "      <td>4</td>\n",
              "      <td>4</td>\n",
              "      <td>6</td>\n",
              "      <td>5</td>\n",
              "    </tr>\n",
              "    <tr>\n",
              "      <th>4</th>\n",
              "      <td>3</td>\n",
              "      <td>4</td>\n",
              "      <td>0</td>\n",
              "      <td>1</td>\n",
              "      <td>1</td>\n",
              "      <td>2</td>\n",
              "      <td>1</td>\n",
              "      <td>4</td>\n",
              "      <td>4</td>\n",
              "      <td>150</td>\n",
              "      <td>10</td>\n",
              "      <td>10</td>\n",
              "      <td>10</td>\n",
              "      <td>10</td>\n",
              "      <td>10</td>\n",
              "      <td>10</td>\n",
              "      <td>10</td>\n",
              "      <td>8</td>\n",
              "    </tr>\n",
              "  </tbody>\n",
              "</table>\n",
              "</div>"
            ],
            "text/plain": [
              "   Current_connection  Region  ...  Billing_Payment  Digital_performance\n",
              "0                   3       5  ...               10                    8\n",
              "1                   3       5  ...               10                    8\n",
              "2                   3       5  ...               10                    8\n",
              "3                   3       0  ...                6                    5\n",
              "4                   3       4  ...               10                    8\n",
              "\n",
              "[5 rows x 18 columns]"
            ]
          },
          "metadata": {
            "tags": []
          },
          "execution_count": 67
        }
      ]
    },
    {
      "cell_type": "code",
      "metadata": {
        "colab": {
          "base_uri": "https://localhost:8080/"
        },
        "id": "VA1b4gyylVF-",
        "outputId": "0a0f1da1-8cfa-40e3-9a8b-415cf8f2bf47"
      },
      "source": [
        "from sklearn.preprocessing import StandardScaler\r\n",
        "object = StandardScaler()\r\n",
        "df=object.fit_transform(df)\r\n",
        "print (df)\r\n"
      ],
      "execution_count": null,
      "outputs": [
        {
          "output_type": "stream",
          "text": [
            "[[-0.69461266  1.32980038  0.70421271 ...  0.75007049  0.24151021\n",
            "   0.68540296]\n",
            " [-0.69461266  1.32980038 -0.44847418 ...  0.75007049  0.24151021\n",
            "   1.15933586]\n",
            " [-0.69461266  1.32980038 -0.44847418 ...  0.75007049  0.24151021\n",
            "  -0.73639574]\n",
            " ...\n",
            " [ 1.88683177 -1.13604115 -1.60116108 ... -3.04044008 -2.78790944\n",
            "   0.21147006]\n",
            " [ 1.88683177  0.83663207 -1.60116108 ...  0.75007049  0.24151021\n",
            "   1.15933586]\n",
            " [ 1.88683177  1.32980038 -1.60116108 ... -0.00803163  0.24151021\n",
            "   1.15933586]]\n"
          ],
          "name": "stdout"
        }
      ]
    },
    {
      "cell_type": "markdown",
      "metadata": {
        "id": "P9SNungwZzLH"
      },
      "source": [
        "**Identification of Outliers**"
      ]
    },
    {
      "cell_type": "code",
      "metadata": {
        "colab": {
          "base_uri": "https://localhost:8080/",
          "height": 198
        },
        "id": "FFKhX_sKZCMq",
        "outputId": "745d5753-80b0-4186-9314-f2d019f8363a"
      },
      "source": [
        "from scipy.stats import zscore\r\n",
        "df['zscore_TRIM'] = zscore(df.TRIM_Index)\r\n",
        "df.head()"
      ],
      "execution_count": null,
      "outputs": [
        {
          "output_type": "error",
          "ename": "AttributeError",
          "evalue": "ignored",
          "traceback": [
            "\u001b[0;31m---------------------------------------------------------------------------\u001b[0m",
            "\u001b[0;31mAttributeError\u001b[0m                            Traceback (most recent call last)",
            "\u001b[0;32m<ipython-input-105-6bc2ae04114b>\u001b[0m in \u001b[0;36m<module>\u001b[0;34m()\u001b[0m\n\u001b[1;32m      1\u001b[0m \u001b[0;32mfrom\u001b[0m \u001b[0mscipy\u001b[0m\u001b[0;34m.\u001b[0m\u001b[0mstats\u001b[0m \u001b[0;32mimport\u001b[0m \u001b[0mzscore\u001b[0m\u001b[0;34m\u001b[0m\u001b[0;34m\u001b[0m\u001b[0m\n\u001b[0;32m----> 2\u001b[0;31m \u001b[0mdf\u001b[0m\u001b[0;34m[\u001b[0m\u001b[0;34m'zscore_TRIM'\u001b[0m\u001b[0;34m]\u001b[0m \u001b[0;34m=\u001b[0m \u001b[0mzscore\u001b[0m\u001b[0;34m(\u001b[0m\u001b[0mdf\u001b[0m\u001b[0;34m.\u001b[0m\u001b[0mTRIM_Index\u001b[0m\u001b[0;34m)\u001b[0m\u001b[0;34m\u001b[0m\u001b[0;34m\u001b[0m\u001b[0m\n\u001b[0m\u001b[1;32m      3\u001b[0m \u001b[0mdf\u001b[0m\u001b[0;34m.\u001b[0m\u001b[0mhead\u001b[0m\u001b[0;34m(\u001b[0m\u001b[0;34m)\u001b[0m\u001b[0;34m\u001b[0m\u001b[0;34m\u001b[0m\u001b[0m\n",
            "\u001b[0;31mAttributeError\u001b[0m: 'numpy.ndarray' object has no attribute 'TRIM_Index'"
          ]
        }
      ]
    },
    {
      "cell_type": "code",
      "metadata": {
        "colab": {
          "base_uri": "https://localhost:8080/",
          "height": 69
        },
        "id": "N8EbrXEYadzE",
        "outputId": "f665dd4c-f090-4a73-ffe9-5875aab66f9d"
      },
      "source": [
        "df[(df.zscore_TRIM> 3) | (df.zscore_TRIM < -3)]"
      ],
      "execution_count": null,
      "outputs": [
        {
          "output_type": "execute_result",
          "data": {
            "text/html": [
              "<div>\n",
              "<style scoped>\n",
              "    .dataframe tbody tr th:only-of-type {\n",
              "        vertical-align: middle;\n",
              "    }\n",
              "\n",
              "    .dataframe tbody tr th {\n",
              "        vertical-align: top;\n",
              "    }\n",
              "\n",
              "    .dataframe thead th {\n",
              "        text-align: right;\n",
              "    }\n",
              "</style>\n",
              "<table border=\"1\" class=\"dataframe\">\n",
              "  <thead>\n",
              "    <tr style=\"text-align: right;\">\n",
              "      <th></th>\n",
              "      <th>Current_connection</th>\n",
              "      <th>Region</th>\n",
              "      <th>Nationality</th>\n",
              "      <th>Gender</th>\n",
              "      <th>Exact_Age</th>\n",
              "      <th>Connection</th>\n",
              "      <th>Segment</th>\n",
              "      <th>Performance</th>\n",
              "      <th>Preference</th>\n",
              "      <th>TRIM_Index</th>\n",
              "      <th>Communication</th>\n",
              "      <th>Proposition</th>\n",
              "      <th>Sales_Experience</th>\n",
              "      <th>Opt_inout</th>\n",
              "      <th>Network_Satisfaction</th>\n",
              "      <th>Customer_Support</th>\n",
              "      <th>Billing_Payment</th>\n",
              "      <th>Digital_performance</th>\n",
              "      <th>zscore_TRIM</th>\n",
              "    </tr>\n",
              "  </thead>\n",
              "  <tbody>\n",
              "  </tbody>\n",
              "</table>\n",
              "</div>"
            ],
            "text/plain": [
              "Empty DataFrame\n",
              "Columns: [Current_connection, Region, Nationality, Gender, Exact_Age, Connection, Segment, Performance, Preference, TRIM_Index, Communication, Proposition, Sales_Experience, Opt_inout, Network_Satisfaction, Customer_Support, Billing_Payment, Digital_performance, zscore_TRIM]\n",
              "Index: []"
            ]
          },
          "metadata": {
            "tags": []
          },
          "execution_count": 70
        }
      ]
    },
    {
      "cell_type": "code",
      "metadata": {
        "colab": {
          "base_uri": "https://localhost:8080/",
          "height": 401
        },
        "id": "UHQRznzvcnPQ",
        "outputId": "c39682bf-4f2a-46f5-b6ff-4a4cc1ce22be"
      },
      "source": [
        "plt.boxplot(df.TRIM_Index)"
      ],
      "execution_count": null,
      "outputs": [
        {
          "output_type": "execute_result",
          "data": {
            "text/plain": [
              "{'boxes': [<matplotlib.lines.Line2D at 0x7fc1b37d3780>],\n",
              " 'caps': [<matplotlib.lines.Line2D at 0x7fc1b37611d0>,\n",
              "  <matplotlib.lines.Line2D at 0x7fc1b3761550>],\n",
              " 'fliers': [<matplotlib.lines.Line2D at 0x7fc1b3761c50>],\n",
              " 'means': [],\n",
              " 'medians': [<matplotlib.lines.Line2D at 0x7fc1b37618d0>],\n",
              " 'whiskers': [<matplotlib.lines.Line2D at 0x7fc1b37d3a90>,\n",
              "  <matplotlib.lines.Line2D at 0x7fc1b37d3e10>]}"
            ]
          },
          "metadata": {
            "tags": []
          },
          "execution_count": 71
        },
        {
          "output_type": "display_data",
          "data": {
            "image/png": "[encoded data removed]",
            "text/plain": [
              "<Figure size 432x288 with 1 Axes>"
            ]
          },
          "metadata": {
            "tags": [],
            "needs_background": "light"
          }
        }
      ]
    },
    {
      "cell_type": "code",
      "metadata": {
        "id": "R3QhK-awbSst"
      },
      "source": [
        "## No outliers are identified so, we will proceed with the full dataset"
      ],
      "execution_count": null,
      "outputs": []
    },
    {
      "cell_type": "markdown",
      "metadata": {
        "id": "pdhR58QJcXtY"
      },
      "source": [
        "**Check for Multicollinearity**`"
      ]
    },
    {
      "cell_type": "code",
      "metadata": {
        "colab": {
          "base_uri": "https://localhost:8080/",
          "height": 708
        },
        "id": "2nSNyUV9cRcd",
        "outputId": "c7f6445a-3006-4478-c2a0-98b4e0dad6f4"
      },
      "source": [
        "plt.figure(figsize = (12,10))\r\n",
        "sns.heatmap(df.corr())"
      ],
      "execution_count": null,
      "outputs": [
        {
          "output_type": "execute_result",
          "data": {
            "text/plain": [
              "<matplotlib.axes._subplots.AxesSubplot at 0x7fc1b37d3908>"
            ]
          },
          "metadata": {
            "tags": []
          },
          "execution_count": 73
        },
        {
          "output_type": "display_data",
          "data": {
            "image/png": "[encoded data removed]",
            "text/plain": [
              "<Figure size 864x720 with 2 Axes>"
            ]
          },
          "metadata": {
            "tags": [],
            "needs_background": "light"
          }
        }
      ]
    },
    {
      "cell_type": "code",
      "metadata": {
        "id": "wimsMHNVeV_e"
      },
      "source": [
        "df_mobily = df[df['Current_connection']==3]"
      ],
      "execution_count": null,
      "outputs": []
    },
    {
      "cell_type": "code",
      "metadata": {
        "colab": {
          "base_uri": "https://localhost:8080/",
          "height": 224
        },
        "id": "cDqJNnqjhrLs",
        "outputId": "5e6fe567-a415-4102-eea8-6376d49f4a4b"
      },
      "source": [
        "df_mobily.head()"
      ],
      "execution_count": null,
      "outputs": [
        {
          "output_type": "execute_result",
          "data": {
            "text/html": [
              "<div>\n",
              "<style scoped>\n",
              "    .dataframe tbody tr th:only-of-type {\n",
              "        vertical-align: middle;\n",
              "    }\n",
              "\n",
              "    .dataframe tbody tr th {\n",
              "        vertical-align: top;\n",
              "    }\n",
              "\n",
              "    .dataframe thead th {\n",
              "        text-align: right;\n",
              "    }\n",
              "</style>\n",
              "<table border=\"1\" class=\"dataframe\">\n",
              "  <thead>\n",
              "    <tr style=\"text-align: right;\">\n",
              "      <th></th>\n",
              "      <th>Current_connection</th>\n",
              "      <th>Region</th>\n",
              "      <th>Nationality</th>\n",
              "      <th>Gender</th>\n",
              "      <th>Exact_Age</th>\n",
              "      <th>Connection</th>\n",
              "      <th>Segment</th>\n",
              "      <th>Performance</th>\n",
              "      <th>Preference</th>\n",
              "      <th>TRIM_Index</th>\n",
              "      <th>Communication</th>\n",
              "      <th>Proposition</th>\n",
              "      <th>Sales_Experience</th>\n",
              "      <th>Opt_inout</th>\n",
              "      <th>Network_Satisfaction</th>\n",
              "      <th>Customer_Support</th>\n",
              "      <th>Billing_Payment</th>\n",
              "      <th>Digital_performance</th>\n",
              "      <th>zscore_TRIM</th>\n",
              "    </tr>\n",
              "  </thead>\n",
              "  <tbody>\n",
              "    <tr>\n",
              "      <th>0</th>\n",
              "      <td>3</td>\n",
              "      <td>5</td>\n",
              "      <td>2</td>\n",
              "      <td>0</td>\n",
              "      <td>8</td>\n",
              "      <td>2</td>\n",
              "      <td>2</td>\n",
              "      <td>4</td>\n",
              "      <td>3</td>\n",
              "      <td>125</td>\n",
              "      <td>0</td>\n",
              "      <td>10</td>\n",
              "      <td>10</td>\n",
              "      <td>10</td>\n",
              "      <td>10</td>\n",
              "      <td>10</td>\n",
              "      <td>10</td>\n",
              "      <td>8</td>\n",
              "      <td>0.685403</td>\n",
              "    </tr>\n",
              "    <tr>\n",
              "      <th>1</th>\n",
              "      <td>3</td>\n",
              "      <td>5</td>\n",
              "      <td>1</td>\n",
              "      <td>1</td>\n",
              "      <td>20</td>\n",
              "      <td>2</td>\n",
              "      <td>5</td>\n",
              "      <td>4</td>\n",
              "      <td>4</td>\n",
              "      <td>150</td>\n",
              "      <td>5</td>\n",
              "      <td>7</td>\n",
              "      <td>10</td>\n",
              "      <td>8</td>\n",
              "      <td>9</td>\n",
              "      <td>10</td>\n",
              "      <td>10</td>\n",
              "      <td>8</td>\n",
              "      <td>1.159336</td>\n",
              "    </tr>\n",
              "    <tr>\n",
              "      <th>2</th>\n",
              "      <td>3</td>\n",
              "      <td>5</td>\n",
              "      <td>1</td>\n",
              "      <td>1</td>\n",
              "      <td>17</td>\n",
              "      <td>2</td>\n",
              "      <td>5</td>\n",
              "      <td>2</td>\n",
              "      <td>2</td>\n",
              "      <td>50</td>\n",
              "      <td>5</td>\n",
              "      <td>3</td>\n",
              "      <td>10</td>\n",
              "      <td>9</td>\n",
              "      <td>7</td>\n",
              "      <td>10</td>\n",
              "      <td>10</td>\n",
              "      <td>8</td>\n",
              "      <td>-0.736396</td>\n",
              "    </tr>\n",
              "    <tr>\n",
              "      <th>3</th>\n",
              "      <td>3</td>\n",
              "      <td>0</td>\n",
              "      <td>2</td>\n",
              "      <td>1</td>\n",
              "      <td>16</td>\n",
              "      <td>0</td>\n",
              "      <td>4</td>\n",
              "      <td>1</td>\n",
              "      <td>0</td>\n",
              "      <td>-25</td>\n",
              "      <td>5</td>\n",
              "      <td>4</td>\n",
              "      <td>10</td>\n",
              "      <td>5</td>\n",
              "      <td>4</td>\n",
              "      <td>4</td>\n",
              "      <td>6</td>\n",
              "      <td>5</td>\n",
              "      <td>-2.158194</td>\n",
              "    </tr>\n",
              "    <tr>\n",
              "      <th>4</th>\n",
              "      <td>3</td>\n",
              "      <td>4</td>\n",
              "      <td>0</td>\n",
              "      <td>1</td>\n",
              "      <td>1</td>\n",
              "      <td>2</td>\n",
              "      <td>1</td>\n",
              "      <td>4</td>\n",
              "      <td>4</td>\n",
              "      <td>150</td>\n",
              "      <td>10</td>\n",
              "      <td>10</td>\n",
              "      <td>10</td>\n",
              "      <td>10</td>\n",
              "      <td>10</td>\n",
              "      <td>10</td>\n",
              "      <td>10</td>\n",
              "      <td>8</td>\n",
              "      <td>1.159336</td>\n",
              "    </tr>\n",
              "  </tbody>\n",
              "</table>\n",
              "</div>"
            ],
            "text/plain": [
              "   Current_connection  Region  ...  Digital_performance  zscore_TRIM\n",
              "0                   3       5  ...                    8     0.685403\n",
              "1                   3       5  ...                    8     1.159336\n",
              "2                   3       5  ...                    8    -0.736396\n",
              "3                   3       0  ...                    5    -2.158194\n",
              "4                   3       4  ...                    8     1.159336\n",
              "\n",
              "[5 rows x 19 columns]"
            ]
          },
          "metadata": {
            "tags": []
          },
          "execution_count": 75
        }
      ]
    },
    {
      "cell_type": "code",
      "metadata": {
        "colab": {
          "base_uri": "https://localhost:8080/"
        },
        "id": "Nubr8boNhtfz",
        "outputId": "6ce3ba45-2d8b-426e-c474-bade475fc364"
      },
      "source": [
        "df_mobily.shape"
      ],
      "execution_count": null,
      "outputs": [
        {
          "output_type": "execute_result",
          "data": {
            "text/plain": [
              "(14570, 19)"
            ]
          },
          "metadata": {
            "tags": []
          },
          "execution_count": 76
        }
      ]
    },
    {
      "cell_type": "code",
      "metadata": {
        "colab": {
          "base_uri": "https://localhost:8080/"
        },
        "id": "ApMi2nR3pHjZ",
        "outputId": "f6e6a87f-2eab-426e-ff4c-9c064a52d0a2"
      },
      "source": [
        "df_mobily.drop(['Exact_Age','Performance', 'Preference'],axis = 1, inplace = True)"
      ],
      "execution_count": null,
      "outputs": [
        {
          "output_type": "stream",
          "text": [
            "/usr/local/lib/python3.6/dist-packages/pandas/core/frame.py:4174: SettingWithCopyWarning: \n",
            "A value is trying to be set on a copy of a slice from a DataFrame\n",
            "\n",
            "See the caveats in the documentation: https://pandas.pydata.org/pandas-docs/stable/user_guide/indexing.html#returning-a-view-versus-a-copy\n",
            "  errors=errors,\n"
          ],
          "name": "stderr"
        }
      ]
    },
    {
      "cell_type": "code",
      "metadata": {
        "colab": {
          "base_uri": "https://localhost:8080/",
          "height": 204
        },
        "id": "eo7knoAmrbjL",
        "outputId": "9c142566-c25e-4439-f38b-c1136974d616"
      },
      "source": [
        "df_mobily.head()"
      ],
      "execution_count": null,
      "outputs": [
        {
          "output_type": "execute_result",
          "data": {
            "text/html": [
              "<div>\n",
              "<style scoped>\n",
              "    .dataframe tbody tr th:only-of-type {\n",
              "        vertical-align: middle;\n",
              "    }\n",
              "\n",
              "    .dataframe tbody tr th {\n",
              "        vertical-align: top;\n",
              "    }\n",
              "\n",
              "    .dataframe thead th {\n",
              "        text-align: right;\n",
              "    }\n",
              "</style>\n",
              "<table border=\"1\" class=\"dataframe\">\n",
              "  <thead>\n",
              "    <tr style=\"text-align: right;\">\n",
              "      <th></th>\n",
              "      <th>Current_connection</th>\n",
              "      <th>Region</th>\n",
              "      <th>Nationality</th>\n",
              "      <th>Gender</th>\n",
              "      <th>Connection</th>\n",
              "      <th>Segment</th>\n",
              "      <th>TRIM_Index</th>\n",
              "      <th>Communication</th>\n",
              "      <th>Proposition</th>\n",
              "      <th>Sales_Experience</th>\n",
              "      <th>Opt_inout</th>\n",
              "      <th>Network_Satisfaction</th>\n",
              "      <th>Customer_Support</th>\n",
              "      <th>Billing_Payment</th>\n",
              "      <th>Digital_performance</th>\n",
              "      <th>zscore_TRIM</th>\n",
              "    </tr>\n",
              "  </thead>\n",
              "  <tbody>\n",
              "    <tr>\n",
              "      <th>0</th>\n",
              "      <td>3</td>\n",
              "      <td>5</td>\n",
              "      <td>2</td>\n",
              "      <td>0</td>\n",
              "      <td>2</td>\n",
              "      <td>2</td>\n",
              "      <td>125</td>\n",
              "      <td>0</td>\n",
              "      <td>10</td>\n",
              "      <td>10</td>\n",
              "      <td>10</td>\n",
              "      <td>10</td>\n",
              "      <td>10</td>\n",
              "      <td>10</td>\n",
              "      <td>8</td>\n",
              "      <td>0.685403</td>\n",
              "    </tr>\n",
              "    <tr>\n",
              "      <th>1</th>\n",
              "      <td>3</td>\n",
              "      <td>5</td>\n",
              "      <td>1</td>\n",
              "      <td>1</td>\n",
              "      <td>2</td>\n",
              "      <td>5</td>\n",
              "      <td>150</td>\n",
              "      <td>5</td>\n",
              "      <td>7</td>\n",
              "      <td>10</td>\n",
              "      <td>8</td>\n",
              "      <td>9</td>\n",
              "      <td>10</td>\n",
              "      <td>10</td>\n",
              "      <td>8</td>\n",
              "      <td>1.159336</td>\n",
              "    </tr>\n",
              "    <tr>\n",
              "      <th>2</th>\n",
              "      <td>3</td>\n",
              "      <td>5</td>\n",
              "      <td>1</td>\n",
              "      <td>1</td>\n",
              "      <td>2</td>\n",
              "      <td>5</td>\n",
              "      <td>50</td>\n",
              "      <td>5</td>\n",
              "      <td>3</td>\n",
              "      <td>10</td>\n",
              "      <td>9</td>\n",
              "      <td>7</td>\n",
              "      <td>10</td>\n",
              "      <td>10</td>\n",
              "      <td>8</td>\n",
              "      <td>-0.736396</td>\n",
              "    </tr>\n",
              "    <tr>\n",
              "      <th>3</th>\n",
              "      <td>3</td>\n",
              "      <td>0</td>\n",
              "      <td>2</td>\n",
              "      <td>1</td>\n",
              "      <td>0</td>\n",
              "      <td>4</td>\n",
              "      <td>-25</td>\n",
              "      <td>5</td>\n",
              "      <td>4</td>\n",
              "      <td>10</td>\n",
              "      <td>5</td>\n",
              "      <td>4</td>\n",
              "      <td>4</td>\n",
              "      <td>6</td>\n",
              "      <td>5</td>\n",
              "      <td>-2.158194</td>\n",
              "    </tr>\n",
              "    <tr>\n",
              "      <th>4</th>\n",
              "      <td>3</td>\n",
              "      <td>4</td>\n",
              "      <td>0</td>\n",
              "      <td>1</td>\n",
              "      <td>2</td>\n",
              "      <td>1</td>\n",
              "      <td>150</td>\n",
              "      <td>10</td>\n",
              "      <td>10</td>\n",
              "      <td>10</td>\n",
              "      <td>10</td>\n",
              "      <td>10</td>\n",
              "      <td>10</td>\n",
              "      <td>10</td>\n",
              "      <td>8</td>\n",
              "      <td>1.159336</td>\n",
              "    </tr>\n",
              "  </tbody>\n",
              "</table>\n",
              "</div>"
            ],
            "text/plain": [
              "   Current_connection  Region  ...  Digital_performance  zscore_TRIM\n",
              "0                   3       5  ...                    8     0.685403\n",
              "1                   3       5  ...                    8     1.159336\n",
              "2                   3       5  ...                    8    -0.736396\n",
              "3                   3       0  ...                    5    -2.158194\n",
              "4                   3       4  ...                    8     1.159336\n",
              "\n",
              "[5 rows x 16 columns]"
            ]
          },
          "metadata": {
            "tags": []
          },
          "execution_count": 78
        }
      ]
    },
    {
      "cell_type": "code",
      "metadata": {
        "id": "VoBqIXdruOkD"
      },
      "source": [
        ""
      ],
      "execution_count": null,
      "outputs": []
    },
    {
      "cell_type": "markdown",
      "metadata": {
        "id": "94RydXE-sf0A"
      },
      "source": [
        "Check for Multi colinearity"
      ]
    },
    {
      "cell_type": "code",
      "metadata": {
        "id": "4Q4wWWbvsdvb"
      },
      "source": [
        "df_mobily_x= df_mobily.drop('TRIM_Index',axis =1)"
      ],
      "execution_count": null,
      "outputs": []
    },
    {
      "cell_type": "code",
      "metadata": {
        "colab": {
          "base_uri": "https://localhost:8080/",
          "height": 816
        },
        "id": "0cqVB3r9s_Gb",
        "outputId": "39ecae6a-a692-42e0-b20f-650daf1bd9ef"
      },
      "source": [
        "plt.figure(figsize=(20,12))\r\n",
        "sns.heatmap(df_mobily_x.corr(), annot = True)"
      ],
      "execution_count": null,
      "outputs": [
        {
          "output_type": "execute_result",
          "data": {
            "text/plain": [
              "<matplotlib.axes._subplots.AxesSubplot at 0x7fc1b368e9b0>"
            ]
          },
          "metadata": {
            "tags": []
          },
          "execution_count": 80
        },
        {
          "output_type": "display_data",
          "data": {
            "image/png": "[encoded data removed]",
            "text/plain": [
              "<Figure size 1440x864 with 2 Axes>"
            ]
          },
          "metadata": {
            "tags": [],
            "needs_background": "light"
          }
        }
      ]
    },
    {
      "cell_type": "markdown",
      "metadata": {
        "id": "p0kuYWDHiqgt"
      },
      "source": [
        "**Model Building**"
      ]
    },
    {
      "cell_type": "code",
      "metadata": {
        "id": "W8EzcT6DiXEL"
      },
      "source": [
        "from sklearn.model_selection import train_test_split\r\n",
        "from sklearn.linear_model import LinearRegression"
      ],
      "execution_count": null,
      "outputs": []
    },
    {
      "cell_type": "code",
      "metadata": {
        "id": "4z79-MKl1tXG"
      },
      "source": [
        "lr = LinearRegression()"
      ],
      "execution_count": null,
      "outputs": []
    },
    {
      "cell_type": "code",
      "metadata": {
        "id": "OkHj2smo1wk7"
      },
      "source": [
        "x = df_mobily_x\r\n",
        "y= df_mobily['TRIM_Index']"
      ],
      "execution_count": null,
      "outputs": []
    },
    {
      "cell_type": "code",
      "metadata": {
        "id": "jWlj6pFp2Oqv"
      },
      "source": [
        "lr = LinearRegression()\r\n",
        "x_train,x_test,y_train,y_test = train_test_split(x,y,test_size = 0.3, random_state = 5)"
      ],
      "execution_count": null,
      "outputs": []
    },
    {
      "cell_type": "code",
      "metadata": {
        "colab": {
          "base_uri": "https://localhost:8080/"
        },
        "id": "3QRmylK52S9v",
        "outputId": "327e0509-924b-40b3-b723-baba57379cb7"
      },
      "source": [
        "lr.fit(x_train, y_train)"
      ],
      "execution_count": null,
      "outputs": [
        {
          "output_type": "execute_result",
          "data": {
            "text/plain": [
              "LinearRegression(copy_X=True, fit_intercept=True, n_jobs=None, normalize=False)"
            ]
          },
          "metadata": {
            "tags": []
          },
          "execution_count": 85
        }
      ]
    },
    {
      "cell_type": "code",
      "metadata": {
        "colab": {
          "base_uri": "https://localhost:8080/"
        },
        "id": "_oa8FGQl2XoV",
        "outputId": "6dad6263-9813-475a-cb66-84e23fcd3cd7"
      },
      "source": [
        "y_pred= lr.predict(x_test)\r\n",
        "y_pred"
      ],
      "execution_count": null,
      "outputs": [
        {
          "output_type": "execute_result",
          "data": {
            "text/plain": [
              "array([150.,  75., -25., ..., 125.,  50., 125.])"
            ]
          },
          "metadata": {
            "tags": []
          },
          "execution_count": 86
        }
      ]
    },
    {
      "cell_type": "code",
      "metadata": {
        "colab": {
          "base_uri": "https://localhost:8080/"
        },
        "id": "n-7JBeX32d6F",
        "outputId": "dbc01d8a-6600-4942-cbad-34bab3803ba3"
      },
      "source": [
        "y_test"
      ],
      "execution_count": null,
      "outputs": [
        {
          "output_type": "execute_result",
          "data": {
            "text/plain": [
              "1464     150\n",
              "6376      75\n",
              "15934    -25\n",
              "19200     25\n",
              "13081    150\n",
              "        ... \n",
              "18744    150\n",
              "10333    150\n",
              "15342    125\n",
              "13230     50\n",
              "25988    125\n",
              "Name: TRIM_Index, Length: 4371, dtype: int64"
            ]
          },
          "metadata": {
            "tags": []
          },
          "execution_count": 87
        }
      ]
    },
    {
      "cell_type": "code",
      "metadata": {
        "id": "zeJGgGD32ibU"
      },
      "source": [
        "from sklearn.metrics import mean_squared_error, r2_score"
      ],
      "execution_count": null,
      "outputs": []
    },
    {
      "cell_type": "code",
      "metadata": {
        "colab": {
          "base_uri": "https://localhost:8080/"
        },
        "id": "aQxHC3KI2pvS",
        "outputId": "d43efdfc-38e7-442f-e7dc-b4c77041b64c"
      },
      "source": [
        "lr.score(x_test,y_test)"
      ],
      "execution_count": null,
      "outputs": [
        {
          "output_type": "execute_result",
          "data": {
            "text/plain": [
              "1.0"
            ]
          },
          "metadata": {
            "tags": []
          },
          "execution_count": 89
        }
      ]
    },
    {
      "cell_type": "code",
      "metadata": {
        "colab": {
          "base_uri": "https://localhost:8080/"
        },
        "id": "-V7rymDQ2tgz",
        "outputId": "853ea47a-c362-493f-dd07-6bea9ff1d688"
      },
      "source": [
        "mse= mean_squared_error(y_pred,y_test)\r\n",
        "print(mse)"
      ],
      "execution_count": null,
      "outputs": [
        {
          "output_type": "stream",
          "text": [
            "1.947697755466749e-27\n"
          ],
          "name": "stdout"
        }
      ]
    },
    {
      "cell_type": "code",
      "metadata": {
        "colab": {
          "base_uri": "https://localhost:8080/"
        },
        "id": "pAOSNbnE2xhA",
        "outputId": "c50c2d8e-8b3b-4e73-9f09-a8df2e644551"
      },
      "source": [
        "from sklearn import metrics\r\n",
        "\r\n",
        "np.sqrt(metrics.mean_squared_error(y_pred, y_test))"
      ],
      "execution_count": null,
      "outputs": [
        {
          "output_type": "execute_result",
          "data": {
            "text/plain": [
              "4.413272884681786e-14"
            ]
          },
          "metadata": {
            "tags": []
          },
          "execution_count": 91
        }
      ]
    },
    {
      "cell_type": "code",
      "metadata": {
        "colab": {
          "base_uri": "https://localhost:8080/"
        },
        "id": "_MVmjoOG3cks",
        "outputId": "b8dce3cb-cb41-4b45-b1e9-4ea47b09113e"
      },
      "source": [
        "np.round(metrics.r2_score(y_pred, y_test),2)"
      ],
      "execution_count": null,
      "outputs": [
        {
          "output_type": "execute_result",
          "data": {
            "text/plain": [
              "1.0"
            ]
          },
          "metadata": {
            "tags": []
          },
          "execution_count": 92
        }
      ]
    },
    {
      "cell_type": "code",
      "metadata": {
        "colab": {
          "base_uri": "https://localhost:8080/",
          "height": 797
        },
        "id": "yPSQevpK3nEi",
        "outputId": "1106a273-7742-4ac7-a17a-be78192067c8"
      },
      "source": [
        "plt.figure(figsize=(20,12))\r\n",
        "sns.distplot(y_test - y_pred)"
      ],
      "execution_count": null,
      "outputs": [
        {
          "output_type": "stream",
          "text": [
            "/usr/local/lib/python3.6/dist-packages/seaborn/distributions.py:2557: FutureWarning: `distplot` is a deprecated function and will be removed in a future version. Please adapt your code to use either `displot` (a figure-level function with similar flexibility) or `histplot` (an axes-level function for histograms).\n",
            "  warnings.warn(msg, FutureWarning)\n"
          ],
          "name": "stderr"
        },
        {
          "output_type": "execute_result",
          "data": {
            "text/plain": [
              "<matplotlib.axes._subplots.AxesSubplot at 0x7fc1afd35898>"
            ]
          },
          "metadata": {
            "tags": []
          },
          "execution_count": 93
        },
        {
          "output_type": "display_data",
          "data": {
            "image/png": "[encoded data removed]",
            "text/plain": [
              "<Figure size 1440x864 with 1 Axes>"
            ]
          },
          "metadata": {
            "tags": [],
            "needs_background": "light"
          }
        }
      ]
    },
    {
      "cell_type": "code",
      "metadata": {
        "colab": {
          "base_uri": "https://localhost:8080/",
          "height": 717
        },
        "id": "4ICqYanQKGA9",
        "outputId": "9e345725-7727-4c8e-98f0-a8941322a1fb"
      },
      "source": [
        "plt.figure(figsize=(16,12))\r\n",
        "plt.scatter(y_test, y_pred)\r\n"
      ],
      "execution_count": null,
      "outputs": [
        {
          "output_type": "execute_result",
          "data": {
            "text/plain": [
              "<matplotlib.collections.PathCollection at 0x7fc1ad3fbb00>"
            ]
          },
          "metadata": {
            "tags": []
          },
          "execution_count": 94
        },
        {
          "output_type": "display_data",
          "data": {
            "image/png": "[encoded data removed]",
            "text/plain": [
              "<Figure size 1152x864 with 1 Axes>"
            ]
          },
          "metadata": {
            "tags": [],
            "needs_background": "light"
          }
        }
      ]
    },
    {
      "cell_type": "code",
      "metadata": {
        "id": "oOQhN-FZ3yVk"
      },
      "source": [
        ""
      ],
      "execution_count": null,
      "outputs": []
    },
    {
      "cell_type": "code",
      "metadata": {
        "id": "B0NwTT3Br1bU",
        "colab": {
          "base_uri": "https://localhost:8080/",
          "height": 282
        },
        "outputId": "b2f5e58c-6ff7-4eec-91be-d04301eb07be"
      },
      "source": [
        "plt.scatter (x= df_mobily['Proposition'], y = df_mobily['TRIM_Index'])"
      ],
      "execution_count": null,
      "outputs": [
        {
          "output_type": "execute_result",
          "data": {
            "text/plain": [
              "<matplotlib.collections.PathCollection at 0x7fc1b385c710>"
            ]
          },
          "metadata": {
            "tags": []
          },
          "execution_count": 95
        },
        {
          "output_type": "display_data",
          "data": {
            "image/png": "[encoded data removed]",
            "text/plain": [
              "<Figure size 432x288 with 1 Axes>"
            ]
          },
          "metadata": {
            "tags": [],
            "needs_background": "light"
          }
        }
      ]
    },
    {
      "cell_type": "code",
      "metadata": {
        "id": "i8qJwPQasIde",
        "colab": {
          "base_uri": "https://localhost:8080/",
          "height": 282
        },
        "outputId": "3316b60e-ba0f-41ef-b612-b6db90fa81fa"
      },
      "source": [
        "plt.scatter (x= df['Network_Satisfaction'].mean(), y = df['TRIM_Index'].mean())"
      ],
      "execution_count": null,
      "outputs": [
        {
          "output_type": "execute_result",
          "data": {
            "text/plain": [
              "<matplotlib.collections.PathCollection at 0x7fc1ad33e780>"
            ]
          },
          "metadata": {
            "tags": []
          },
          "execution_count": 96
        },
        {
          "output_type": "display_data",
          "data": {
            "image/png": "[encoded data removed]",
            "text/plain": [
              "<Figure size 432x288 with 1 Axes>"
            ]
          },
          "metadata": {
            "tags": [],
            "needs_background": "light"
          }
        }
      ]
    },
    {
      "cell_type": "code",
      "metadata": {
        "id": "wFjHnBOaso94",
        "colab": {
          "base_uri": "https://localhost:8080/",
          "height": 336
        },
        "outputId": "9f048769-6f22-4ec2-b8b1-4112fbf2e90f"
      },
      "source": [
        "sns.regplot(y_pred,y_test, data = df_mobily, color='r')"
      ],
      "execution_count": null,
      "outputs": [
        {
          "output_type": "stream",
          "text": [
            "/usr/local/lib/python3.6/dist-packages/seaborn/_decorators.py:43: FutureWarning: Pass the following variables as keyword args: x, y. From version 0.12, the only valid positional argument will be `data`, and passing other arguments without an explicit keyword will result in an error or misinterpretation.\n",
            "  FutureWarning\n"
          ],
          "name": "stderr"
        },
        {
          "output_type": "execute_result",
          "data": {
            "text/plain": [
              "<matplotlib.axes._subplots.AxesSubplot at 0x7fc1ad286080>"
            ]
          },
          "metadata": {
            "tags": []
          },
          "execution_count": 97
        },
        {
          "output_type": "display_data",
          "data": {
            "image/png": "[encoded data removed]",
            "text/plain": [
              "<Figure size 432x288 with 1 Axes>"
            ]
          },
          "metadata": {
            "tags": [],
            "needs_background": "light"
          }
        }
      ]
    },
    {
      "cell_type": "code",
      "metadata": {
        "id": "uJm1pm7rtbWB",
        "colab": {
          "base_uri": "https://localhost:8080/"
        },
        "outputId": "8faa5440-2c56-483e-944d-acb0d383d5b6"
      },
      "source": [
        "!pip install relativeimp"
      ],
      "execution_count": null,
      "outputs": [
        {
          "output_type": "stream",
          "text": [
            "Requirement already satisfied: relativeimp in /usr/local/lib/python3.6/dist-packages (0.0.2)\n",
            "Requirement already satisfied: numpy in /usr/local/lib/python3.6/dist-packages (from relativeimp) (1.19.5)\n",
            "Requirement already satisfied: pandas in /usr/local/lib/python3.6/dist-packages (from relativeimp) (1.1.5)\n",
            "Requirement already satisfied: python-dateutil>=2.7.3 in /usr/local/lib/python3.6/dist-packages (from pandas->relativeimp) (2.8.1)\n",
            "Requirement already satisfied: pytz>=2017.2 in /usr/local/lib/python3.6/dist-packages (from pandas->relativeimp) (2018.9)\n",
            "Requirement already satisfied: six>=1.5 in /usr/local/lib/python3.6/dist-packages (from python-dateutil>=2.7.3->pandas->relativeimp) (1.15.0)\n"
          ],
          "name": "stdout"
        }
      ]
    },
    {
      "cell_type": "code",
      "metadata": {
        "id": "7WnfoFdQXeFj"
      },
      "source": [
        "from relativeImp import relativeImp"
      ],
      "execution_count": null,
      "outputs": []
    },
    {
      "cell_type": "code",
      "metadata": {
        "id": "kz6y96xVYLv9",
        "colab": {
          "base_uri": "https://localhost:8080/"
        },
        "outputId": "87137f3d-1175-4125-f7c2-aabd167ebcec"
      },
      "source": [
        "df_mobily.columns"
      ],
      "execution_count": null,
      "outputs": [
        {
          "output_type": "execute_result",
          "data": {
            "text/plain": [
              "Index(['Current_connection', 'Region', 'Nationality', 'Gender', 'Connection',\n",
              "       'Segment', 'TRIM_Index', 'Communication', 'Proposition',\n",
              "       'Sales_Experience', 'Opt_inout', 'Network_Satisfaction',\n",
              "       'Customer_Support', 'Billing_Payment', 'Digital_performance',\n",
              "       'zscore_TRIM'],\n",
              "      dtype='object')"
            ]
          },
          "metadata": {
            "tags": []
          },
          "execution_count": 100
        }
      ]
    },
    {
      "cell_type": "code",
      "metadata": {
        "id": "LSkALNyuYlJ0",
        "colab": {
          "base_uri": "https://localhost:8080/",
          "height": 297
        },
        "outputId": "1a6af10a-94a3-43b2-c0c1-ba3fbe506194"
      },
      "source": [
        "xNames = ['Communication','Proposition', 'Sales_Experience','Opt_inout','Network_Satisfaction', 'Customer_Support','Billing_Payment', 'Digital_performance']\r\n",
        "yName = 'TRIM_Index'\r\n",
        "\r\n",
        "df_results = relativeImp(df_mobily, outcomeName = yName, driverNames = xNames)\r\n",
        "df_results"
      ],
      "execution_count": null,
      "outputs": [
        {
          "output_type": "execute_result",
          "data": {
            "text/html": [
              "<div>\n",
              "<style scoped>\n",
              "    .dataframe tbody tr th:only-of-type {\n",
              "        vertical-align: middle;\n",
              "    }\n",
              "\n",
              "    .dataframe tbody tr th {\n",
              "        vertical-align: top;\n",
              "    }\n",
              "\n",
              "    .dataframe thead th {\n",
              "        text-align: right;\n",
              "    }\n",
              "</style>\n",
              "<table border=\"1\" class=\"dataframe\">\n",
              "  <thead>\n",
              "    <tr style=\"text-align: right;\">\n",
              "      <th></th>\n",
              "      <th>driver</th>\n",
              "      <th>rawRelaImpt</th>\n",
              "      <th>normRelaImpt</th>\n",
              "    </tr>\n",
              "  </thead>\n",
              "  <tbody>\n",
              "    <tr>\n",
              "      <th>0</th>\n",
              "      <td>Communication</td>\n",
              "      <td>0.048280</td>\n",
              "      <td>10.039567</td>\n",
              "    </tr>\n",
              "    <tr>\n",
              "      <th>1</th>\n",
              "      <td>Proposition</td>\n",
              "      <td>0.082035</td>\n",
              "      <td>17.058690</td>\n",
              "    </tr>\n",
              "    <tr>\n",
              "      <th>2</th>\n",
              "      <td>Sales_Experience</td>\n",
              "      <td>0.000978</td>\n",
              "      <td>0.203358</td>\n",
              "    </tr>\n",
              "    <tr>\n",
              "      <th>3</th>\n",
              "      <td>Opt_inout</td>\n",
              "      <td>0.070087</td>\n",
              "      <td>14.574242</td>\n",
              "    </tr>\n",
              "    <tr>\n",
              "      <th>4</th>\n",
              "      <td>Network_Satisfaction</td>\n",
              "      <td>0.168849</td>\n",
              "      <td>35.111107</td>\n",
              "    </tr>\n",
              "    <tr>\n",
              "      <th>5</th>\n",
              "      <td>Customer_Support</td>\n",
              "      <td>0.014050</td>\n",
              "      <td>2.921699</td>\n",
              "    </tr>\n",
              "    <tr>\n",
              "      <th>6</th>\n",
              "      <td>Billing_Payment</td>\n",
              "      <td>0.074605</td>\n",
              "      <td>15.513670</td>\n",
              "    </tr>\n",
              "    <tr>\n",
              "      <th>7</th>\n",
              "      <td>Digital_performance</td>\n",
              "      <td>0.022014</td>\n",
              "      <td>4.577667</td>\n",
              "    </tr>\n",
              "  </tbody>\n",
              "</table>\n",
              "</div>"
            ],
            "text/plain": [
              "                 driver  rawRelaImpt  normRelaImpt\n",
              "0         Communication     0.048280     10.039567\n",
              "1           Proposition     0.082035     17.058690\n",
              "2      Sales_Experience     0.000978      0.203358\n",
              "3             Opt_inout     0.070087     14.574242\n",
              "4  Network_Satisfaction     0.168849     35.111107\n",
              "5      Customer_Support     0.014050      2.921699\n",
              "6       Billing_Payment     0.074605     15.513670\n",
              "7   Digital_performance     0.022014      4.577667"
            ]
          },
          "metadata": {
            "tags": []
          },
          "execution_count": 101
        }
      ]
    },
    {
      "cell_type": "code",
      "metadata": {
        "colab": {
          "base_uri": "https://localhost:8080/"
        },
        "id": "0s_WKWEukqSW",
        "outputId": "88510d2b-4f90-4f22-dd56-ab0bdd91b79d"
      },
      "source": [
        "lr.coef_"
      ],
      "execution_count": null,
      "outputs": [
        {
          "output_type": "execute_result",
          "data": {
            "text/plain": [
              "array([ 0.00000000e+00,  6.21724894e-15,  9.93649607e-15,  6.89726054e-15,\n",
              "        9.93649607e-15,  2.22044605e-16,  3.38618023e-15, -1.66533454e-15,\n",
              "       -1.40512602e-15,  7.32747196e-15,  3.44169138e-15, -4.94049246e-15,\n",
              "        4.32986980e-15,  1.86517468e-14,  5.27500835e+01])"
            ]
          },
          "metadata": {
            "tags": []
          },
          "execution_count": 102
        }
      ]
    },
    {
      "cell_type": "code",
      "metadata": {
        "colab": {
          "base_uri": "https://localhost:8080/"
        },
        "id": "hTym8XFGkvZp",
        "outputId": "82a6857a-2b04-4fd1-b667-ae0a2cec5c0a"
      },
      "source": [
        "lr.intercept_"
      ],
      "execution_count": null,
      "outputs": [
        {
          "output_type": "execute_result",
          "data": {
            "text/plain": [
              "88.84493670886049"
            ]
          },
          "metadata": {
            "tags": []
          },
          "execution_count": 103
        }
      ]
    },
    {
      "cell_type": "markdown",
      "metadata": {
        "id": "uUCPlZ0NcHsX"
      },
      "source": [
        ""
      ]
    }
  ]
}